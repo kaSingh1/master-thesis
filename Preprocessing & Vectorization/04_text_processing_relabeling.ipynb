{
 "cells": [
  {
   "cell_type": "code",
   "execution_count": 3,
   "metadata": {},
   "outputs": [],
   "source": [
    "import pandas as pd\n",
    "import string\n",
    "import nltk\n",
    "import xlsxwriter\n",
    "from nltk.corpus import stopwords\n",
    "from nltk.tokenize import RegexpTokenizer\n",
    "from nltk.stem import WordNetLemmatizer\n",
    "#from nltk.stem.porter import PorterStemmer\n",
    "from nltk.stem import SnowballStemmer"
   ]
  },
  {
   "cell_type": "code",
   "execution_count": 4,
   "metadata": {},
   "outputs": [],
   "source": [
    "pfad = \"/home/jupyter-karan_singh/FinalDataset/CleanData_FinalDataset_ForModel_V5.xlsx\""
   ]
  },
  {
   "cell_type": "code",
   "execution_count": 5,
   "metadata": {},
   "outputs": [],
   "source": [
    "news = pd.read_excel(pfad, index_col=None)"
   ]
  },
  {
   "cell_type": "code",
   "execution_count": 6,
   "metadata": {},
   "outputs": [],
   "source": [
    "def remove_punct(text):\n",
    "    no_punct = \"\".join([c for c in text if c not in string.punctuation])\n",
    "    return no_punct\n",
    "\n",
    "tokenizer = RegexpTokenizer(r'\\w+')"
   ]
  },
  {
   "cell_type": "code",
   "execution_count": 7,
   "metadata": {},
   "outputs": [],
   "source": [
    "def remove_stopwords(text):\n",
    "    words = [w for w in text if w not in stopwords.words(\"german\")]\n",
    "    return words\n",
    "\n",
    "porter = SnowballStemmer(\"german\")"
   ]
  },
  {
   "cell_type": "code",
   "execution_count": 8,
   "metadata": {},
   "outputs": [],
   "source": [
    "def porter_stem(text):\n",
    "    stem_text = [porter.stem(i) for i in text]\n",
    "    return stem_text"
   ]
  },
  {
   "cell_type": "code",
   "execution_count": 9,
   "metadata": {},
   "outputs": [],
   "source": [
    "def list_to_string(text):\n",
    "    \n",
    "    listToStr = ' '.join(map(str, text)) \n",
    "    return listToStr"
   ]
  },
  {
   "cell_type": "code",
   "execution_count": 10,
   "metadata": {},
   "outputs": [],
   "source": [
    "def preprocess_text_with_porter(df, old_col, new_col_list, new_col_str):\n",
    "    df[new_col_list] = df[old_col].apply(lambda x: remove_punct(x))\n",
    "    df[new_col_list] = df[new_col_list].apply(lambda x: tokenizer.tokenize(x.lower()))\n",
    "    #df[new_col] = df[new_col].apply(lambda x: remove_stopwords(x))\n",
    "    df[new_col_list] = df[new_col_list].apply(lambda x: porter_stem(x))\n",
    "    df[new_col_str] = df[new_col_list].apply(lambda x: list_to_string(x))\n",
    "    return df"
   ]
  },
  {
   "cell_type": "code",
   "execution_count": 11,
   "metadata": {},
   "outputs": [],
   "source": [
    "news = preprocess_text_with_porter(news, old_col=\"maintext\", new_col_list=\"NeuGenerierterText_list\", new_col_str=\"NeuGenerierterText_str\")\n",
    "\n",
    "news[\"Länge\"] = news.maintext.str.split().str.len()"
   ]
  },
  {
   "cell_type": "code",
   "execution_count": 12,
   "metadata": {},
   "outputs": [],
   "source": [
    "news.to_csv(\"/home/jupyter-karan_singh/FinalDataset/Stepwords_Clean_FinalDataset_ForModel_V5.csv\")\n",
    "writer = pd.ExcelWriter(\"/home/jupyter-karan_singh/FinalDataset/Stepwords_Clean_FinalDataset_ForModel_V5.xlsx\", engine='xlsxwriter')\n",
    "news.to_excel(writer, index = False, sheet_name='AlleDatensätze')"
   ]
  },
  {
   "cell_type": "code",
   "execution_count": null,
   "metadata": {},
   "outputs": [],
   "source": []
  }
 ],
 "metadata": {
  "kernelspec": {
   "display_name": "Python 3",
   "language": "python",
   "name": "python3"
  },
  "language_info": {
   "codemirror_mode": {
    "name": "ipython",
    "version": 3
   },
   "file_extension": ".py",
   "mimetype": "text/x-python",
   "name": "python",
   "nbconvert_exporter": "python",
   "pygments_lexer": "ipython3",
   "version": "3.6.8"
  }
 },
 "nbformat": 4,
 "nbformat_minor": 2
}
