{
  "nbformat": 4,
  "nbformat_minor": 0,
  "metadata": {
    "kernelspec": {
      "name": "python3",
      "display_name": "Python 3"
    },
    "colab": {
      "name": "05_TXT_generation.ipynb",
      "provenance": []
    },
    "accelerator": "GPU"
  },
  "cells": [
    {
      "cell_type": "code",
      "metadata": {
        "id": "6IOr0bq6o6IM"
      },
      "source": [
        "import numpy as np\n",
        "import pandas as pd\n",
        "from sklearn.utils import shuffle, resample"
      ],
      "execution_count": null,
      "outputs": []
    },
    {
      "cell_type": "code",
      "metadata": {
        "id": "iT6oSVmYo8O0",
        "colab": {
          "base_uri": "https://localhost:8080/"
        },
        "outputId": "d0ec459e-4325-4e83-d5e1-3f9ed097ac72"
      },
      "source": [
        "from google.colab import drive\r\n",
        "drive.mount('/content/drive')"
      ],
      "execution_count": null,
      "outputs": [
        {
          "output_type": "stream",
          "text": [
            "Drive already mounted at /content/drive; to attempt to forcibly remount, call drive.mount(\"/content/drive\", force_remount=True).\n"
          ],
          "name": "stdout"
        }
      ]
    },
    {
      "cell_type": "code",
      "metadata": {
        "id": "7FSzHAm7o6IN"
      },
      "source": [
        "news = pd.read_csv(\"/content/drive/MyDrive/Masterarbeit/Crawler/data/FinalDataset/CleanData_FinalDataset_ForModel_V5.csv\")"
      ],
      "execution_count": null,
      "outputs": []
    },
    {
      "cell_type": "code",
      "metadata": {
        "id": "eM9g_JG2o6IO"
      },
      "source": [
        "## Define function to txt file for each news"
      ],
      "execution_count": null,
      "outputs": []
    },
    {
      "cell_type": "code",
      "metadata": {
        "id": "4van8bu9o6IP"
      },
      "source": [
        "# Function to split the dataframe in train and test set without separating into feature and target column like scikit-learn\n",
        "def split_df_in_train_test(df):\n",
        "    df = df.reset_index().drop([\"index\"], axis=1)\n",
        "    split_point = int(np.round(df.shape[0]) * 0.8)\n",
        "    df_train = df.loc[:split_point-1, \"maintext\"]\n",
        "    df_test = df.loc[split_point:, \"maintext\"]\n",
        "    return df_train, df_test"
      ],
      "execution_count": null,
      "outputs": []
    },
    {
      "cell_type": "code",
      "metadata": {
        "id": "cdgQmK5Ho6IP"
      },
      "source": [
        "# Function to write one row (news) per dataframe as a txt.file\n",
        "def news_df_to_txt(dataframe, train_directory, test_directory, label):\n",
        "    \n",
        "    train, test = split_df_in_train_test(dataframe)\n",
        "    \n",
        "    for index, value in train.iteritems():\n",
        "        name = train_directory+label+\"/\"+label+\"_news_nr_{}.txt\".format(index)\n",
        "        file = open(name, mode=\"w\", encoding=\"utf8\")\n",
        "        file.write(value)\n",
        "        \n",
        "    for index, value in test.iteritems():\n",
        "        name = test_directory+label+\"/\"+label+\"_news_nr_{}.txt\".format(index)\n",
        "        file = open(name, mode=\"w\", encoding=\"utf8\")\n",
        "        file.write(value)\n",
        "        \n",
        "    file.close()"
      ],
      "execution_count": null,
      "outputs": []
    },
    {
      "cell_type": "code",
      "metadata": {
        "id": "0tzxhk-oo6IP"
      },
      "source": [
        "n_samples = 6000"
      ],
      "execution_count": null,
      "outputs": []
    },
    {
      "cell_type": "code",
      "metadata": {
        "id": "W-8S3tmho6IQ"
      },
      "source": [
        "## Generate txt files for the full experiment\n",
        "\n",
        "left_FE = resample(shuffle(news[(news[\"label\"]==\"links\")], random_state=42), \\\n",
        "         random_state=42, n_samples=n_samples)\n",
        "leanLeft_FE = resample(shuffle(news[(news[\"label\"]==\"halbLinks\")], random_state=42), \\\n",
        "         random_state=42, n_samples=n_samples)\n",
        "center_FE = resample(shuffle(news[(news[\"label\"]==\"central\")], random_state=42), \\\n",
        "         random_state=42, n_samples=n_samples)\n",
        "leanRight_FE = resample(shuffle(news[(news[\"label\"]==\"halbRechts\")], random_state=42), \\\n",
        "         random_state=42, n_samples=n_samples)\n",
        "right_FE = resample(shuffle(news[(news[\"label\"]==\"rechts\")], random_state=42), \\\n",
        "         random_state=42, n_samples=n_samples)\n",
        "\n",
        "FE_train_directory = \"/content/drive/MyDrive/Masterarbeit/PreparingCode_ForModel/Generated TXT Files_V5/train/\"\n",
        "FE_test_directory = \"/content/drive/MyDrive/Masterarbeit/PreparingCode_ForModel/Generated TXT Files_V5/test/\"\n",
        "\n",
        "news_df_to_txt(left_FE, FE_train_directory, FE_test_directory, \"links\")\n",
        "news_df_to_txt(leanLeft_FE, FE_train_directory, FE_test_directory, \"halbLinks\")\n",
        "news_df_to_txt(center_FE, FE_train_directory, FE_test_directory, \"central\")\n",
        "news_df_to_txt(leanRight_FE, FE_train_directory, FE_test_directory, \"halbRechts\")\n",
        "news_df_to_txt(right_FE, FE_train_directory, FE_test_directory, \"rechts\")"
      ],
      "execution_count": null,
      "outputs": []
    },
    {
      "cell_type": "code",
      "metadata": {
        "id": "RjOmigpdo6IQ"
      },
      "source": [
        ""
      ],
      "execution_count": null,
      "outputs": []
    }
  ]
}