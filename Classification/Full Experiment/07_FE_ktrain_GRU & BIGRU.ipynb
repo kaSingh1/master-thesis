{
  "nbformat": 4,
  "nbformat_minor": 0,
  "metadata": {
    "kernelspec": {
      "display_name": "Python [conda env:.conda-oezkan_thesis]",
      "language": "python",
      "name": "conda-env-.conda-oezkan_thesis-py"
    },
    "language_info": {
      "codemirror_mode": {
        "name": "ipython",
        "version": 3
      },
      "file_extension": ".py",
      "mimetype": "text/x-python",
      "name": "python",
      "nbconvert_exporter": "python",
      "pygments_lexer": "ipython3",
      "version": "3.8.3"
    },
    "colab": {
      "name": "08_FE_ktrain_classfiers.ipynb",
      "provenance": []
    },
    "accelerator": "GPU"
  },
  "cells": [
    {
      "cell_type": "code",
      "metadata": {
        "colab": {
          "base_uri": "https://localhost:8080/"
        },
        "id": "6TvncFZ1w7wV",
        "outputId": "3e5277d7-dc34-4c64-9a75-e4a95d9238a3"
      },
      "source": [
        "!pip install ktrain"
      ],
      "execution_count": 1,
      "outputs": [
        {
          "output_type": "stream",
          "text": [
            "Requirement already satisfied: ktrain in /usr/local/lib/python3.6/dist-packages (0.25.3)\n",
            "Requirement already satisfied: scikit-learn==0.23.2 in /usr/local/lib/python3.6/dist-packages (from ktrain) (0.23.2)\n",
            "Requirement already satisfied: joblib in /usr/local/lib/python3.6/dist-packages (from ktrain) (1.0.0)\n",
            "Requirement already satisfied: whoosh in /usr/local/lib/python3.6/dist-packages (from ktrain) (2.7.4)\n",
            "Requirement already satisfied: packaging in /usr/local/lib/python3.6/dist-packages (from ktrain) (20.8)\n",
            "Requirement already satisfied: langdetect in /usr/local/lib/python3.6/dist-packages (from ktrain) (1.0.8)\n",
            "Requirement already satisfied: sentencepiece in /usr/local/lib/python3.6/dist-packages (from ktrain) (0.1.95)\n",
            "Requirement already satisfied: seqeval==0.0.19 in /usr/local/lib/python3.6/dist-packages (from ktrain) (0.0.19)\n",
            "Requirement already satisfied: syntok in /usr/local/lib/python3.6/dist-packages (from ktrain) (1.3.1)\n",
            "Requirement already satisfied: cchardet in /usr/local/lib/python3.6/dist-packages (from ktrain) (2.1.7)\n",
            "Requirement already satisfied: transformers<4.0,>=3.1.0 in /usr/local/lib/python3.6/dist-packages (from ktrain) (3.5.1)\n",
            "Requirement already satisfied: pandas>=1.0.1 in /usr/local/lib/python3.6/dist-packages (from ktrain) (1.1.5)\n",
            "Requirement already satisfied: keras-bert>=0.86.0 in /usr/local/lib/python3.6/dist-packages (from ktrain) (0.86.0)\n",
            "Requirement already satisfied: requests in /usr/local/lib/python3.6/dist-packages (from ktrain) (2.23.0)\n",
            "Requirement already satisfied: fastprogress>=0.1.21 in /usr/local/lib/python3.6/dist-packages (from ktrain) (1.0.0)\n",
            "Requirement already satisfied: matplotlib>=3.0.0 in /usr/local/lib/python3.6/dist-packages (from ktrain) (3.2.2)\n",
            "Requirement already satisfied: ipython in /usr/local/lib/python3.6/dist-packages (from ktrain) (5.5.0)\n",
            "Requirement already satisfied: networkx>=2.3 in /usr/local/lib/python3.6/dist-packages (from ktrain) (2.5)\n",
            "Requirement already satisfied: jieba in /usr/local/lib/python3.6/dist-packages (from ktrain) (0.42.1)\n",
            "Requirement already satisfied: scipy>=0.19.1 in /usr/local/lib/python3.6/dist-packages (from scikit-learn==0.23.2->ktrain) (1.4.1)\n",
            "Requirement already satisfied: threadpoolctl>=2.0.0 in /usr/local/lib/python3.6/dist-packages (from scikit-learn==0.23.2->ktrain) (2.1.0)\n",
            "Requirement already satisfied: numpy>=1.13.3 in /usr/local/lib/python3.6/dist-packages (from scikit-learn==0.23.2->ktrain) (1.19.5)\n",
            "Requirement already satisfied: pyparsing>=2.0.2 in /usr/local/lib/python3.6/dist-packages (from packaging->ktrain) (2.4.7)\n",
            "Requirement already satisfied: six in /usr/local/lib/python3.6/dist-packages (from langdetect->ktrain) (1.15.0)\n",
            "Requirement already satisfied: Keras>=2.2.4 in /usr/local/lib/python3.6/dist-packages (from seqeval==0.0.19->ktrain) (2.4.3)\n",
            "Requirement already satisfied: regex in /usr/local/lib/python3.6/dist-packages (from syntok->ktrain) (2019.12.20)\n",
            "Requirement already satisfied: tokenizers==0.9.3 in /usr/local/lib/python3.6/dist-packages (from transformers<4.0,>=3.1.0->ktrain) (0.9.3)\n",
            "Requirement already satisfied: protobuf in /usr/local/lib/python3.6/dist-packages (from transformers<4.0,>=3.1.0->ktrain) (3.12.4)\n",
            "Requirement already satisfied: sacremoses in /usr/local/lib/python3.6/dist-packages (from transformers<4.0,>=3.1.0->ktrain) (0.0.43)\n",
            "Requirement already satisfied: dataclasses; python_version < \"3.7\" in /usr/local/lib/python3.6/dist-packages (from transformers<4.0,>=3.1.0->ktrain) (0.8)\n",
            "Requirement already satisfied: filelock in /usr/local/lib/python3.6/dist-packages (from transformers<4.0,>=3.1.0->ktrain) (3.0.12)\n",
            "Requirement already satisfied: tqdm>=4.27 in /usr/local/lib/python3.6/dist-packages (from transformers<4.0,>=3.1.0->ktrain) (4.41.1)\n",
            "Requirement already satisfied: pytz>=2017.2 in /usr/local/lib/python3.6/dist-packages (from pandas>=1.0.1->ktrain) (2018.9)\n",
            "Requirement already satisfied: python-dateutil>=2.7.3 in /usr/local/lib/python3.6/dist-packages (from pandas>=1.0.1->ktrain) (2.8.1)\n",
            "Requirement already satisfied: keras-transformer>=0.38.0 in /usr/local/lib/python3.6/dist-packages (from keras-bert>=0.86.0->ktrain) (0.38.0)\n",
            "Requirement already satisfied: certifi>=2017.4.17 in /usr/local/lib/python3.6/dist-packages (from requests->ktrain) (2020.12.5)\n",
            "Requirement already satisfied: chardet<4,>=3.0.2 in /usr/local/lib/python3.6/dist-packages (from requests->ktrain) (3.0.4)\n",
            "Requirement already satisfied: idna<3,>=2.5 in /usr/local/lib/python3.6/dist-packages (from requests->ktrain) (2.10)\n",
            "Requirement already satisfied: urllib3!=1.25.0,!=1.25.1,<1.26,>=1.21.1 in /usr/local/lib/python3.6/dist-packages (from requests->ktrain) (1.24.3)\n",
            "Requirement already satisfied: kiwisolver>=1.0.1 in /usr/local/lib/python3.6/dist-packages (from matplotlib>=3.0.0->ktrain) (1.3.1)\n",
            "Requirement already satisfied: cycler>=0.10 in /usr/local/lib/python3.6/dist-packages (from matplotlib>=3.0.0->ktrain) (0.10.0)\n",
            "Requirement already satisfied: pexpect; sys_platform != \"win32\" in /usr/local/lib/python3.6/dist-packages (from ipython->ktrain) (4.8.0)\n",
            "Requirement already satisfied: simplegeneric>0.8 in /usr/local/lib/python3.6/dist-packages (from ipython->ktrain) (0.8.1)\n",
            "Requirement already satisfied: pygments in /usr/local/lib/python3.6/dist-packages (from ipython->ktrain) (2.6.1)\n",
            "Requirement already satisfied: traitlets>=4.2 in /usr/local/lib/python3.6/dist-packages (from ipython->ktrain) (4.3.3)\n",
            "Requirement already satisfied: pickleshare in /usr/local/lib/python3.6/dist-packages (from ipython->ktrain) (0.7.5)\n",
            "Requirement already satisfied: setuptools>=18.5 in /usr/local/lib/python3.6/dist-packages (from ipython->ktrain) (51.1.1)\n",
            "Requirement already satisfied: decorator in /usr/local/lib/python3.6/dist-packages (from ipython->ktrain) (4.4.2)\n",
            "Requirement already satisfied: prompt-toolkit<2.0.0,>=1.0.4 in /usr/local/lib/python3.6/dist-packages (from ipython->ktrain) (1.0.18)\n",
            "Requirement already satisfied: h5py in /usr/local/lib/python3.6/dist-packages (from Keras>=2.2.4->seqeval==0.0.19->ktrain) (2.10.0)\n",
            "Requirement already satisfied: pyyaml in /usr/local/lib/python3.6/dist-packages (from Keras>=2.2.4->seqeval==0.0.19->ktrain) (3.13)\n",
            "Requirement already satisfied: click in /usr/local/lib/python3.6/dist-packages (from sacremoses->transformers<4.0,>=3.1.0->ktrain) (7.1.2)\n",
            "Requirement already satisfied: keras-position-wise-feed-forward>=0.6.0 in /usr/local/lib/python3.6/dist-packages (from keras-transformer>=0.38.0->keras-bert>=0.86.0->ktrain) (0.6.0)\n",
            "Requirement already satisfied: keras-pos-embd>=0.11.0 in /usr/local/lib/python3.6/dist-packages (from keras-transformer>=0.38.0->keras-bert>=0.86.0->ktrain) (0.11.0)\n",
            "Requirement already satisfied: keras-embed-sim>=0.8.0 in /usr/local/lib/python3.6/dist-packages (from keras-transformer>=0.38.0->keras-bert>=0.86.0->ktrain) (0.8.0)\n",
            "Requirement already satisfied: keras-multi-head>=0.27.0 in /usr/local/lib/python3.6/dist-packages (from keras-transformer>=0.38.0->keras-bert>=0.86.0->ktrain) (0.27.0)\n",
            "Requirement already satisfied: keras-layer-normalization>=0.14.0 in /usr/local/lib/python3.6/dist-packages (from keras-transformer>=0.38.0->keras-bert>=0.86.0->ktrain) (0.14.0)\n",
            "Requirement already satisfied: ptyprocess>=0.5 in /usr/local/lib/python3.6/dist-packages (from pexpect; sys_platform != \"win32\"->ipython->ktrain) (0.7.0)\n",
            "Requirement already satisfied: ipython-genutils in /usr/local/lib/python3.6/dist-packages (from traitlets>=4.2->ipython->ktrain) (0.2.0)\n",
            "Requirement already satisfied: wcwidth in /usr/local/lib/python3.6/dist-packages (from prompt-toolkit<2.0.0,>=1.0.4->ipython->ktrain) (0.2.5)\n",
            "Requirement already satisfied: keras-self-attention==0.46.0 in /usr/local/lib/python3.6/dist-packages (from keras-multi-head>=0.27.0->keras-transformer>=0.38.0->keras-bert>=0.86.0->ktrain) (0.46.0)\n"
          ],
          "name": "stdout"
        }
      ]
    },
    {
      "cell_type": "code",
      "metadata": {
        "id": "ngdXoSa6wy1_"
      },
      "source": [
        "import ktrain\n",
        "from ktrain import text"
      ],
      "execution_count": 2,
      "outputs": []
    },
    {
      "cell_type": "markdown",
      "metadata": {
        "id": "XLSvQP93wy2D"
      },
      "source": [
        "## Loading data"
      ]
    },
    {
      "cell_type": "code",
      "metadata": {
        "colab": {
          "base_uri": "https://localhost:8080/"
        },
        "id": "m2PUhJVKxBat",
        "outputId": "0dd170e9-6da2-4b37-fad3-d721c9bfafdb"
      },
      "source": [
        "from google.colab import drive\r\n",
        "drive.mount('/content/drive')"
      ],
      "execution_count": 3,
      "outputs": [
        {
          "output_type": "stream",
          "text": [
            "Drive already mounted at /content/drive; to attempt to forcibly remount, call drive.mount(\"/content/drive\", force_remount=True).\n"
          ],
          "name": "stdout"
        }
      ]
    },
    {
      "cell_type": "code",
      "metadata": {
        "colab": {
          "base_uri": "https://localhost:8080/"
        },
        "id": "sewyCVaizDWh",
        "outputId": "7835c107-5da2-4297-c426-5171b8ead495"
      },
      "source": [
        "ls /content/drive/MyDrive/Uni_Köln/Masterarbeit/Model/KERAS/GeneratedFiles2/"
      ],
      "execution_count": 4,
      "outputs": [
        {
          "output_type": "stream",
          "text": [
            "\u001b[0m\u001b[01;34mtest\u001b[0m/  \u001b[01;34mtrain\u001b[0m/\n"
          ],
          "name": "stdout"
        }
      ]
    },
    {
      "cell_type": "code",
      "metadata": {
        "id": "2E0hiEiJwy2E",
        "colab": {
          "base_uri": "https://localhost:8080/"
        },
        "outputId": "16c37923-988d-4f54-be18-cbb4e19fcf84"
      },
      "source": [
        "%%time\n",
        "trn, val, preproc = text.texts_from_folder(\"/content/drive/MyDrive/Uni_Köln/Masterarbeit/Model/KERAS/GeneratedFiles/\", \n",
        "                                           max_features=20000, maxlen=512, \n",
        "                                           ngram_range=1, \n",
        "                                           preprocess_mode='standard',\n",
        "                                           classes=['central', 'halbLinks', 'halbRechts', 'rechts', 'links'])"
      ],
      "execution_count": 5,
      "outputs": [
        {
          "output_type": "stream",
          "text": [
            "detected encoding: utf-8\n",
            "language: de\n",
            "Word Counts: 400882\n",
            "Nrows: 24000\n",
            "24000 train sequences\n",
            "train sequence lengths:\n",
            "\tmean : 429\n",
            "\t95percentile : 1315\n",
            "\t99percentile : 2505\n",
            "x_train shape: (24000,512)\n",
            "y_train shape: (24000, 5)\n",
            "Is Multi-Label? False\n",
            "6000 test sequences\n",
            "test sequence lengths:\n",
            "\tmean : 436\n",
            "\t95percentile : 1321\n",
            "\t99percentile : 2542\n",
            "x_test shape: (6000,512)\n",
            "y_test shape: (6000, 5)\n",
            "CPU times: user 31.6 s, sys: 4.99 s, total: 36.6 s\n",
            "Wall time: 1h 38min 53s\n"
          ],
          "name": "stdout"
        }
      ]
    },
    {
      "cell_type": "markdown",
      "metadata": {
        "id": "XdrAYmLJwy2F"
      },
      "source": [
        "## Inspection of available classifiers"
      ]
    },
    {
      "cell_type": "code",
      "metadata": {
        "id": "-Wv4Y1IDwy2F",
        "colab": {
          "base_uri": "https://localhost:8080/"
        },
        "outputId": "3f45e6ed-a669-4847-d1a8-74c8cf85039e"
      },
      "source": [
        "text.print_text_classifiers()"
      ],
      "execution_count": 6,
      "outputs": [
        {
          "output_type": "stream",
          "text": [
            "fasttext: a fastText-like model [http://arxiv.org/pdf/1607.01759.pdf]\n",
            "logreg: logistic regression using a trainable Embedding layer\n",
            "nbsvm: NBSVM model [http://www.aclweb.org/anthology/P12-2018]\n",
            "bigru: Bidirectional GRU with pretrained fasttext word vectors [https://fasttext.cc/docs/en/crawl-vectors.html]\n",
            "standard_gru: simple 2-layer GRU with randomly initialized embeddings\n",
            "bert: Bidirectional Encoder Representations from Transformers (BERT) from keras_bert [https://arxiv.org/abs/1810.04805]\n",
            "distilbert: distilled, smaller, and faster BERT from Hugging Face transformers [https://arxiv.org/abs/1910.01108]\n"
          ],
          "name": "stdout"
        }
      ]
    },
    {
      "cell_type": "markdown",
      "metadata": {
        "id": "zUJatQr5wy2G"
      },
      "source": [
        "### Applying the fasttext model (mod_17):"
      ]
    },
    {
      "cell_type": "code",
      "metadata": {
        "id": "gmEGHJ7nwy2G",
        "colab": {
          "base_uri": "https://localhost:8080/"
        },
        "outputId": "4cf8cad5-bc5a-4267-f854-e598555e5350"
      },
      "source": [
        "fasttext = text.text_classifier(\"fasttext\", trn, preproc=preproc)"
      ],
      "execution_count": 7,
      "outputs": [
        {
          "output_type": "stream",
          "text": [
            "Is Multi-Label? False\n",
            "compiling word ID features...\n",
            "maxlen is 512\n",
            "done.\n"
          ],
          "name": "stdout"
        }
      ]
    },
    {
      "cell_type": "code",
      "metadata": {
        "id": "dRTigl96wy2G"
      },
      "source": [
        "learner_ft = ktrain.get_learner(fasttext, train_data=trn, val_data=val)"
      ],
      "execution_count": 8,
      "outputs": []
    },
    {
      "cell_type": "code",
      "metadata": {
        "id": "S_zb-7bywy2H",
        "colab": {
          "base_uri": "https://localhost:8080/",
          "height": 539
        },
        "outputId": "982e945b-42dc-4b60-e720-b45bd2eb1e0c"
      },
      "source": [
        "learner_ft.lr_find(show_plot=True, max_epochs=5)"
      ],
      "execution_count": 9,
      "outputs": [
        {
          "output_type": "stream",
          "text": [
            "simulating training for different learning rates... this may take a few moments...\n",
            "Epoch 1/5\n",
            "750/750 [==============================] - 14s 15ms/step - loss: 2.1530 - accuracy: 0.2016\n",
            "Epoch 2/5\n",
            "750/750 [==============================] - 11s 15ms/step - loss: 2.1405 - accuracy: 0.2019\n",
            "Epoch 3/5\n",
            "750/750 [==============================] - 11s 15ms/step - loss: 1.8911 - accuracy: 0.2209\n",
            "Epoch 4/5\n",
            "750/750 [==============================] - 11s 15ms/step - loss: 1.4936 - accuracy: 0.3448\n",
            "Epoch 5/5\n",
            "750/750 [==============================] - 11s 15ms/step - loss: 1.6937 - accuracy: 0.1963\n",
            "\n",
            "\n",
            "done.\n",
            "Visually inspect loss plot and select learning rate associated with falling loss\n"
          ],
          "name": "stdout"
        },
        {
          "output_type": "display_data",
          "data": {
            "image/png": "[encoded data removed]",
            "text/plain": [
              "<Figure size 432x288 with 1 Axes>"
            ]
          },
          "metadata": {
            "tags": [],
            "needs_background": "light"
          }
        }
      ]
    },
    {
      "cell_type": "code",
      "metadata": {
        "id": "a_wC0Prdwy2H",
        "colab": {
          "base_uri": "https://localhost:8080/"
        },
        "outputId": "99c7dd45-6212-4ada-96ce-ed354b0ba9f9"
      },
      "source": [
        "learner_ft.lr_estimate()"
      ],
      "execution_count": 10,
      "outputs": [
        {
          "output_type": "execute_result",
          "data": {
            "text/plain": [
              "(0.0053917826, 0.0021864132955670356)"
            ]
          },
          "metadata": {
            "tags": []
          },
          "execution_count": 10
        }
      ]
    },
    {
      "cell_type": "code",
      "metadata": {
        "id": "_slFcVLGwy2H",
        "colab": {
          "base_uri": "https://localhost:8080/"
        },
        "outputId": "4cfa562b-b695-47d1-9b95-43276404fac1"
      },
      "source": [
        "learner_ft.fit(learner_ft.lr_estimate()[1], 5)"
      ],
      "execution_count": 11,
      "outputs": [
        {
          "output_type": "stream",
          "text": [
            "Epoch 1/5\n",
            "750/750 [==============================] - 12s 16ms/step - loss: 1.6008 - accuracy: 0.2942 - val_loss: 1.2882 - val_accuracy: 0.5130\n",
            "Epoch 2/5\n",
            "750/750 [==============================] - 11s 15ms/step - loss: 1.3203 - accuracy: 0.4549 - val_loss: 1.1167 - val_accuracy: 0.6030\n",
            "Epoch 3/5\n",
            "750/750 [==============================] - 11s 15ms/step - loss: 1.1714 - accuracy: 0.5381 - val_loss: 0.9960 - val_accuracy: 0.6475\n",
            "Epoch 4/5\n",
            "750/750 [==============================] - 11s 15ms/step - loss: 1.0678 - accuracy: 0.5893 - val_loss: 0.9123 - val_accuracy: 0.6723\n",
            "Epoch 5/5\n",
            "750/750 [==============================] - 11s 15ms/step - loss: 0.9950 - accuracy: 0.6258 - val_loss: 0.8774 - val_accuracy: 0.6908\n"
          ],
          "name": "stdout"
        },
        {
          "output_type": "execute_result",
          "data": {
            "text/plain": [
              "<tensorflow.python.keras.callbacks.History at 0x7f358f9cf358>"
            ]
          },
          "metadata": {
            "tags": []
          },
          "execution_count": 11
        }
      ]
    },
    {
      "cell_type": "code",
      "metadata": {
        "id": "b-G6BVVcwy2I",
        "colab": {
          "base_uri": "https://localhost:8080/"
        },
        "outputId": "bf0aaecf-a769-4506-8a64-38f68cf154a9"
      },
      "source": [
        "# Since val_loss still decreass train for 5 epochs\n",
        "learner_ft.fit(learner_ft.lr_estimate()[1], 5)"
      ],
      "execution_count": 12,
      "outputs": [
        {
          "output_type": "stream",
          "text": [
            "Epoch 1/5\n",
            "750/750 [==============================] - 11s 15ms/step - loss: 0.9359 - accuracy: 0.6518 - val_loss: 0.8319 - val_accuracy: 0.6973\n",
            "Epoch 2/5\n",
            "750/750 [==============================] - 11s 15ms/step - loss: 0.8819 - accuracy: 0.6786 - val_loss: 0.7979 - val_accuracy: 0.7202\n",
            "Epoch 3/5\n",
            "750/750 [==============================] - 11s 15ms/step - loss: 0.8348 - accuracy: 0.6983 - val_loss: 0.7814 - val_accuracy: 0.7233\n",
            "Epoch 4/5\n",
            "750/750 [==============================] - 11s 15ms/step - loss: 0.7989 - accuracy: 0.7113 - val_loss: 0.7593 - val_accuracy: 0.7303\n",
            "Epoch 5/5\n",
            "750/750 [==============================] - 11s 15ms/step - loss: 0.7580 - accuracy: 0.7298 - val_loss: 0.7515 - val_accuracy: 0.7308\n"
          ],
          "name": "stdout"
        },
        {
          "output_type": "execute_result",
          "data": {
            "text/plain": [
              "<tensorflow.python.keras.callbacks.History at 0x7f358e3a7278>"
            ]
          },
          "metadata": {
            "tags": []
          },
          "execution_count": 12
        }
      ]
    },
    {
      "cell_type": "code",
      "metadata": {
        "id": "vly98VD5wy2I",
        "colab": {
          "base_uri": "https://localhost:8080/"
        },
        "outputId": "7f11d30d-afda-4249-e598-bf518a80d89a"
      },
      "source": [
        "# Since val_loss still decreass train for 5 epochs\n",
        "learner_ft.fit(learner_ft.lr_estimate()[1], 5)"
      ],
      "execution_count": 13,
      "outputs": [
        {
          "output_type": "stream",
          "text": [
            "Epoch 1/5\n",
            "750/750 [==============================] - 11s 15ms/step - loss: 0.7346 - accuracy: 0.7363 - val_loss: 0.7441 - val_accuracy: 0.7345\n",
            "Epoch 2/5\n",
            "750/750 [==============================] - 11s 15ms/step - loss: 0.7030 - accuracy: 0.7504 - val_loss: 0.7284 - val_accuracy: 0.7375\n",
            "Epoch 3/5\n",
            "750/750 [==============================] - 11s 15ms/step - loss: 0.6789 - accuracy: 0.7583 - val_loss: 0.7183 - val_accuracy: 0.7440\n",
            "Epoch 4/5\n",
            "750/750 [==============================] - 11s 15ms/step - loss: 0.6548 - accuracy: 0.7670 - val_loss: 0.7136 - val_accuracy: 0.7437\n",
            "Epoch 5/5\n",
            "750/750 [==============================] - 11s 15ms/step - loss: 0.6341 - accuracy: 0.7750 - val_loss: 0.7009 - val_accuracy: 0.7498\n"
          ],
          "name": "stdout"
        },
        {
          "output_type": "execute_result",
          "data": {
            "text/plain": [
              "<tensorflow.python.keras.callbacks.History at 0x7f358bd51828>"
            ]
          },
          "metadata": {
            "tags": []
          },
          "execution_count": 13
        }
      ]
    },
    {
      "cell_type": "code",
      "metadata": {
        "id": "eGbt7xukwy2I",
        "colab": {
          "base_uri": "https://localhost:8080/"
        },
        "outputId": "afd7c721-85ef-4069-c98e-2fb999cbb9d0"
      },
      "source": [
        "# Since val_loss still decreass train for 5 epochs\n",
        "learner_ft.fit(learner_ft.lr_estimate()[1], 5)"
      ],
      "execution_count": 14,
      "outputs": [
        {
          "output_type": "stream",
          "text": [
            "Epoch 1/5\n",
            "750/750 [==============================] - 11s 15ms/step - loss: 0.6157 - accuracy: 0.7835 - val_loss: 0.6918 - val_accuracy: 0.7532\n",
            "Epoch 2/5\n",
            "750/750 [==============================] - 11s 15ms/step - loss: 0.5996 - accuracy: 0.7898 - val_loss: 0.6866 - val_accuracy: 0.7502\n",
            "Epoch 3/5\n",
            "750/750 [==============================] - 11s 15ms/step - loss: 0.5824 - accuracy: 0.7963 - val_loss: 0.6793 - val_accuracy: 0.7620\n",
            "Epoch 4/5\n",
            "750/750 [==============================] - 11s 15ms/step - loss: 0.5695 - accuracy: 0.7999 - val_loss: 0.6706 - val_accuracy: 0.7645\n",
            "Epoch 5/5\n",
            "750/750 [==============================] - 12s 16ms/step - loss: 0.5498 - accuracy: 0.8083 - val_loss: 0.6698 - val_accuracy: 0.7618\n"
          ],
          "name": "stdout"
        },
        {
          "output_type": "execute_result",
          "data": {
            "text/plain": [
              "<tensorflow.python.keras.callbacks.History at 0x7f354e141c50>"
            ]
          },
          "metadata": {
            "tags": []
          },
          "execution_count": 14
        }
      ]
    },
    {
      "cell_type": "markdown",
      "metadata": {
        "id": "IRHUsEgHwy2I"
      },
      "source": [
        "## Applying the logreg model: (mod_18)"
      ]
    },
    {
      "cell_type": "code",
      "metadata": {
        "id": "KWmje2d8wy2I",
        "colab": {
          "base_uri": "https://localhost:8080/"
        },
        "outputId": "1906ec6b-6a53-4fa3-c6e0-6ff35f32c265"
      },
      "source": [
        "logreg = text.text_classifier(\"logreg\", trn, preproc=preproc)"
      ],
      "execution_count": 15,
      "outputs": [
        {
          "output_type": "stream",
          "text": [
            "Is Multi-Label? False\n",
            "compiling word ID features...\n",
            "maxlen is 512\n",
            "done.\n"
          ],
          "name": "stdout"
        }
      ]
    },
    {
      "cell_type": "code",
      "metadata": {
        "id": "w1DnmlPTwy2J"
      },
      "source": [
        "learner_log = ktrain.get_learner(logreg, train_data=trn, val_data=val)"
      ],
      "execution_count": 16,
      "outputs": []
    },
    {
      "cell_type": "code",
      "metadata": {
        "id": "VjIioUdFwy2J",
        "colab": {
          "base_uri": "https://localhost:8080/",
          "height": 636
        },
        "outputId": "234dca81-b4cd-4860-e9a5-09add48fa50d"
      },
      "source": [
        "learner_log.lr_find(show_plot=True, max_epochs=10)"
      ],
      "execution_count": 17,
      "outputs": [
        {
          "output_type": "stream",
          "text": [
            "simulating training for different learning rates... this may take a few moments...\n",
            "Epoch 1/10\n",
            "750/750 [==============================] - 4s 5ms/step - loss: 1.6540 - accuracy: 0.1852\n",
            "Epoch 2/10\n",
            "750/750 [==============================] - 3s 4ms/step - loss: 1.6465 - accuracy: 0.1856\n",
            "Epoch 3/10\n",
            "750/750 [==============================] - 3s 4ms/step - loss: 1.6188 - accuracy: 0.2072\n",
            "Epoch 4/10\n",
            "750/750 [==============================] - 3s 4ms/step - loss: 1.5236 - accuracy: 0.3437\n",
            "Epoch 5/10\n",
            "750/750 [==============================] - 3s 5ms/step - loss: 1.2290 - accuracy: 0.6129\n",
            "Epoch 6/10\n",
            "750/750 [==============================] - 3s 5ms/step - loss: 0.7904 - accuracy: 0.7779\n",
            "Epoch 7/10\n",
            "750/750 [==============================] - 3s 5ms/step - loss: 0.7618 - accuracy: 0.7932\n",
            "Epoch 8/10\n",
            "750/750 [==============================] - 0s 265us/step - loss: 2.2755 - accuracy: 0.7250\n",
            "\n",
            "\n",
            "done.\n",
            "Visually inspect loss plot and select learning rate associated with falling loss\n"
          ],
          "name": "stdout"
        },
        {
          "output_type": "display_data",
          "data": {
            "image/png": "[encoded data removed]",
            "text/plain": [
              "<Figure size 432x288 with 1 Axes>"
            ]
          },
          "metadata": {
            "tags": [],
            "needs_background": "light"
          }
        }
      ]
    },
    {
      "cell_type": "code",
      "metadata": {
        "id": "mbY58Bbwwy2J",
        "colab": {
          "base_uri": "https://localhost:8080/"
        },
        "outputId": "369c20b7-1d38-49d9-f97a-860b462cfdf2"
      },
      "source": [
        "learner_log.lr_estimate()"
      ],
      "execution_count": 18,
      "outputs": [
        {
          "output_type": "execute_result",
          "data": {
            "text/plain": [
              "(0.0009244146, 0.0009602866135537625)"
            ]
          },
          "metadata": {
            "tags": []
          },
          "execution_count": 18
        }
      ]
    },
    {
      "cell_type": "code",
      "metadata": {
        "id": "oUJ6Fzvtwy2J",
        "colab": {
          "base_uri": "https://localhost:8080/"
        },
        "outputId": "645aea58-d3ae-4e0e-c3a5-fb37681b3b5c"
      },
      "source": [
        "learner_log.fit(learner_log.lr_estimate()[1], 10)"
      ],
      "execution_count": 19,
      "outputs": [
        {
          "output_type": "stream",
          "text": [
            "Epoch 1/10\n",
            "750/750 [==============================] - 4s 5ms/step - loss: 1.0755 - accuracy: 0.6200 - val_loss: 0.8643 - val_accuracy: 0.7138\n",
            "Epoch 2/10\n",
            "750/750 [==============================] - 3s 4ms/step - loss: 0.6046 - accuracy: 0.8465 - val_loss: 0.7541 - val_accuracy: 0.7497\n",
            "Epoch 3/10\n",
            "750/750 [==============================] - 3s 4ms/step - loss: 0.4361 - accuracy: 0.9061 - val_loss: 0.7035 - val_accuracy: 0.7653\n",
            "Epoch 4/10\n",
            "750/750 [==============================] - 3s 4ms/step - loss: 0.3358 - accuracy: 0.9383 - val_loss: 0.6814 - val_accuracy: 0.7725\n",
            "Epoch 5/10\n",
            "750/750 [==============================] - 3s 4ms/step - loss: 0.2674 - accuracy: 0.9594 - val_loss: 0.6859 - val_accuracy: 0.7747\n",
            "Epoch 6/10\n",
            "750/750 [==============================] - 4s 5ms/step - loss: 0.2170 - accuracy: 0.9712 - val_loss: 0.6814 - val_accuracy: 0.7802\n",
            "Epoch 7/10\n",
            "750/750 [==============================] - 3s 4ms/step - loss: 0.1779 - accuracy: 0.9797 - val_loss: 0.7055 - val_accuracy: 0.7833\n",
            "Epoch 8/10\n",
            "750/750 [==============================] - 3s 5ms/step - loss: 0.1462 - accuracy: 0.9855 - val_loss: 0.7174 - val_accuracy: 0.7857\n",
            "Epoch 9/10\n",
            "750/750 [==============================] - 3s 4ms/step - loss: 0.1208 - accuracy: 0.9901 - val_loss: 0.7318 - val_accuracy: 0.7825\n",
            "Epoch 10/10\n",
            "750/750 [==============================] - 3s 5ms/step - loss: 0.1000 - accuracy: 0.9933 - val_loss: 0.7676 - val_accuracy: 0.7817\n"
          ],
          "name": "stdout"
        },
        {
          "output_type": "execute_result",
          "data": {
            "text/plain": [
              "<tensorflow.python.keras.callbacks.History at 0x7f353e3b1358>"
            ]
          },
          "metadata": {
            "tags": []
          },
          "execution_count": 19
        }
      ]
    },
    {
      "cell_type": "markdown",
      "metadata": {
        "id": "k5Opjwz2wy2J"
      },
      "source": [
        "## Applying the nbsvm model: (mod_19)"
      ]
    },
    {
      "cell_type": "code",
      "metadata": {
        "id": "7vt1D5DUwy2K",
        "colab": {
          "base_uri": "https://localhost:8080/"
        },
        "outputId": "a8a7c232-8f9a-45bc-f236-f77912dda721"
      },
      "source": [
        "nbsvm = text.text_classifier(\"nbsvm\", trn, preproc=preproc)"
      ],
      "execution_count": 20,
      "outputs": [
        {
          "output_type": "stream",
          "text": [
            "Is Multi-Label? False\n",
            "compiling word ID features...\n",
            "maxlen is 512\n",
            "building document-term matrix... this may take a few moments...\n",
            "rows: 1-10000\n",
            "rows: 10001-20000\n",
            "rows: 20001-24000\n",
            "computing log-count ratios...\n",
            "done.\n"
          ],
          "name": "stdout"
        }
      ]
    },
    {
      "cell_type": "code",
      "metadata": {
        "id": "m-XYvedFwy2K"
      },
      "source": [
        "learner_nbsvm = ktrain.get_learner(nbsvm, train_data=trn, val_data=val)"
      ],
      "execution_count": 21,
      "outputs": []
    },
    {
      "cell_type": "code",
      "metadata": {
        "id": "3UkYrvImwy2K",
        "colab": {
          "base_uri": "https://localhost:8080/",
          "height": 636
        },
        "outputId": "d86dca9e-89e1-4d77-82f6-f49d46a3467a"
      },
      "source": [
        "learner_nbsvm.lr_find(show_plot=True, max_epochs=10)"
      ],
      "execution_count": 22,
      "outputs": [
        {
          "output_type": "stream",
          "text": [
            "simulating training for different learning rates... this may take a few moments...\n",
            "Epoch 1/10\n",
            "750/750 [==============================] - 3s 4ms/step - loss: 1.6513 - accuracy: 0.2338\n",
            "Epoch 2/10\n",
            "750/750 [==============================] - 3s 4ms/step - loss: 1.6478 - accuracy: 0.2391\n",
            "Epoch 3/10\n",
            "750/750 [==============================] - 3s 4ms/step - loss: 1.6165 - accuracy: 0.2916\n",
            "Epoch 4/10\n",
            "750/750 [==============================] - 3s 4ms/step - loss: 1.4840 - accuracy: 0.4440\n",
            "Epoch 5/10\n",
            "750/750 [==============================] - 3s 4ms/step - loss: 1.1547 - accuracy: 0.6777\n",
            "Epoch 6/10\n",
            "750/750 [==============================] - 3s 4ms/step - loss: 0.7554 - accuracy: 0.7811\n",
            "Epoch 7/10\n",
            "750/750 [==============================] - 3s 4ms/step - loss: 0.5231 - accuracy: 0.8345\n",
            "Epoch 8/10\n",
            "750/750 [==============================] - 2s 3ms/step - loss: 1.3983 - accuracy: 0.7694\n",
            "\n",
            "\n",
            "done.\n",
            "Visually inspect loss plot and select learning rate associated with falling loss\n"
          ],
          "name": "stdout"
        },
        {
          "output_type": "display_data",
          "data": {
            "image/png": "[encoded data removed]",
            "text/plain": [
              "<Figure size 432x288 with 1 Axes>"
            ]
          },
          "metadata": {
            "tags": [],
            "needs_background": "light"
          }
        }
      ]
    },
    {
      "cell_type": "code",
      "metadata": {
        "id": "2fuQju-ewy2L",
        "colab": {
          "base_uri": "https://localhost:8080/"
        },
        "outputId": "ffdfb752-b0fa-4480-b4a7-80afb78c4e05"
      },
      "source": [
        "learner_nbsvm.lr_estimate()"
      ],
      "execution_count": 23,
      "outputs": [
        {
          "output_type": "execute_result",
          "data": {
            "text/plain": [
              "(0.00092668785, 0.0010136020369827746)"
            ]
          },
          "metadata": {
            "tags": []
          },
          "execution_count": 23
        }
      ]
    },
    {
      "cell_type": "code",
      "metadata": {
        "id": "C2pynd7gwy2L",
        "colab": {
          "base_uri": "https://localhost:8080/"
        },
        "outputId": "75c79524-a9a9-45fe-f0e8-1a8d2bb4ed57"
      },
      "source": [
        "learner_nbsvm.fit(learner_nbsvm.lr_estimate()[1], 10)"
      ],
      "execution_count": 24,
      "outputs": [
        {
          "output_type": "stream",
          "text": [
            "Epoch 1/10\n",
            "750/750 [==============================] - 4s 5ms/step - loss: 0.9255 - accuracy: 0.7132 - val_loss: 0.8358 - val_accuracy: 0.7077\n",
            "Epoch 2/10\n",
            "750/750 [==============================] - 3s 4ms/step - loss: 0.6234 - accuracy: 0.8151 - val_loss: 0.7609 - val_accuracy: 0.7287\n",
            "Epoch 3/10\n",
            "750/750 [==============================] - 3s 4ms/step - loss: 0.5226 - accuracy: 0.8438 - val_loss: 0.7311 - val_accuracy: 0.7410\n",
            "Epoch 4/10\n",
            "750/750 [==============================] - 3s 4ms/step - loss: 0.4610 - accuracy: 0.8635 - val_loss: 0.7181 - val_accuracy: 0.7420\n",
            "Epoch 5/10\n",
            "750/750 [==============================] - 3s 5ms/step - loss: 0.4170 - accuracy: 0.8769 - val_loss: 0.7149 - val_accuracy: 0.7448\n",
            "Epoch 6/10\n",
            "750/750 [==============================] - 3s 4ms/step - loss: 0.3837 - accuracy: 0.8876 - val_loss: 0.7208 - val_accuracy: 0.7477\n",
            "Epoch 7/10\n",
            "750/750 [==============================] - 3s 4ms/step - loss: 0.3547 - accuracy: 0.8979 - val_loss: 0.7243 - val_accuracy: 0.7490\n",
            "Epoch 8/10\n",
            "750/750 [==============================] - 3s 4ms/step - loss: 0.3310 - accuracy: 0.9057 - val_loss: 0.7311 - val_accuracy: 0.7495\n",
            "Epoch 9/10\n",
            "750/750 [==============================] - 3s 4ms/step - loss: 0.3106 - accuracy: 0.9126 - val_loss: 0.7438 - val_accuracy: 0.7520\n",
            "Epoch 10/10\n",
            "750/750 [==============================] - 3s 4ms/step - loss: 0.2929 - accuracy: 0.9201 - val_loss: 0.7545 - val_accuracy: 0.7512\n"
          ],
          "name": "stdout"
        },
        {
          "output_type": "execute_result",
          "data": {
            "text/plain": [
              "<tensorflow.python.keras.callbacks.History at 0x7f353e1f9550>"
            ]
          },
          "metadata": {
            "tags": []
          },
          "execution_count": 24
        }
      ]
    },
    {
      "cell_type": "markdown",
      "metadata": {
        "id": "nbIEkkLzwy2M"
      },
      "source": [
        "## Applying the bigru model: (mod_20)"
      ]
    },
    {
      "cell_type": "code",
      "metadata": {
        "id": "iavyCLKiwy2M",
        "colab": {
          "base_uri": "https://localhost:8080/",
          "height": 269
        },
        "outputId": "b23f07fe-8580-46a6-bff3-d8b6930138f5"
      },
      "source": [
        "bigru = text.text_classifier(\"bigru\", trn, preproc=preproc)"
      ],
      "execution_count": 25,
      "outputs": [
        {
          "output_type": "stream",
          "text": [
            "Is Multi-Label? False\n",
            "compiling word ID features...\n",
            "maxlen is 512\n",
            "word vectors will be loaded from: https://dl.fbaipublicfiles.com/fasttext/vectors-crawl/cc.de.300.vec.gz\n",
            "processing pretrained word vectors...\n",
            "downloading pretrained word vectors to /root/ktrain_data ...\n",
            "[██████████████████████████████████████████████████]\n",
            "extracting pretrained word vectors...\n",
            "done.\n",
            "\n",
            "cleanup downloaded zip...\n",
            "done.\n",
            "\n",
            "loading pretrained word vectors...this may take a few moments...\n"
          ],
          "name": "stdout"
        },
        {
          "output_type": "display_data",
          "data": {
            "text/html": [
              ""
            ],
            "text/plain": [
              "<IPython.core.display.HTML object>"
            ]
          },
          "metadata": {
            "tags": []
          }
        },
        {
          "output_type": "stream",
          "text": [
            "done.\n"
          ],
          "name": "stdout"
        }
      ]
    },
    {
      "cell_type": "code",
      "metadata": {
        "id": "HqUeAAvFwy2M"
      },
      "source": [
        "learner_bigru = ktrain.get_learner(bigru, train_data=trn, val_data=val)"
      ],
      "execution_count": 26,
      "outputs": []
    },
    {
      "cell_type": "code",
      "metadata": {
        "id": "7d_zdeGOwy2N",
        "colab": {
          "base_uri": "https://localhost:8080/",
          "height": 703
        },
        "outputId": "a0b5900a-ea06-4907-d991-cc2cc1bef780"
      },
      "source": [
        "learner_bigru.lr_find(show_plot=True, max_epochs=10)"
      ],
      "execution_count": 27,
      "outputs": [
        {
          "output_type": "stream",
          "text": [
            "simulating training for different learning rates... this may take a few moments...\n",
            "Epoch 1/10\n",
            "750/750 [==============================] - 88s 108ms/step - loss: 1.6345 - accuracy: 0.2126\n",
            "Epoch 2/10\n",
            "750/750 [==============================] - 81s 108ms/step - loss: 1.6319 - accuracy: 0.2131\n",
            "Epoch 3/10\n",
            "750/750 [==============================] - 81s 108ms/step - loss: 1.6158 - accuracy: 0.2310\n",
            "Epoch 4/10\n",
            "750/750 [==============================] - 81s 107ms/step - loss: 1.5898 - accuracy: 0.2885\n",
            "Epoch 5/10\n",
            "750/750 [==============================] - 80s 107ms/step - loss: 1.3663 - accuracy: 0.4767\n",
            "Epoch 6/10\n",
            "750/750 [==============================] - 80s 107ms/step - loss: 0.6622 - accuracy: 0.7647\n",
            "Epoch 7/10\n",
            "750/750 [==============================] - 80s 107ms/step - loss: nan - accuracy: 0.7042\n",
            "Epoch 8/10\n",
            "750/750 [==============================] - 80s 107ms/step - loss: nan - accuracy: 0.1983\n",
            "Epoch 9/10\n",
            "750/750 [==============================] - 80s 107ms/step - loss: nan - accuracy: 0.1989\n",
            "Epoch 10/10\n",
            "750/750 [==============================] - 80s 106ms/step - loss: nan - accuracy: 0.1985\n",
            "\n",
            "\n",
            "done.\n",
            "Visually inspect loss plot and select learning rate associated with falling loss\n"
          ],
          "name": "stdout"
        },
        {
          "output_type": "display_data",
          "data": {
            "image/png": "[encoded data removed]",
            "text/plain": [
              "<Figure size 432x288 with 1 Axes>"
            ]
          },
          "metadata": {
            "tags": [],
            "needs_background": "light"
          }
        }
      ]
    },
    {
      "cell_type": "code",
      "metadata": {
        "id": "VvKrVMRuwy2N",
        "colab": {
          "base_uri": "https://localhost:8080/"
        },
        "outputId": "3f87857d-07e9-4639-a78c-aeeb2981b7dd"
      },
      "source": [
        "learner_bigru.lr_estimate()"
      ],
      "execution_count": 28,
      "outputs": [
        {
          "output_type": "execute_result",
          "data": {
            "text/plain": [
              "(0.0009244146, 0.0022684749215841292)"
            ]
          },
          "metadata": {
            "tags": []
          },
          "execution_count": 28
        }
      ]
    },
    {
      "cell_type": "code",
      "metadata": {
        "id": "g8hZTSn_wy2N",
        "colab": {
          "base_uri": "https://localhost:8080/"
        },
        "outputId": "f4ff06f6-3d5c-4513-962c-3b86ce4f5f33"
      },
      "source": [
        "learner_bigru.fit(learner_bigru.lr_estimate()[1], 7)"
      ],
      "execution_count": 29,
      "outputs": [
        {
          "output_type": "stream",
          "text": [
            "Epoch 1/7\n",
            "750/750 [==============================] - 85s 111ms/step - loss: 0.8974 - accuracy: 0.6544 - val_loss: 0.6358 - val_accuracy: 0.7665\n",
            "Epoch 2/7\n",
            "750/750 [==============================] - 85s 113ms/step - loss: 0.3421 - accuracy: 0.8865 - val_loss: 0.5724 - val_accuracy: 0.8163\n",
            "Epoch 3/7\n",
            "750/750 [==============================] - 85s 113ms/step - loss: 0.0789 - accuracy: 0.9772 - val_loss: 0.6584 - val_accuracy: 0.8227\n",
            "Epoch 4/7\n",
            "750/750 [==============================] - 85s 114ms/step - loss: 0.0140 - accuracy: 0.9977 - val_loss: 0.7279 - val_accuracy: 0.8250\n",
            "Epoch 5/7\n",
            "750/750 [==============================] - 85s 113ms/step - loss: 0.0026 - accuracy: 1.0000 - val_loss: 0.8127 - val_accuracy: 0.8272\n",
            "Epoch 6/7\n",
            "750/750 [==============================] - 85s 113ms/step - loss: 6.5978e-04 - accuracy: 1.0000 - val_loss: 0.8590 - val_accuracy: 0.8272\n",
            "Epoch 7/7\n",
            "750/750 [==============================] - 84s 113ms/step - loss: 2.9056e-04 - accuracy: 1.0000 - val_loss: 0.9184 - val_accuracy: 0.8257\n"
          ],
          "name": "stdout"
        },
        {
          "output_type": "execute_result",
          "data": {
            "text/plain": [
              "<tensorflow.python.keras.callbacks.History at 0x7f35168cf470>"
            ]
          },
          "metadata": {
            "tags": []
          },
          "execution_count": 29
        }
      ]
    },
    {
      "cell_type": "markdown",
      "metadata": {
        "id": "WKwLuugNwy2O"
      },
      "source": [
        "## Applying the standard gru: (mod_21)"
      ]
    },
    {
      "cell_type": "code",
      "metadata": {
        "id": "2ulPth8kwy2O",
        "colab": {
          "base_uri": "https://localhost:8080/"
        },
        "outputId": "b455fc5e-c47d-40f3-ceeb-d06d51d657d4"
      },
      "source": [
        "stgru = text.text_classifier(\"standard_gru\", trn, preproc=preproc)"
      ],
      "execution_count": 30,
      "outputs": [
        {
          "output_type": "stream",
          "text": [
            "Is Multi-Label? False\n",
            "compiling word ID features...\n",
            "maxlen is 512\n",
            "done.\n"
          ],
          "name": "stdout"
        }
      ]
    },
    {
      "cell_type": "code",
      "metadata": {
        "id": "vy-eI79ewy2O"
      },
      "source": [
        "learner_stgru = ktrain.get_learner(stgru, train_data=trn, val_data=val)"
      ],
      "execution_count": 31,
      "outputs": []
    },
    {
      "cell_type": "code",
      "metadata": {
        "id": "HKNbxFyNwy2O",
        "colab": {
          "base_uri": "https://localhost:8080/",
          "height": 703
        },
        "outputId": "f04754b7-3ead-423d-ef41-6b78ff7bb23e"
      },
      "source": [
        "learner_stgru.lr_find(show_plot=True, max_epochs=10)"
      ],
      "execution_count": 32,
      "outputs": [
        {
          "output_type": "stream",
          "text": [
            "simulating training for different learning rates... this may take a few moments...\n",
            "Epoch 1/10\n",
            "750/750 [==============================] - 84s 110ms/step - loss: 1.6111 - accuracy: 0.2031\n",
            "Epoch 2/10\n",
            "750/750 [==============================] - 82s 109ms/step - loss: 1.6107 - accuracy: 0.2038\n",
            "Epoch 3/10\n",
            "750/750 [==============================] - 82s 109ms/step - loss: 1.6115 - accuracy: 0.1993\n",
            "Epoch 4/10\n",
            "750/750 [==============================] - 82s 109ms/step - loss: 1.6100 - accuracy: 0.2084\n",
            "Epoch 5/10\n",
            "750/750 [==============================] - 82s 110ms/step - loss: 1.5925 - accuracy: 0.2463\n",
            "Epoch 6/10\n",
            "750/750 [==============================] - 82s 110ms/step - loss: 1.4251 - accuracy: 0.3878\n",
            "Epoch 7/10\n",
            "750/750 [==============================] - 81s 108ms/step - loss: nan - accuracy: 0.2012\n",
            "Epoch 8/10\n",
            "750/750 [==============================] - 81s 108ms/step - loss: nan - accuracy: 0.1995\n",
            "Epoch 9/10\n",
            "750/750 [==============================] - 81s 108ms/step - loss: nan - accuracy: 0.1974\n",
            "Epoch 10/10\n",
            "750/750 [==============================] - 81s 108ms/step - loss: nan - accuracy: 0.1975\n",
            "\n",
            "\n",
            "done.\n",
            "Visually inspect loss plot and select learning rate associated with falling loss\n"
          ],
          "name": "stdout"
        },
        {
          "output_type": "display_data",
          "data": {
            "image/png": "[encoded data removed]",
            "text/plain": [
              "<Figure size 432x288 with 1 Axes>"
            ]
          },
          "metadata": {
            "tags": [],
            "needs_background": "light"
          }
        }
      ]
    },
    {
      "cell_type": "code",
      "metadata": {
        "id": "uuLeSHDSwy2O",
        "colab": {
          "base_uri": "https://localhost:8080/"
        },
        "outputId": "cae80ff8-a202-4d25-b354-eff4117813c5"
      },
      "source": [
        "learner_stgru.lr_estimate()"
      ],
      "execution_count": 33,
      "outputs": [
        {
          "output_type": "execute_result",
          "data": {
            "text/plain": [
              "(0.0009244146, 0.0008942675776779652)"
            ]
          },
          "metadata": {
            "tags": []
          },
          "execution_count": 33
        }
      ]
    },
    {
      "cell_type": "code",
      "metadata": {
        "id": "a0DUJJcVwy2P",
        "colab": {
          "base_uri": "https://localhost:8080/"
        },
        "outputId": "0f009441-333f-4ec9-ee54-21096f26f425"
      },
      "source": [
        "learner_stgru.fit(learner_stgru.lr_estimate()[1], 10)"
      ],
      "execution_count": 34,
      "outputs": [
        {
          "output_type": "stream",
          "text": [
            "Epoch 1/7\n",
            "750/750 [==============================] - 90s 118ms/step - loss: 1.5486 - accuracy: 0.2862 - val_loss: 1.3368 - val_accuracy: 0.4398\n",
            "Epoch 2/7\n",
            "750/750 [==============================] - 88s 118ms/step - loss: 1.3354 - accuracy: 0.4408 - val_loss: 1.1482 - val_accuracy: 0.5347\n",
            "Epoch 3/7\n",
            "750/750 [==============================] - 88s 117ms/step - loss: 0.9992 - accuracy: 0.6061 - val_loss: 0.9435 - val_accuracy: 0.6268\n",
            "Epoch 4/7\n",
            "750/750 [==============================] - 87s 116ms/step - loss: 0.7412 - accuracy: 0.7244 - val_loss: 0.8011 - val_accuracy: 0.6960\n",
            "Epoch 5/7\n",
            "750/750 [==============================] - 88s 117ms/step - loss: 0.6049 - accuracy: 0.7811 - val_loss: 0.7966 - val_accuracy: 0.7138\n",
            "Epoch 6/7\n",
            "750/750 [==============================] - 88s 117ms/step - loss: 0.5101 - accuracy: 0.8141 - val_loss: 0.6650 - val_accuracy: 0.7627\n",
            "Epoch 7/7\n",
            "750/750 [==============================] - 88s 117ms/step - loss: 0.4428 - accuracy: 0.8397 - val_loss: 0.7109 - val_accuracy: 0.7617\n"
          ],
          "name": "stdout"
        },
        {
          "output_type": "execute_result",
          "data": {
            "text/plain": [
              "<tensorflow.python.keras.callbacks.History at 0x7f3548a2b390>"
            ]
          },
          "metadata": {
            "tags": []
          },
          "execution_count": 34
        }
      ]
    },
    {
      "cell_type": "code",
      "metadata": {
        "id": "nZfaN10iwy2P"
      },
      "source": [
        ""
      ],
      "execution_count": 34,
      "outputs": []
    }
  ]
}