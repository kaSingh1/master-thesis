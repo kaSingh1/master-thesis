{
  "nbformat": 4,
  "nbformat_minor": 0,
  "metadata": {
    "kernelspec": {
      "display_name": "Python 3",
      "language": "python",
      "name": "python3"
    },
    "language_info": {
      "codemirror_mode": {
        "name": "ipython",
        "version": 3
      },
      "file_extension": ".py",
      "mimetype": "text/x-python",
      "name": "python",
      "nbconvert_exporter": "python",
      "pygments_lexer": "ipython3",
      "version": "3.6.8"
    },
    "colab": {
      "name": "06_FE_scikit_learn_tfidf.ipynb",
      "provenance": []
    }
  },
  "cells": [
    {
      "cell_type": "code",
      "metadata": {
        "id": "_hb0MyQMPaq3"
      },
      "source": [
        "import pandas as pd\n",
        "import numpy as np\n",
        "from sklearn.feature_extraction.text import TfidfVectorizer\n",
        "from sklearn.preprocessing import LabelEncoder\n",
        "from sklearn.naive_bayes import BernoulliNB\n",
        "from sklearn.tree import DecisionTreeClassifier\n",
        "from sklearn.linear_model import LogisticRegression\n",
        "from sklearn.svm import LinearSVC\n",
        "from sklearn.metrics import accuracy_score, confusion_matrix, classification_report\n",
        "from sklearn.utils import shuffle, resample"
      ],
      "execution_count": null,
      "outputs": []
    },
    {
      "cell_type": "markdown",
      "metadata": {
        "id": "sydoMqZBPaq6"
      },
      "source": [
        "## Load data "
      ]
    },
    {
      "cell_type": "code",
      "metadata": {
        "colab": {
          "base_uri": "https://localhost:8080/"
        },
        "id": "zX921Zs7P8cY",
        "outputId": "bb19ac54-06bf-47cb-ff26-b71d8c758b76"
      },
      "source": [
        "from google.colab import drive\r\n",
        "drive.mount('/content/drive')"
      ],
      "execution_count": null,
      "outputs": [
        {
          "output_type": "stream",
          "text": [
            "Drive already mounted at /content/drive; to attempt to forcibly remount, call drive.mount(\"/content/drive\", force_remount=True).\n"
          ],
          "name": "stdout"
        }
      ]
    },
    {
      "cell_type": "code",
      "metadata": {
        "id": "nggAhbHjPaq6"
      },
      "source": [
        "news = pd.read_csv(\"/content/drive/MyDrive/Masterarbeit/Crawler/data/FinalDataset/Stepwords_Clean_FinalDataset_ForModel_V5.csv\", index_col=0)"
      ],
      "execution_count": null,
      "outputs": []
    },
    {
      "cell_type": "code",
      "metadata": {
        "id": "A3KDlmLdPaq7"
      },
      "source": [
        "# Get the same train and test data\n",
        "def split_df_in_train_test(df):\n",
        "    df = df.reset_index()\n",
        "    split_point = int(np.round(df.shape[0]) * 0.8)\n",
        "    df_train = df.loc[:split_point-1,:]\n",
        "    df_test = df.loc[split_point:,:]\n",
        "    return df_train, df_test"
      ],
      "execution_count": null,
      "outputs": []
    },
    {
      "cell_type": "code",
      "metadata": {
        "id": "x_yE4ppTPaq7"
      },
      "source": [
        "n_samples = 6000"
      ],
      "execution_count": null,
      "outputs": []
    },
    {
      "cell_type": "code",
      "metadata": {
        "id": "wzlM8gjIPaq7"
      },
      "source": [
        "left_FE = resample(shuffle(news[(news[\"label\"]==\"links\") & (news[\"Länge\"]<512)], random_state=42), \\\n",
        "         random_state=42, n_samples=n_samples)\n",
        "leanLeft_FE = resample(shuffle(news[(news[\"label\"]==\"halbLinks\") & (news[\"Länge\"]<512)], random_state=42), \\\n",
        "         random_state=42, n_samples=n_samples)\n",
        "center_FE = resample(shuffle(news[(news[\"label\"]==\"central\") & (news[\"Länge\"]<512)], random_state=42), \\\n",
        "         random_state=42, n_samples=n_samples)\n",
        "leanRight_FE = resample(shuffle(news[(news[\"label\"]==\"halbRechts\") & (news[\"Länge\"]<512)], random_state=42), \\\n",
        "         random_state=42, n_samples=n_samples)\n",
        "right_FE = resample(shuffle(news[(news[\"label\"]==\"rechts\") & (news[\"Länge\"]<512)], random_state=42), \\\n",
        "         random_state=42, n_samples=n_samples)"
      ],
      "execution_count": null,
      "outputs": []
    },
    {
      "cell_type": "code",
      "metadata": {
        "id": "swLlBhzgPaq8"
      },
      "source": [
        "train = pd.concat([split_df_in_train_test(left_FE)[0], \\\n",
        "    split_df_in_train_test(leanLeft_FE)[0], \\\n",
        "    split_df_in_train_test(center_FE)[0], \\\n",
        "    split_df_in_train_test(leanRight_FE)[0], \\\n",
        "    split_df_in_train_test(right_FE)[0]])"
      ],
      "execution_count": null,
      "outputs": []
    },
    {
      "cell_type": "code",
      "metadata": {
        "id": "iaemZYxbPaq8"
      },
      "source": [
        "test =  pd.concat([split_df_in_train_test(left_FE)[1], \\\n",
        "    split_df_in_train_test(leanLeft_FE)[1], \\\n",
        "    split_df_in_train_test(center_FE)[1], \\\n",
        "    split_df_in_train_test(leanRight_FE)[1], \\\n",
        "    split_df_in_train_test(right_FE)[1]])"
      ],
      "execution_count": null,
      "outputs": []
    },
    {
      "cell_type": "code",
      "metadata": {
        "id": "8DK_IFmdPaq8"
      },
      "source": [
        "X_train, y_train = train[\"NeuGenerierterText_str\"], train[\"label\"]\n",
        "X_test, y_test = test[\"NeuGenerierterText_str\"], test[\"label\"]"
      ],
      "execution_count": null,
      "outputs": []
    },
    {
      "cell_type": "markdown",
      "metadata": {
        "id": "CA7XqauVPaq9"
      },
      "source": [
        "# Creating German Stopwords"
      ]
    },
    {
      "cell_type": "code",
      "metadata": {
        "colab": {
          "base_uri": "https://localhost:8080/"
        },
        "id": "roHuKw35Paq9",
        "outputId": "e1652b96-73f2-43e7-8e59-5e469700026f"
      },
      "source": [
        "!pip install stop-words"
      ],
      "execution_count": null,
      "outputs": [
        {
          "output_type": "stream",
          "text": [
            "Collecting stop-words\n",
            "  Downloading https://files.pythonhosted.org/packages/1c/cb/d58290804b7a4c5daa42abbbe2a93c477ae53e45541b1825e86f0dfaaf63/stop-words-2018.7.23.tar.gz\n",
            "Building wheels for collected packages: stop-words\n",
            "  Building wheel for stop-words (setup.py) ... \u001b[?25l\u001b[?25hdone\n",
            "  Created wheel for stop-words: filename=stop_words-2018.7.23-cp36-none-any.whl size=32919 sha256=49778d83c91eeea11cb089e063b978889122e302af27246e285d263da910c24f\n",
            "  Stored in directory: /root/.cache/pip/wheels/75/37/6a/2b295e03bd07290f0da95c3adb9a74ba95fbc333aa8b0c7c78\n",
            "Successfully built stop-words\n",
            "Installing collected packages: stop-words\n",
            "Successfully installed stop-words-2018.7.23\n"
          ],
          "name": "stdout"
        }
      ]
    },
    {
      "cell_type": "code",
      "metadata": {
        "id": "Mql9nYbaPaq-"
      },
      "source": [
        "from stop_words import get_stop_words\n",
        "\n",
        "#stop_words = get_stop_words('de')\n",
        "stop_words = get_stop_words('german')"
      ],
      "execution_count": null,
      "outputs": []
    },
    {
      "cell_type": "markdown",
      "metadata": {
        "id": "KkJV5TDAPaq-"
      },
      "source": [
        "## Generate TFIDF vector"
      ]
    },
    {
      "cell_type": "markdown",
      "metadata": {
        "id": "GsOF7ZFaPaq-"
      },
      "source": [
        "### Bigram:"
      ]
    },
    {
      "cell_type": "code",
      "metadata": {
        "id": "-YVcArLqPaq-"
      },
      "source": [
        "bigram_vec = TfidfVectorizer(stop_words=stop_words, max_features=30000, ngram_range=(1, 2))\n",
        "\n",
        "X_train_bi = bigram_vec.fit_transform(X_train.apply(lambda x: np.str_(x)))\n",
        "X_test_bi = bigram_vec.transform(X_test.apply(lambda x: np.str_(x)))"
      ],
      "execution_count": null,
      "outputs": []
    },
    {
      "cell_type": "markdown",
      "metadata": {
        "id": "9CRyl0FFPaq_"
      },
      "source": [
        "### Trigram"
      ]
    },
    {
      "cell_type": "code",
      "metadata": {
        "id": "7aaweRYrPaq_"
      },
      "source": [
        "trigram_vec = TfidfVectorizer(stop_words=stop_words, max_features=30000, ngram_range=(1, 3))\n",
        "\n",
        "X_train_tri = trigram_vec.fit_transform(X_train.apply(lambda x: np.str_(x)))\n",
        "X_test_tri = trigram_vec.transform(X_test.apply(lambda x: np.str_(x)))"
      ],
      "execution_count": null,
      "outputs": []
    },
    {
      "cell_type": "markdown",
      "metadata": {
        "id": "72B1zjrgPaq_"
      },
      "source": [
        "## Generate LabelEncoder"
      ]
    },
    {
      "cell_type": "code",
      "metadata": {
        "id": "1yKB9jYsPaq_"
      },
      "source": [
        "label_enc = LabelEncoder()\n",
        "y_train_enc = label_enc.fit_transform(y_train)\n",
        "y_test_enc = label_enc.fit_transform(y_test)"
      ],
      "execution_count": null,
      "outputs": []
    },
    {
      "cell_type": "code",
      "metadata": {
        "colab": {
          "base_uri": "https://localhost:8080/"
        },
        "id": "wcSAePRmPaq_",
        "outputId": "c1e88c4c-1ed9-4097-9691-0a486d0f9a46"
      },
      "source": [
        "label_enc.inverse_transform([0, 1, 2, 3, 4]) "
      ],
      "execution_count": null,
      "outputs": [
        {
          "output_type": "execute_result",
          "data": {
            "text/plain": [
              "array(['central', 'halbLinks', 'halbRechts', 'links', 'rechts'],\n",
              "      dtype=object)"
            ]
          },
          "metadata": {
            "tags": []
          },
          "execution_count": 17
        }
      ]
    },
    {
      "cell_type": "code",
      "metadata": {
        "id": "i_dGW-bvParA"
      },
      "source": [
        "label = [0, 1, 2, 3, 4]\n",
        "target_label = ['central', 'halbLinks', 'halbRechts', 'links', 'rechts']"
      ],
      "execution_count": null,
      "outputs": []
    },
    {
      "cell_type": "markdown",
      "metadata": {
        "id": "3GXc4tRkParA"
      },
      "source": [
        "## Apply classifiers"
      ]
    },
    {
      "cell_type": "code",
      "metadata": {
        "id": "j6XnNc-aParA"
      },
      "source": [
        "def run_classifier(clf, X_train, X_test, y_train, y_test, label, target_label):\n",
        "    \n",
        "    print(\"Training of the classifier: {} \\n\".format(clf))\n",
        "    clf.fit(X_train, y_train)\n",
        "    y_pred = clf.predict(X_test)\n",
        "\n",
        "    print(\"\\n\")\n",
        "\n",
        "    print(\"Accuracy of the classifier:     \")\n",
        "    accuracy = accuracy_score(y_test, y_pred)\n",
        "    print(accuracy)\n",
        "\n",
        "    print(\"\\n\")\n",
        "\n",
        "    print(\"Confusion Matrix of the classifier: \\n\")\n",
        "    con_mat = confusion_matrix(y_test, y_pred, labels=label)\n",
        "    print(con_mat)\n",
        "\n",
        "    print(\"\\n\")\n",
        "\n",
        "    print(\"Classification Report of the classifier: \\n\")\n",
        "    report = classification_report(y_test, y_pred, target_names=target_label)\n",
        "    print(report)"
      ],
      "execution_count": null,
      "outputs": []
    },
    {
      "cell_type": "code",
      "metadata": {
        "id": "tluR1ZkwParA"
      },
      "source": [
        "dt = DecisionTreeClassifier(random_state=42)\n",
        "svc = LinearSVC()\n",
        "lr = LogisticRegression(multi_class=\"multinomial\", solver=\"saga\")\n",
        "nb = BernoulliNB()"
      ],
      "execution_count": null,
      "outputs": []
    },
    {
      "cell_type": "markdown",
      "metadata": {
        "id": "t7uFUHAuParB"
      },
      "source": [
        "### ...using with bigrams"
      ]
    },
    {
      "cell_type": "markdown",
      "metadata": {
        "id": "BDGJgP-ZParB"
      },
      "source": [
        "#### Decision Tree"
      ]
    },
    {
      "cell_type": "code",
      "metadata": {
        "colab": {
          "base_uri": "https://localhost:8080/"
        },
        "id": "wzaCWuqFParB",
        "outputId": "a746190b-e00d-45a0-81f1-a83dbcc63e32"
      },
      "source": [
        "run_classifier(dt, X_train_bi, X_test_bi, y_train_enc, y_test_enc, label, target_label)"
      ],
      "execution_count": null,
      "outputs": [
        {
          "output_type": "stream",
          "text": [
            "Training of the classifier: DecisionTreeClassifier(ccp_alpha=0.0, class_weight=None, criterion='gini',\n",
            "                       max_depth=None, max_features=None, max_leaf_nodes=None,\n",
            "                       min_impurity_decrease=0.0, min_impurity_split=None,\n",
            "                       min_samples_leaf=1, min_samples_split=2,\n",
            "                       min_weight_fraction_leaf=0.0, presort='deprecated',\n",
            "                       random_state=42, splitter='best') \n",
            "\n",
            "\n",
            "\n",
            "Accuracy of the classifier:     \n",
            "0.7453333333333333\n",
            "\n",
            "\n",
            "Confusion Matrix of the classifier: \n",
            "\n",
            "[[ 817   36  149   92  106]\n",
            " [  41 1020   62   33   44]\n",
            " [ 168   69  744  112  107]\n",
            " [  93   37   74  946   50]\n",
            " [  63   54   89   49  945]]\n",
            "\n",
            "\n",
            "Classification Report of the classifier: \n",
            "\n",
            "              precision    recall  f1-score   support\n",
            "\n",
            "     central       0.69      0.68      0.69      1200\n",
            "   halbLinks       0.84      0.85      0.84      1200\n",
            "  halbRechts       0.67      0.62      0.64      1200\n",
            "       links       0.77      0.79      0.78      1200\n",
            "      rechts       0.75      0.79      0.77      1200\n",
            "\n",
            "    accuracy                           0.75      6000\n",
            "   macro avg       0.74      0.75      0.74      6000\n",
            "weighted avg       0.74      0.75      0.74      6000\n",
            "\n"
          ],
          "name": "stdout"
        }
      ]
    },
    {
      "cell_type": "markdown",
      "metadata": {
        "id": "Zm5hOhIHParB"
      },
      "source": [
        "#### Naive Bayes"
      ]
    },
    {
      "cell_type": "code",
      "metadata": {
        "colab": {
          "base_uri": "https://localhost:8080/"
        },
        "id": "HJjlRs6aParB",
        "outputId": "99c48a41-d077-43c3-da8b-dead6cef4de3"
      },
      "source": [
        "run_classifier(nb, X_train_bi, X_test_bi, y_train_enc, y_test_enc, label, target_label)"
      ],
      "execution_count": null,
      "outputs": [
        {
          "output_type": "stream",
          "text": [
            "Training of the classifier: BernoulliNB(alpha=1.0, binarize=0.0, class_prior=None, fit_prior=True) \n",
            "\n",
            "\n",
            "\n",
            "Accuracy of the classifier:     \n",
            "0.6198333333333333\n",
            "\n",
            "\n",
            "Confusion Matrix of the classifier: \n",
            "\n",
            "[[676  22 347 116  39]\n",
            " [ 81 780 208  63  68]\n",
            " [215  55 825  43  62]\n",
            " [193  14 241 705  47]\n",
            " [ 80  82 245  60 733]]\n",
            "\n",
            "\n",
            "Classification Report of the classifier: \n",
            "\n",
            "              precision    recall  f1-score   support\n",
            "\n",
            "     central       0.54      0.56      0.55      1200\n",
            "   halbLinks       0.82      0.65      0.72      1200\n",
            "  halbRechts       0.44      0.69      0.54      1200\n",
            "       links       0.71      0.59      0.64      1200\n",
            "      rechts       0.77      0.61      0.68      1200\n",
            "\n",
            "    accuracy                           0.62      6000\n",
            "   macro avg       0.66      0.62      0.63      6000\n",
            "weighted avg       0.66      0.62      0.63      6000\n",
            "\n"
          ],
          "name": "stdout"
        }
      ]
    },
    {
      "cell_type": "markdown",
      "metadata": {
        "id": "ZH64DcP-ParC"
      },
      "source": [
        "#### Support Vector Machine"
      ]
    },
    {
      "cell_type": "code",
      "metadata": {
        "colab": {
          "base_uri": "https://localhost:8080/"
        },
        "id": "6QhvwngjParC",
        "outputId": "7bf42901-481e-48a7-c62d-6abde5ab3824"
      },
      "source": [
        "run_classifier(svc, X_train_bi, X_test_bi, y_train_enc, y_test_enc, label, target_label)"
      ],
      "execution_count": null,
      "outputs": [
        {
          "output_type": "stream",
          "text": [
            "Training of the classifier: LinearSVC(C=1.0, class_weight=None, dual=True, fit_intercept=True,\n",
            "          intercept_scaling=1, loss='squared_hinge', max_iter=1000,\n",
            "          multi_class='ovr', penalty='l2', random_state=None, tol=0.0001,\n",
            "          verbose=0) \n",
            "\n",
            "\n",
            "\n",
            "Accuracy of the classifier:     \n",
            "0.801\n",
            "\n",
            "\n",
            "Confusion Matrix of the classifier: \n",
            "\n",
            "[[ 914   36  118   78   54]\n",
            " [  23 1055   42   25   55]\n",
            " [ 146   80  813   80   81]\n",
            " [  77   10   60 1014   39]\n",
            " [  52   38   65   35 1010]]\n",
            "\n",
            "\n",
            "Classification Report of the classifier: \n",
            "\n",
            "              precision    recall  f1-score   support\n",
            "\n",
            "     central       0.75      0.76      0.76      1200\n",
            "   halbLinks       0.87      0.88      0.87      1200\n",
            "  halbRechts       0.74      0.68      0.71      1200\n",
            "       links       0.82      0.84      0.83      1200\n",
            "      rechts       0.82      0.84      0.83      1200\n",
            "\n",
            "    accuracy                           0.80      6000\n",
            "   macro avg       0.80      0.80      0.80      6000\n",
            "weighted avg       0.80      0.80      0.80      6000\n",
            "\n"
          ],
          "name": "stdout"
        }
      ]
    },
    {
      "cell_type": "markdown",
      "metadata": {
        "id": "NrmgBoHiParC"
      },
      "source": [
        "#### Logistic Regression"
      ]
    },
    {
      "cell_type": "code",
      "metadata": {
        "colab": {
          "base_uri": "https://localhost:8080/"
        },
        "id": "QHP-UtwiParC",
        "outputId": "a70eae35-be5f-4a83-a85f-0fe80d5810af"
      },
      "source": [
        "run_classifier(lr, X_train_bi, X_test_bi, y_train_enc, y_test_enc, label, target_label)"
      ],
      "execution_count": null,
      "outputs": [
        {
          "output_type": "stream",
          "text": [
            "Training of the classifier: LogisticRegression(C=1.0, class_weight=None, dual=False, fit_intercept=True,\n",
            "                   intercept_scaling=1, l1_ratio=None, max_iter=100,\n",
            "                   multi_class='multinomial', n_jobs=None, penalty='l2',\n",
            "                   random_state=None, solver='saga', tol=0.0001, verbose=0,\n",
            "                   warm_start=False) \n",
            "\n",
            "\n",
            "\n",
            "Accuracy of the classifier:     \n",
            "0.7496666666666667\n",
            "\n",
            "\n",
            "Confusion Matrix of the classifier: \n",
            "\n",
            "[[884  38 110 117  51]\n",
            " [ 43 992  44  56  65]\n",
            " [177  80 759  88  96]\n",
            " [118  16  78 939  49]\n",
            " [ 87  61  69  59 924]]\n",
            "\n",
            "\n",
            "Classification Report of the classifier: \n",
            "\n",
            "              precision    recall  f1-score   support\n",
            "\n",
            "     central       0.68      0.74      0.70      1200\n",
            "   halbLinks       0.84      0.83      0.83      1200\n",
            "  halbRechts       0.72      0.63      0.67      1200\n",
            "       links       0.75      0.78      0.76      1200\n",
            "      rechts       0.78      0.77      0.77      1200\n",
            "\n",
            "    accuracy                           0.75      6000\n",
            "   macro avg       0.75      0.75      0.75      6000\n",
            "weighted avg       0.75      0.75      0.75      6000\n",
            "\n"
          ],
          "name": "stdout"
        }
      ]
    },
    {
      "cell_type": "markdown",
      "metadata": {
        "id": "lC4Bf7qZParD"
      },
      "source": [
        "### ...using trigrams"
      ]
    },
    {
      "cell_type": "markdown",
      "metadata": {
        "id": "Gt6xB6iPParD"
      },
      "source": [
        "#### Decision Tree"
      ]
    },
    {
      "cell_type": "code",
      "metadata": {
        "colab": {
          "base_uri": "https://localhost:8080/"
        },
        "id": "Ml3XsxlgParD",
        "outputId": "82504a8b-44ba-4f3f-c1a0-050cb5fa5649"
      },
      "source": [
        "run_classifier(dt, X_train_tri, X_test_tri, y_train_enc, y_test_enc, label, target_label)"
      ],
      "execution_count": null,
      "outputs": [
        {
          "output_type": "stream",
          "text": [
            "Training of the classifier: DecisionTreeClassifier(ccp_alpha=0.0, class_weight=None, criterion='gini',\n",
            "                       max_depth=None, max_features=None, max_leaf_nodes=None,\n",
            "                       min_impurity_decrease=0.0, min_impurity_split=None,\n",
            "                       min_samples_leaf=1, min_samples_split=2,\n",
            "                       min_weight_fraction_leaf=0.0, presort='deprecated',\n",
            "                       random_state=42, splitter='best') \n",
            "\n",
            "\n",
            "\n",
            "Accuracy of the classifier:     \n",
            "0.7433333333333333\n",
            "\n",
            "\n",
            "Confusion Matrix of the classifier: \n",
            "\n",
            "[[ 822   46  146   99   87]\n",
            " [  36 1021   62   31   50]\n",
            " [ 173   79  725  104  119]\n",
            " [  70   34   78  960   58]\n",
            " [  70   54   82   62  932]]\n",
            "\n",
            "\n",
            "Classification Report of the classifier: \n",
            "\n",
            "              precision    recall  f1-score   support\n",
            "\n",
            "     central       0.70      0.69      0.69      1200\n",
            "   halbLinks       0.83      0.85      0.84      1200\n",
            "  halbRechts       0.66      0.60      0.63      1200\n",
            "       links       0.76      0.80      0.78      1200\n",
            "      rechts       0.75      0.78      0.76      1200\n",
            "\n",
            "    accuracy                           0.74      6000\n",
            "   macro avg       0.74      0.74      0.74      6000\n",
            "weighted avg       0.74      0.74      0.74      6000\n",
            "\n"
          ],
          "name": "stdout"
        }
      ]
    },
    {
      "cell_type": "markdown",
      "metadata": {
        "id": "zg8nvNgyParD"
      },
      "source": [
        "#### Naive Bayes"
      ]
    },
    {
      "cell_type": "code",
      "metadata": {
        "colab": {
          "base_uri": "https://localhost:8080/"
        },
        "id": "ebjKAZ1AParD",
        "outputId": "63bde995-bb99-4207-d641-a130a047afa2"
      },
      "source": [
        "run_classifier(nb, X_train_tri, X_test_tri, y_train_enc, y_test_enc, label, target_label)"
      ],
      "execution_count": null,
      "outputs": [
        {
          "output_type": "stream",
          "text": [
            "Training of the classifier: BernoulliNB(alpha=1.0, binarize=0.0, class_prior=None, fit_prior=True) \n",
            "\n",
            "\n",
            "\n",
            "Accuracy of the classifier:     \n",
            "0.5935\n",
            "\n",
            "\n",
            "Confusion Matrix of the classifier: \n",
            "\n",
            "[[693  20 418  30  39]\n",
            " [ 84 793 236  19  68]\n",
            " [222  52 855   8  63]\n",
            " [221  12 440 470  57]\n",
            " [ 84  74 272  20 750]]\n",
            "\n",
            "\n",
            "Classification Report of the classifier: \n",
            "\n",
            "              precision    recall  f1-score   support\n",
            "\n",
            "     central       0.53      0.58      0.55      1200\n",
            "   halbLinks       0.83      0.66      0.74      1200\n",
            "  halbRechts       0.38      0.71      0.50      1200\n",
            "       links       0.86      0.39      0.54      1200\n",
            "      rechts       0.77      0.62      0.69      1200\n",
            "\n",
            "    accuracy                           0.59      6000\n",
            "   macro avg       0.68      0.59      0.60      6000\n",
            "weighted avg       0.68      0.59      0.60      6000\n",
            "\n"
          ],
          "name": "stdout"
        }
      ]
    },
    {
      "cell_type": "markdown",
      "metadata": {
        "id": "III2tRFYParE"
      },
      "source": [
        "#### Support Vector Machine"
      ]
    },
    {
      "cell_type": "code",
      "metadata": {
        "colab": {
          "base_uri": "https://localhost:8080/"
        },
        "id": "7nFsqyJsParE",
        "outputId": "d059dc08-7395-4faa-e216-b72aadeebd03"
      },
      "source": [
        "run_classifier(svc, X_train_tri, X_test_tri, y_train_enc, y_test_enc, label, target_label)"
      ],
      "execution_count": null,
      "outputs": [
        {
          "output_type": "stream",
          "text": [
            "Training of the classifier: LinearSVC(C=1.0, class_weight=None, dual=True, fit_intercept=True,\n",
            "          intercept_scaling=1, loss='squared_hinge', max_iter=1000,\n",
            "          multi_class='ovr', penalty='l2', random_state=None, tol=0.0001,\n",
            "          verbose=0) \n",
            "\n",
            "\n",
            "\n",
            "Accuracy of the classifier:     \n",
            "0.8021666666666667\n",
            "\n",
            "\n",
            "Confusion Matrix of the classifier: \n",
            "\n",
            "[[ 920   36  117   76   51]\n",
            " [  22 1058   41   26   53]\n",
            " [ 144   78  814   81   83]\n",
            " [  77   13   61 1010   39]\n",
            " [  53   37   66   33 1011]]\n",
            "\n",
            "\n",
            "Classification Report of the classifier: \n",
            "\n",
            "              precision    recall  f1-score   support\n",
            "\n",
            "     central       0.76      0.77      0.76      1200\n",
            "   halbLinks       0.87      0.88      0.87      1200\n",
            "  halbRechts       0.74      0.68      0.71      1200\n",
            "       links       0.82      0.84      0.83      1200\n",
            "      rechts       0.82      0.84      0.83      1200\n",
            "\n",
            "    accuracy                           0.80      6000\n",
            "   macro avg       0.80      0.80      0.80      6000\n",
            "weighted avg       0.80      0.80      0.80      6000\n",
            "\n"
          ],
          "name": "stdout"
        }
      ]
    },
    {
      "cell_type": "markdown",
      "metadata": {
        "id": "DRMZawAjParE"
      },
      "source": [
        "#### Logistic Regression"
      ]
    },
    {
      "cell_type": "code",
      "metadata": {
        "colab": {
          "base_uri": "https://localhost:8080/"
        },
        "id": "Aee6UibyParE",
        "outputId": "f77d9ec1-680f-4ff6-8df8-7c8ca1952d17"
      },
      "source": [
        "run_classifier(lr, X_train_tri, X_test_tri, y_train_enc, y_test_enc, label, target_label)"
      ],
      "execution_count": null,
      "outputs": [
        {
          "output_type": "stream",
          "text": [
            "Training of the classifier: LogisticRegression(C=1.0, class_weight=None, dual=False, fit_intercept=True,\n",
            "                   intercept_scaling=1, l1_ratio=None, max_iter=100,\n",
            "                   multi_class='multinomial', n_jobs=None, penalty='l2',\n",
            "                   random_state=None, solver='saga', tol=0.0001, verbose=0,\n",
            "                   warm_start=False) \n",
            "\n",
            "\n",
            "\n",
            "Accuracy of the classifier:     \n",
            "0.7508333333333334\n",
            "\n",
            "\n",
            "Confusion Matrix of the classifier: \n",
            "\n",
            "[[886  37 109 117  51]\n",
            " [ 44 996  44  52  64]\n",
            " [179  76 760  91  94]\n",
            " [118  17  79 939  47]\n",
            " [ 88  59  69  60 924]]\n",
            "\n",
            "\n",
            "Classification Report of the classifier: \n",
            "\n",
            "              precision    recall  f1-score   support\n",
            "\n",
            "     central       0.67      0.74      0.70      1200\n",
            "   halbLinks       0.84      0.83      0.84      1200\n",
            "  halbRechts       0.72      0.63      0.67      1200\n",
            "       links       0.75      0.78      0.76      1200\n",
            "      rechts       0.78      0.77      0.78      1200\n",
            "\n",
            "    accuracy                           0.75      6000\n",
            "   macro avg       0.75      0.75      0.75      6000\n",
            "weighted avg       0.75      0.75      0.75      6000\n",
            "\n"
          ],
          "name": "stdout"
        }
      ]
    },
    {
      "cell_type": "code",
      "metadata": {
        "id": "pA3LOSivParE"
      },
      "source": [
        ""
      ],
      "execution_count": null,
      "outputs": []
    }
  ]
}