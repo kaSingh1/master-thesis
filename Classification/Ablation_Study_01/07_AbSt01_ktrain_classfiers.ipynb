{
  "nbformat": 4,
  "nbformat_minor": 0,
  "metadata": {
    "kernelspec": {
      "name": "python3",
      "display_name": "Python 3"
    },
    "colab": {
      "name": "07_AbSt01_ktrain_classfiers.ipynb",
      "provenance": []
    },
    "accelerator": "GPU"
  },
  "cells": [
    {
      "cell_type": "code",
      "metadata": {
        "colab": {
          "base_uri": "https://localhost:8080/"
        },
        "id": "6TvncFZ1w7wV",
        "outputId": "c0f9c616-a424-4fd0-965b-589f75cb1c58"
      },
      "source": [
        "!pip install ktrain"
      ],
      "execution_count": 1,
      "outputs": [
        {
          "output_type": "stream",
          "text": [
            "Collecting ktrain\n",
            "\u001b[?25l  Downloading https://files.pythonhosted.org/packages/e1/3c/8469632f3fa51f244ce35ac184de4c55a260dccfcb7386529faf82ebf60f/ktrain-0.25.4.tar.gz (25.3MB)\n",
            "\u001b[K     |████████████████████████████████| 25.3MB 1.3MB/s \n",
            "\u001b[?25hCollecting scikit-learn==0.23.2\n",
            "\u001b[?25l  Downloading https://files.pythonhosted.org/packages/5c/a1/273def87037a7fb010512bbc5901c31cfddfca8080bc63b42b26e3cc55b3/scikit_learn-0.23.2-cp36-cp36m-manylinux1_x86_64.whl (6.8MB)\n",
            "\u001b[K     |████████████████████████████████| 6.8MB 43.9MB/s \n",
            "\u001b[?25hRequirement already satisfied: matplotlib>=3.0.0 in /usr/local/lib/python3.6/dist-packages (from ktrain) (3.2.2)\n",
            "Requirement already satisfied: pandas>=1.0.1 in /usr/local/lib/python3.6/dist-packages (from ktrain) (1.1.5)\n",
            "Requirement already satisfied: fastprogress>=0.1.21 in /usr/local/lib/python3.6/dist-packages (from ktrain) (1.0.0)\n",
            "Requirement already satisfied: requests in /usr/local/lib/python3.6/dist-packages (from ktrain) (2.23.0)\n",
            "Requirement already satisfied: joblib in /usr/local/lib/python3.6/dist-packages (from ktrain) (1.0.0)\n",
            "Requirement already satisfied: packaging in /usr/local/lib/python3.6/dist-packages (from ktrain) (20.8)\n",
            "Requirement already satisfied: ipython in /usr/local/lib/python3.6/dist-packages (from ktrain) (5.5.0)\n",
            "Collecting langdetect\n",
            "\u001b[?25l  Downloading https://files.pythonhosted.org/packages/56/a3/8407c1e62d5980188b4acc45ef3d94b933d14a2ebc9ef3505f22cf772570/langdetect-1.0.8.tar.gz (981kB)\n",
            "\u001b[K     |████████████████████████████████| 983kB 53.0MB/s \n",
            "\u001b[?25hRequirement already satisfied: jieba in /usr/local/lib/python3.6/dist-packages (from ktrain) (0.42.1)\n",
            "Collecting cchardet\n",
            "\u001b[?25l  Downloading https://files.pythonhosted.org/packages/a0/e5/a0b9edd8664ea3b0d3270c451ebbf86655ed9fc4c3e4c45b9afae9c2e382/cchardet-2.1.7-cp36-cp36m-manylinux2010_x86_64.whl (263kB)\n",
            "\u001b[K     |████████████████████████████████| 266kB 58.4MB/s \n",
            "\u001b[?25hCollecting syntok\n",
            "  Downloading https://files.pythonhosted.org/packages/8c/76/a49e73a04b3e3a14ce232e8e28a1587f8108baa665644fe8c40e307e792e/syntok-1.3.1.tar.gz\n",
            "Collecting seqeval==0.0.19\n",
            "  Downloading https://files.pythonhosted.org/packages/93/e5/b7705156a77f742cfe4fc6f22d0c71591edb2d243328dff2f8fc0f933ab6/seqeval-0.0.19.tar.gz\n",
            "Collecting transformers<4.0,>=3.1.0\n",
            "\u001b[?25l  Downloading https://files.pythonhosted.org/packages/3a/83/e74092e7f24a08d751aa59b37a9fc572b2e4af3918cb66f7766c3affb1b4/transformers-3.5.1-py3-none-any.whl (1.3MB)\n",
            "\u001b[K     |████████████████████████████████| 1.3MB 43.3MB/s \n",
            "\u001b[?25hCollecting sentencepiece\n",
            "\u001b[?25l  Downloading https://files.pythonhosted.org/packages/14/67/e42bd1181472c95c8cda79305df848264f2a7f62740995a46945d9797b67/sentencepiece-0.1.95-cp36-cp36m-manylinux2014_x86_64.whl (1.2MB)\n",
            "\u001b[K     |████████████████████████████████| 1.2MB 50.4MB/s \n",
            "\u001b[?25hCollecting keras_bert>=0.86.0\n",
            "  Downloading https://files.pythonhosted.org/packages/e2/7f/95fabd29f4502924fa3f09ff6538c5a7d290dfef2c2fe076d3d1a16e08f0/keras-bert-0.86.0.tar.gz\n",
            "Requirement already satisfied: networkx>=2.3 in /usr/local/lib/python3.6/dist-packages (from ktrain) (2.5)\n",
            "Collecting whoosh\n",
            "\u001b[?25l  Downloading https://files.pythonhosted.org/packages/ba/19/24d0f1f454a2c1eb689ca28d2f178db81e5024f42d82729a4ff6771155cf/Whoosh-2.7.4-py2.py3-none-any.whl (468kB)\n",
            "\u001b[K     |████████████████████████████████| 471kB 58.0MB/s \n",
            "\u001b[?25hRequirement already satisfied: numpy>=1.13.3 in /usr/local/lib/python3.6/dist-packages (from scikit-learn==0.23.2->ktrain) (1.19.5)\n",
            "Requirement already satisfied: scipy>=0.19.1 in /usr/local/lib/python3.6/dist-packages (from scikit-learn==0.23.2->ktrain) (1.4.1)\n",
            "Collecting threadpoolctl>=2.0.0\n",
            "  Downloading https://files.pythonhosted.org/packages/f7/12/ec3f2e203afa394a149911729357aa48affc59c20e2c1c8297a60f33f133/threadpoolctl-2.1.0-py3-none-any.whl\n",
            "Requirement already satisfied: pyparsing!=2.0.4,!=2.1.2,!=2.1.6,>=2.0.1 in /usr/local/lib/python3.6/dist-packages (from matplotlib>=3.0.0->ktrain) (2.4.7)\n",
            "Requirement already satisfied: cycler>=0.10 in /usr/local/lib/python3.6/dist-packages (from matplotlib>=3.0.0->ktrain) (0.10.0)\n",
            "Requirement already satisfied: kiwisolver>=1.0.1 in /usr/local/lib/python3.6/dist-packages (from matplotlib>=3.0.0->ktrain) (1.3.1)\n",
            "Requirement already satisfied: python-dateutil>=2.1 in /usr/local/lib/python3.6/dist-packages (from matplotlib>=3.0.0->ktrain) (2.8.1)\n",
            "Requirement already satisfied: pytz>=2017.2 in /usr/local/lib/python3.6/dist-packages (from pandas>=1.0.1->ktrain) (2018.9)\n",
            "Requirement already satisfied: chardet<4,>=3.0.2 in /usr/local/lib/python3.6/dist-packages (from requests->ktrain) (3.0.4)\n",
            "Requirement already satisfied: certifi>=2017.4.17 in /usr/local/lib/python3.6/dist-packages (from requests->ktrain) (2020.12.5)\n",
            "Requirement already satisfied: idna<3,>=2.5 in /usr/local/lib/python3.6/dist-packages (from requests->ktrain) (2.10)\n",
            "Requirement already satisfied: urllib3!=1.25.0,!=1.25.1,<1.26,>=1.21.1 in /usr/local/lib/python3.6/dist-packages (from requests->ktrain) (1.24.3)\n",
            "Requirement already satisfied: setuptools>=18.5 in /usr/local/lib/python3.6/dist-packages (from ipython->ktrain) (51.3.3)\n",
            "Requirement already satisfied: prompt-toolkit<2.0.0,>=1.0.4 in /usr/local/lib/python3.6/dist-packages (from ipython->ktrain) (1.0.18)\n",
            "Requirement already satisfied: decorator in /usr/local/lib/python3.6/dist-packages (from ipython->ktrain) (4.4.2)\n",
            "Requirement already satisfied: pygments in /usr/local/lib/python3.6/dist-packages (from ipython->ktrain) (2.6.1)\n",
            "Requirement already satisfied: pexpect; sys_platform != \"win32\" in /usr/local/lib/python3.6/dist-packages (from ipython->ktrain) (4.8.0)\n",
            "Requirement already satisfied: pickleshare in /usr/local/lib/python3.6/dist-packages (from ipython->ktrain) (0.7.5)\n",
            "Requirement already satisfied: simplegeneric>0.8 in /usr/local/lib/python3.6/dist-packages (from ipython->ktrain) (0.8.1)\n",
            "Requirement already satisfied: traitlets>=4.2 in /usr/local/lib/python3.6/dist-packages (from ipython->ktrain) (4.3.3)\n",
            "Requirement already satisfied: six in /usr/local/lib/python3.6/dist-packages (from langdetect->ktrain) (1.15.0)\n",
            "Requirement already satisfied: regex in /usr/local/lib/python3.6/dist-packages (from syntok->ktrain) (2019.12.20)\n",
            "Requirement already satisfied: Keras>=2.2.4 in /usr/local/lib/python3.6/dist-packages (from seqeval==0.0.19->ktrain) (2.4.3)\n",
            "Collecting tokenizers==0.9.3\n",
            "\u001b[?25l  Downloading https://files.pythonhosted.org/packages/4c/34/b39eb9994bc3c999270b69c9eea40ecc6f0e97991dba28282b9fd32d44ee/tokenizers-0.9.3-cp36-cp36m-manylinux1_x86_64.whl (2.9MB)\n",
            "\u001b[K     |████████████████████████████████| 2.9MB 48.2MB/s \n",
            "\u001b[?25hRequirement already satisfied: dataclasses; python_version < \"3.7\" in /usr/local/lib/python3.6/dist-packages (from transformers<4.0,>=3.1.0->ktrain) (0.8)\n",
            "Requirement already satisfied: filelock in /usr/local/lib/python3.6/dist-packages (from transformers<4.0,>=3.1.0->ktrain) (3.0.12)\n",
            "Requirement already satisfied: tqdm>=4.27 in /usr/local/lib/python3.6/dist-packages (from transformers<4.0,>=3.1.0->ktrain) (4.41.1)\n",
            "Requirement already satisfied: protobuf in /usr/local/lib/python3.6/dist-packages (from transformers<4.0,>=3.1.0->ktrain) (3.12.4)\n",
            "Collecting sacremoses\n",
            "\u001b[?25l  Downloading https://files.pythonhosted.org/packages/7d/34/09d19aff26edcc8eb2a01bed8e98f13a1537005d31e95233fd48216eed10/sacremoses-0.0.43.tar.gz (883kB)\n",
            "\u001b[K     |████████████████████████████████| 890kB 53.5MB/s \n",
            "\u001b[?25hCollecting keras-transformer>=0.38.0\n",
            "  Downloading https://files.pythonhosted.org/packages/89/6c/d6f0c164f4cc16fbc0d0fea85f5526e87a7d2df7b077809e422a7e626150/keras-transformer-0.38.0.tar.gz\n",
            "Requirement already satisfied: wcwidth in /usr/local/lib/python3.6/dist-packages (from prompt-toolkit<2.0.0,>=1.0.4->ipython->ktrain) (0.2.5)\n",
            "Requirement already satisfied: ptyprocess>=0.5 in /usr/local/lib/python3.6/dist-packages (from pexpect; sys_platform != \"win32\"->ipython->ktrain) (0.7.0)\n",
            "Requirement already satisfied: ipython-genutils in /usr/local/lib/python3.6/dist-packages (from traitlets>=4.2->ipython->ktrain) (0.2.0)\n",
            "Requirement already satisfied: h5py in /usr/local/lib/python3.6/dist-packages (from Keras>=2.2.4->seqeval==0.0.19->ktrain) (2.10.0)\n",
            "Requirement already satisfied: pyyaml in /usr/local/lib/python3.6/dist-packages (from Keras>=2.2.4->seqeval==0.0.19->ktrain) (3.13)\n",
            "Requirement already satisfied: click in /usr/local/lib/python3.6/dist-packages (from sacremoses->transformers<4.0,>=3.1.0->ktrain) (7.1.2)\n",
            "Collecting keras-pos-embd>=0.11.0\n",
            "  Downloading https://files.pythonhosted.org/packages/09/70/b63ed8fc660da2bb6ae29b9895401c628da5740c048c190b5d7107cadd02/keras-pos-embd-0.11.0.tar.gz\n",
            "Collecting keras-multi-head>=0.27.0\n",
            "  Downloading https://files.pythonhosted.org/packages/e6/32/45adf2549450aca7867deccfa04af80a0ab1ca139af44b16bc669e0e09cd/keras-multi-head-0.27.0.tar.gz\n",
            "Collecting keras-layer-normalization>=0.14.0\n",
            "  Downloading https://files.pythonhosted.org/packages/a4/0e/d1078df0494bac9ce1a67954e5380b6e7569668f0f3b50a9531c62c1fc4a/keras-layer-normalization-0.14.0.tar.gz\n",
            "Collecting keras-position-wise-feed-forward>=0.6.0\n",
            "  Downloading https://files.pythonhosted.org/packages/e3/59/f0faa1037c033059e7e9e7758e6c23b4d1c0772cd48de14c4b6fd4033ad5/keras-position-wise-feed-forward-0.6.0.tar.gz\n",
            "Collecting keras-embed-sim>=0.8.0\n",
            "  Downloading https://files.pythonhosted.org/packages/57/ef/61a1e39082c9e1834a2d09261d4a0b69f7c818b359216d4e1912b20b1c86/keras-embed-sim-0.8.0.tar.gz\n",
            "Collecting keras-self-attention==0.46.0\n",
            "  Downloading https://files.pythonhosted.org/packages/15/6b/c804924a056955fa1f3ff767945187103cfc851ba9bd0fc5a6c6bc18e2eb/keras-self-attention-0.46.0.tar.gz\n",
            "Building wheels for collected packages: ktrain, langdetect, syntok, seqeval, keras-bert, sacremoses, keras-transformer, keras-pos-embd, keras-multi-head, keras-layer-normalization, keras-position-wise-feed-forward, keras-embed-sim, keras-self-attention\n",
            "  Building wheel for ktrain (setup.py) ... \u001b[?25l\u001b[?25hdone\n",
            "  Created wheel for ktrain: filename=ktrain-0.25.4-cp36-none-any.whl size=25276443 sha256=9316b85669f75c64dfa4e88fee6899bfecb08d419406f3ecadef04566966d5be\n",
            "  Stored in directory: /root/.cache/pip/wheels/1b/77/8a/bdceaabc308e7178d575278bf6143b7d1a9b939a1e40c56b88\n",
            "  Building wheel for langdetect (setup.py) ... \u001b[?25l\u001b[?25hdone\n",
            "  Created wheel for langdetect: filename=langdetect-1.0.8-cp36-none-any.whl size=993194 sha256=670cbd93afd28ee1f6f39bd2e84f2c6d4e49941ec16f0b400bbf3f74b9ca5191\n",
            "  Stored in directory: /root/.cache/pip/wheels/8d/b3/aa/6d99de9f3841d7d3d40a60ea06e6d669e8e5012e6c8b947a57\n",
            "  Building wheel for syntok (setup.py) ... \u001b[?25l\u001b[?25hdone\n",
            "  Created wheel for syntok: filename=syntok-1.3.1-cp36-none-any.whl size=20918 sha256=8e25ba61e099e6db3eb926e5c38b7da42e46f1affd4137061eefb532e0c886e5\n",
            "  Stored in directory: /root/.cache/pip/wheels/51/c6/a4/be1920586c49469846bcd2888200bdecfe109ec421dab9be2d\n",
            "  Building wheel for seqeval (setup.py) ... \u001b[?25l\u001b[?25hdone\n",
            "  Created wheel for seqeval: filename=seqeval-0.0.19-cp36-none-any.whl size=9919 sha256=137b65e1efa1e099d69b17d55e82b85d0ceee0e4d6d7564090e1c5c58e5b65e7\n",
            "  Stored in directory: /root/.cache/pip/wheels/8d/1f/bf/1198beceed805a2099060975f6281d1b01046dd279e19c97be\n",
            "  Building wheel for keras-bert (setup.py) ... \u001b[?25l\u001b[?25hdone\n",
            "  Created wheel for keras-bert: filename=keras_bert-0.86.0-cp36-none-any.whl size=34145 sha256=8fdc8ac397ab607146876ace5aa220ba47b1b270e7b456cf53659ee7e326d4ee\n",
            "  Stored in directory: /root/.cache/pip/wheels/66/f0/b1/748128b58562fc9e31b907bb5e2ab6a35eb37695e83911236b\n",
            "  Building wheel for sacremoses (setup.py) ... \u001b[?25l\u001b[?25hdone\n",
            "  Created wheel for sacremoses: filename=sacremoses-0.0.43-cp36-none-any.whl size=893261 sha256=5bd4c3974aad0091f7a62241da0b8804080fc24784a613719bf39b151a3f4505\n",
            "  Stored in directory: /root/.cache/pip/wheels/29/3c/fd/7ce5c3f0666dab31a50123635e6fb5e19ceb42ce38d4e58f45\n",
            "  Building wheel for keras-transformer (setup.py) ... \u001b[?25l\u001b[?25hdone\n",
            "  Created wheel for keras-transformer: filename=keras_transformer-0.38.0-cp36-none-any.whl size=12944 sha256=aa48d095d72f9a6a9460d27e49be1a6a574617205df68f123e50635326657b1e\n",
            "  Stored in directory: /root/.cache/pip/wheels/e5/fb/3a/37b2b9326c799aa010ae46a04ddb04f320d8c77c0b7e837f4e\n",
            "  Building wheel for keras-pos-embd (setup.py) ... \u001b[?25l\u001b[?25hdone\n",
            "  Created wheel for keras-pos-embd: filename=keras_pos_embd-0.11.0-cp36-none-any.whl size=7553 sha256=c536add2bedfbbbefac076c15aea0819f6c6dbc7a4097c83630d1a19963d0b8f\n",
            "  Stored in directory: /root/.cache/pip/wheels/5b/a1/a0/ce6b1d49ba1a9a76f592e70cf297b05c96bc9f418146761032\n",
            "  Building wheel for keras-multi-head (setup.py) ... \u001b[?25l\u001b[?25hdone\n",
            "  Created wheel for keras-multi-head: filename=keras_multi_head-0.27.0-cp36-none-any.whl size=15612 sha256=f98ae73d6f4862e3153f06291890b020fb6b26fe58cdf4585c88e47d6bb25c40\n",
            "  Stored in directory: /root/.cache/pip/wheels/b5/b4/49/0a0c27dcb93c13af02fea254ff51d1a43a924dd4e5b7a7164d\n",
            "  Building wheel for keras-layer-normalization (setup.py) ... \u001b[?25l\u001b[?25hdone\n",
            "  Created wheel for keras-layer-normalization: filename=keras_layer_normalization-0.14.0-cp36-none-any.whl size=5267 sha256=0ba45496b06acddd4c2979eab0d10f3f10bf10e0017b9b4b07ebb5efeccc449f\n",
            "  Stored in directory: /root/.cache/pip/wheels/54/80/22/a638a7d406fd155e507aa33d703e3fa2612b9eb7bb4f4fe667\n",
            "  Building wheel for keras-position-wise-feed-forward (setup.py) ... \u001b[?25l\u001b[?25hdone\n",
            "  Created wheel for keras-position-wise-feed-forward: filename=keras_position_wise_feed_forward-0.6.0-cp36-none-any.whl size=5625 sha256=41a8639d7efa2e64481e72d6f34635e348f2096c1fdcb0167cd6a5025198a415\n",
            "  Stored in directory: /root/.cache/pip/wheels/39/e2/e2/3514fef126a00574b13bc0b9e23891800158df3a3c19c96e3b\n",
            "  Building wheel for keras-embed-sim (setup.py) ... \u001b[?25l\u001b[?25hdone\n",
            "  Created wheel for keras-embed-sim: filename=keras_embed_sim-0.8.0-cp36-none-any.whl size=4559 sha256=1e271a2bdc130a60ec95bdf2d37dd3b50f0a4c8fb9a738dbd034ed3444939822\n",
            "  Stored in directory: /root/.cache/pip/wheels/49/45/8b/c111f6cc8bec253e984677de73a6f4f5d2f1649f42aac191c8\n",
            "  Building wheel for keras-self-attention (setup.py) ... \u001b[?25l\u001b[?25hdone\n",
            "  Created wheel for keras-self-attention: filename=keras_self_attention-0.46.0-cp36-none-any.whl size=17278 sha256=c9e0f85a5c9895186972552f3ee3c1e2d660ddc94ebbec883c446ca2308341f2\n",
            "  Stored in directory: /root/.cache/pip/wheels/d2/2e/80/fec4c05eb23c8e13b790e26d207d6e0ffe8013fad8c6bdd4d2\n",
            "Successfully built ktrain langdetect syntok seqeval keras-bert sacremoses keras-transformer keras-pos-embd keras-multi-head keras-layer-normalization keras-position-wise-feed-forward keras-embed-sim keras-self-attention\n",
            "\u001b[31mERROR: transformers 3.5.1 has requirement sentencepiece==0.1.91, but you'll have sentencepiece 0.1.95 which is incompatible.\u001b[0m\n",
            "Installing collected packages: threadpoolctl, scikit-learn, langdetect, cchardet, syntok, seqeval, sentencepiece, tokenizers, sacremoses, transformers, keras-pos-embd, keras-self-attention, keras-multi-head, keras-layer-normalization, keras-position-wise-feed-forward, keras-embed-sim, keras-transformer, keras-bert, whoosh, ktrain\n",
            "  Found existing installation: scikit-learn 0.22.2.post1\n",
            "    Uninstalling scikit-learn-0.22.2.post1:\n",
            "      Successfully uninstalled scikit-learn-0.22.2.post1\n",
            "Successfully installed cchardet-2.1.7 keras-bert-0.86.0 keras-embed-sim-0.8.0 keras-layer-normalization-0.14.0 keras-multi-head-0.27.0 keras-pos-embd-0.11.0 keras-position-wise-feed-forward-0.6.0 keras-self-attention-0.46.0 keras-transformer-0.38.0 ktrain-0.25.4 langdetect-1.0.8 sacremoses-0.0.43 scikit-learn-0.23.2 sentencepiece-0.1.95 seqeval-0.0.19 syntok-1.3.1 threadpoolctl-2.1.0 tokenizers-0.9.3 transformers-3.5.1 whoosh-2.7.4\n"
          ],
          "name": "stdout"
        }
      ]
    },
    {
      "cell_type": "code",
      "metadata": {
        "id": "ngdXoSa6wy1_"
      },
      "source": [
        "import ktrain\n",
        "from ktrain import text"
      ],
      "execution_count": 2,
      "outputs": []
    },
    {
      "cell_type": "markdown",
      "metadata": {
        "id": "XLSvQP93wy2D"
      },
      "source": [
        "## Loading data"
      ]
    },
    {
      "cell_type": "code",
      "metadata": {
        "colab": {
          "base_uri": "https://localhost:8080/"
        },
        "id": "m2PUhJVKxBat",
        "outputId": "cf960d67-2024-4781-c659-645983ddf43a"
      },
      "source": [
        "from google.colab import drive\r\n",
        "drive.mount('/content/drive')"
      ],
      "execution_count": 4,
      "outputs": [
        {
          "output_type": "stream",
          "text": [
            "Drive already mounted at /content/drive; to attempt to forcibly remount, call drive.mount(\"/content/drive\", force_remount=True).\n"
          ],
          "name": "stdout"
        }
      ]
    },
    {
      "cell_type": "code",
      "metadata": {
        "colab": {
          "base_uri": "https://localhost:8080/"
        },
        "id": "sewyCVaizDWh",
        "outputId": "7835c107-5da2-4297-c426-5171b8ead495"
      },
      "source": [
        "ls /content/drive/MyDrive/Uni_Köln/Masterarbeit/Model/KERAS/GeneratedFiles2/"
      ],
      "execution_count": null,
      "outputs": [
        {
          "output_type": "stream",
          "text": [
            "\u001b[0m\u001b[01;34mtest\u001b[0m/  \u001b[01;34mtrain\u001b[0m/\n"
          ],
          "name": "stdout"
        }
      ]
    },
    {
      "cell_type": "code",
      "metadata": {
        "id": "2E0hiEiJwy2E",
        "colab": {
          "base_uri": "https://localhost:8080/"
        },
        "outputId": "c7cce302-b848-4d54-b1c4-499396e6f348"
      },
      "source": [
        "%%time\n",
        "trn, val, preproc = text.texts_from_folder(\"/content/drive/MyDrive/Masterarbeit/GeneratedTXT_Files/Ablation01/\", \n",
        "                                           max_features=20000, maxlen=512, \n",
        "                                           ngram_range=1, \n",
        "                                           preprocess_mode='standard',\n",
        "                                           classes=['central', 'rechts', 'links'])"
      ],
      "execution_count": 5,
      "outputs": [
        {
          "output_type": "stream",
          "text": [
            "detected encoding: utf-8\n",
            "language: de\n",
            "Word Counts: 314373\n",
            "Nrows: 14400\n",
            "14400 train sequences\n",
            "train sequence lengths:\n",
            "\tmean : 429\n",
            "\t95percentile : 1270\n",
            "\t99percentile : 2599\n",
            "x_train shape: (14400,512)\n",
            "y_train shape: (14400, 3)\n",
            "Is Multi-Label? False\n",
            "3600 test sequences\n",
            "test sequence lengths:\n",
            "\tmean : 429\n",
            "\t95percentile : 1248\n",
            "\t99percentile : 2716\n",
            "x_test shape: (3600,512)\n",
            "y_test shape: (3600, 3)\n",
            "CPU times: user 19.7 s, sys: 2.77 s, total: 22.4 s\n",
            "Wall time: 56min 23s\n"
          ],
          "name": "stdout"
        }
      ]
    },
    {
      "cell_type": "markdown",
      "metadata": {
        "id": "XdrAYmLJwy2F"
      },
      "source": [
        "## Inspection of available classifiers"
      ]
    },
    {
      "cell_type": "code",
      "metadata": {
        "id": "-Wv4Y1IDwy2F",
        "colab": {
          "base_uri": "https://localhost:8080/"
        },
        "outputId": "dda27d17-5160-4937-83cb-08f966f36469"
      },
      "source": [
        "text.print_text_classifiers()"
      ],
      "execution_count": 6,
      "outputs": [
        {
          "output_type": "stream",
          "text": [
            "fasttext: a fastText-like model [http://arxiv.org/pdf/1607.01759.pdf]\n",
            "logreg: logistic regression using a trainable Embedding layer\n",
            "nbsvm: NBSVM model [http://www.aclweb.org/anthology/P12-2018]\n",
            "bigru: Bidirectional GRU with pretrained fasttext word vectors [https://fasttext.cc/docs/en/crawl-vectors.html]\n",
            "standard_gru: simple 2-layer GRU with randomly initialized embeddings\n",
            "bert: Bidirectional Encoder Representations from Transformers (BERT) from keras_bert [https://arxiv.org/abs/1810.04805]\n",
            "distilbert: distilled, smaller, and faster BERT from Hugging Face transformers [https://arxiv.org/abs/1910.01108]\n"
          ],
          "name": "stdout"
        }
      ]
    },
    {
      "cell_type": "markdown",
      "metadata": {
        "id": "zUJatQr5wy2G"
      },
      "source": [
        "### Applying the fasttext model (mod_17):"
      ]
    },
    {
      "cell_type": "code",
      "metadata": {
        "id": "gmEGHJ7nwy2G",
        "colab": {
          "base_uri": "https://localhost:8080/"
        },
        "outputId": "b0a5e351-c1d7-4166-cc98-afcba2aa9bef"
      },
      "source": [
        "fasttext = text.text_classifier(\"fasttext\", trn, preproc=preproc)"
      ],
      "execution_count": 7,
      "outputs": [
        {
          "output_type": "stream",
          "text": [
            "Is Multi-Label? False\n",
            "compiling word ID features...\n",
            "maxlen is 512\n",
            "done.\n"
          ],
          "name": "stdout"
        }
      ]
    },
    {
      "cell_type": "code",
      "metadata": {
        "id": "dRTigl96wy2G"
      },
      "source": [
        "learner_ft = ktrain.get_learner(fasttext, train_data=trn, val_data=val)"
      ],
      "execution_count": 8,
      "outputs": []
    },
    {
      "cell_type": "code",
      "metadata": {
        "id": "S_zb-7bywy2H",
        "colab": {
          "base_uri": "https://localhost:8080/",
          "height": 535
        },
        "outputId": "d6ee241e-ca9d-42de-e958-6a061dbbb295"
      },
      "source": [
        "learner_ft.lr_find(show_plot=True, max_epochs=5)"
      ],
      "execution_count": 9,
      "outputs": [
        {
          "output_type": "stream",
          "text": [
            "simulating training for different learning rates... this may take a few moments...\n",
            "Epoch 1/5\n",
            "450/450 [==============================] - 9s 15ms/step - loss: 1.4984 - accuracy: 0.3368\n",
            "Epoch 2/5\n",
            "450/450 [==============================] - 7s 14ms/step - loss: 1.5113 - accuracy: 0.3340\n",
            "Epoch 3/5\n",
            "450/450 [==============================] - 7s 15ms/step - loss: 1.3850 - accuracy: 0.3452\n",
            "Epoch 4/5\n",
            "450/450 [==============================] - 7s 14ms/step - loss: 1.0677 - accuracy: 0.4298\n",
            "Epoch 5/5\n",
            "450/450 [==============================] - 5s 10ms/step - loss: 58.9653 - accuracy: 0.3286\n",
            "\n",
            "\n",
            "done.\n",
            "Visually inspect loss plot and select learning rate associated with falling loss\n"
          ],
          "name": "stdout"
        },
        {
          "output_type": "display_data",
          "data": {
            "image/png": "[encoded data removed]",
            "text/plain": [
              "<Figure size 432x288 with 1 Axes>"
            ]
          },
          "metadata": {
            "tags": [],
            "needs_background": "light"
          }
        }
      ]
    },
    {
      "cell_type": "code",
      "metadata": {
        "id": "a_wC0Prdwy2H",
        "colab": {
          "base_uri": "https://localhost:8080/"
        },
        "outputId": "67a9254b-580f-4e3d-a2cf-a1cd0d8ea5e3"
      },
      "source": [
        "learner_ft.lr_estimate()"
      ],
      "execution_count": 10,
      "outputs": [
        {
          "output_type": "execute_result",
          "data": {
            "text/plain": [
              "(0.0050170063, 0.008049673587083816)"
            ]
          },
          "metadata": {
            "tags": []
          },
          "execution_count": 10
        }
      ]
    },
    {
      "cell_type": "code",
      "metadata": {
        "id": "_slFcVLGwy2H",
        "colab": {
          "base_uri": "https://localhost:8080/"
        },
        "outputId": "de5942e4-498d-4c4a-e76e-b10ab22cf0d9"
      },
      "source": [
        "learner_ft.fit(learner_ft.lr_estimate()[1], 5)"
      ],
      "execution_count": 11,
      "outputs": [
        {
          "output_type": "stream",
          "text": [
            "Epoch 1/5\n",
            "450/450 [==============================] - 8s 17ms/step - loss: 1.1136 - accuracy: 0.3930 - val_loss: 1.0057 - val_accuracy: 0.5289\n",
            "Epoch 2/5\n",
            "450/450 [==============================] - 7s 16ms/step - loss: 0.9868 - accuracy: 0.5119 - val_loss: 0.8810 - val_accuracy: 0.6103\n",
            "Epoch 3/5\n",
            "450/450 [==============================] - 7s 15ms/step - loss: 0.9111 - accuracy: 0.5723 - val_loss: 0.8008 - val_accuracy: 0.6542\n",
            "Epoch 4/5\n",
            "450/450 [==============================] - 7s 15ms/step - loss: 0.8402 - accuracy: 0.6272 - val_loss: 0.7550 - val_accuracy: 0.6825\n",
            "Epoch 5/5\n",
            "450/450 [==============================] - 7s 15ms/step - loss: 0.7704 - accuracy: 0.6682 - val_loss: 0.7377 - val_accuracy: 0.6936\n"
          ],
          "name": "stdout"
        },
        {
          "output_type": "execute_result",
          "data": {
            "text/plain": [
              "<tensorflow.python.keras.callbacks.History at 0x7fddee1032e8>"
            ]
          },
          "metadata": {
            "tags": []
          },
          "execution_count": 11
        }
      ]
    },
    {
      "cell_type": "code",
      "metadata": {
        "id": "b-G6BVVcwy2I",
        "colab": {
          "base_uri": "https://localhost:8080/"
        },
        "outputId": "0402858b-2b51-4730-f44c-6ce7188ec996"
      },
      "source": [
        "# Since val_loss still decreass train for 5 epochs\n",
        "learner_ft.fit(learner_ft.lr_estimate()[1], 5)"
      ],
      "execution_count": 12,
      "outputs": [
        {
          "output_type": "stream",
          "text": [
            "Epoch 1/5\n",
            "450/450 [==============================] - 7s 16ms/step - loss: 0.7291 - accuracy: 0.6885 - val_loss: 0.7152 - val_accuracy: 0.6997\n",
            "Epoch 2/5\n",
            "450/450 [==============================] - 7s 15ms/step - loss: 0.6883 - accuracy: 0.7153 - val_loss: 0.6911 - val_accuracy: 0.6986\n",
            "Epoch 3/5\n",
            "450/450 [==============================] - 7s 16ms/step - loss: 0.6447 - accuracy: 0.7285 - val_loss: 0.6970 - val_accuracy: 0.7103\n",
            "Epoch 4/5\n",
            "450/450 [==============================] - 7s 15ms/step - loss: 0.6329 - accuracy: 0.7414 - val_loss: 0.6799 - val_accuracy: 0.7233\n",
            "Epoch 5/5\n",
            "450/450 [==============================] - 7s 15ms/step - loss: 0.6069 - accuracy: 0.7515 - val_loss: 0.6615 - val_accuracy: 0.7153\n"
          ],
          "name": "stdout"
        },
        {
          "output_type": "execute_result",
          "data": {
            "text/plain": [
              "<tensorflow.python.keras.callbacks.History at 0x7fde2f1af668>"
            ]
          },
          "metadata": {
            "tags": []
          },
          "execution_count": 12
        }
      ]
    },
    {
      "cell_type": "code",
      "metadata": {
        "id": "vly98VD5wy2I",
        "colab": {
          "base_uri": "https://localhost:8080/"
        },
        "outputId": "1e52e3fd-7fc2-4b0e-9ce0-3ea436233fda"
      },
      "source": [
        "# Since val_loss still decreass train for 5 epochs\n",
        "learner_ft.fit(learner_ft.lr_estimate()[1], 5)"
      ],
      "execution_count": 13,
      "outputs": [
        {
          "output_type": "stream",
          "text": [
            "Epoch 1/5\n",
            "450/450 [==============================] - 7s 15ms/step - loss: 0.5769 - accuracy: 0.7616 - val_loss: 0.6667 - val_accuracy: 0.7158\n",
            "Epoch 2/5\n",
            "450/450 [==============================] - 7s 15ms/step - loss: 0.5657 - accuracy: 0.7704 - val_loss: 0.6378 - val_accuracy: 0.7353\n",
            "Epoch 3/5\n",
            "450/450 [==============================] - 7s 15ms/step - loss: 0.5474 - accuracy: 0.7779 - val_loss: 0.6862 - val_accuracy: 0.7356\n",
            "Epoch 4/5\n",
            "450/450 [==============================] - 7s 15ms/step - loss: 0.5299 - accuracy: 0.7862 - val_loss: 0.6489 - val_accuracy: 0.7344\n",
            "Epoch 5/5\n",
            "450/450 [==============================] - 7s 15ms/step - loss: 0.5189 - accuracy: 0.7951 - val_loss: 0.6801 - val_accuracy: 0.7294\n"
          ],
          "name": "stdout"
        },
        {
          "output_type": "execute_result",
          "data": {
            "text/plain": [
              "<tensorflow.python.keras.callbacks.History at 0x7fde2c228b38>"
            ]
          },
          "metadata": {
            "tags": []
          },
          "execution_count": 13
        }
      ]
    },
    {
      "cell_type": "code",
      "metadata": {
        "id": "eGbt7xukwy2I",
        "colab": {
          "base_uri": "https://localhost:8080/"
        },
        "outputId": "f3c8b9d8-eb19-4e09-ea9c-8fb36ae8f521"
      },
      "source": [
        "# Since val_loss still decreass train for 5 epochs\n",
        "learner_ft.fit(learner_ft.lr_estimate()[1], 5)"
      ],
      "execution_count": 14,
      "outputs": [
        {
          "output_type": "stream",
          "text": [
            "Epoch 1/5\n",
            "450/450 [==============================] - 7s 15ms/step - loss: 0.5103 - accuracy: 0.8028 - val_loss: 0.6976 - val_accuracy: 0.7075\n",
            "Epoch 2/5\n",
            "450/450 [==============================] - 7s 16ms/step - loss: 0.4915 - accuracy: 0.8056 - val_loss: 0.6530 - val_accuracy: 0.7553\n",
            "Epoch 3/5\n",
            "450/450 [==============================] - 7s 16ms/step - loss: 0.4854 - accuracy: 0.8115 - val_loss: 0.6323 - val_accuracy: 0.7619\n",
            "Epoch 4/5\n",
            "450/450 [==============================] - 7s 16ms/step - loss: 0.4631 - accuracy: 0.8194 - val_loss: 0.6572 - val_accuracy: 0.7464\n",
            "Epoch 5/5\n",
            "450/450 [==============================] - 7s 16ms/step - loss: 0.4617 - accuracy: 0.8217 - val_loss: 0.6792 - val_accuracy: 0.7214\n"
          ],
          "name": "stdout"
        },
        {
          "output_type": "execute_result",
          "data": {
            "text/plain": [
              "<tensorflow.python.keras.callbacks.History at 0x7fdddc65f240>"
            ]
          },
          "metadata": {
            "tags": []
          },
          "execution_count": 14
        }
      ]
    },
    {
      "cell_type": "markdown",
      "metadata": {
        "id": "IRHUsEgHwy2I"
      },
      "source": [
        "## Applying the logreg model: (mod_18)"
      ]
    },
    {
      "cell_type": "code",
      "metadata": {
        "id": "KWmje2d8wy2I",
        "colab": {
          "base_uri": "https://localhost:8080/"
        },
        "outputId": "48452d3a-9e0e-4c2a-809d-fb68239ae8cc"
      },
      "source": [
        "logreg = text.text_classifier(\"logreg\", trn, preproc=preproc)"
      ],
      "execution_count": 15,
      "outputs": [
        {
          "output_type": "stream",
          "text": [
            "Is Multi-Label? False\n",
            "compiling word ID features...\n",
            "maxlen is 512\n",
            "done.\n"
          ],
          "name": "stdout"
        }
      ]
    },
    {
      "cell_type": "code",
      "metadata": {
        "id": "w1DnmlPTwy2J"
      },
      "source": [
        "learner_log = ktrain.get_learner(logreg, train_data=trn, val_data=val)"
      ],
      "execution_count": 16,
      "outputs": []
    },
    {
      "cell_type": "code",
      "metadata": {
        "id": "VjIioUdFwy2J",
        "colab": {
          "base_uri": "https://localhost:8080/",
          "height": 636
        },
        "outputId": "520635df-93a8-45e1-844b-0cfa24c02c2f"
      },
      "source": [
        "learner_log.lr_find(show_plot=True, max_epochs=10)"
      ],
      "execution_count": 17,
      "outputs": [
        {
          "output_type": "stream",
          "text": [
            "simulating training for different learning rates... this may take a few moments...\n",
            "Epoch 1/10\n",
            "450/450 [==============================] - 2s 4ms/step - loss: 1.1090 - accuracy: 0.3539\n",
            "Epoch 2/10\n",
            "450/450 [==============================] - 2s 4ms/step - loss: 1.1115 - accuracy: 0.3439\n",
            "Epoch 3/10\n",
            "450/450 [==============================] - 2s 4ms/step - loss: 1.1011 - accuracy: 0.3551\n",
            "Epoch 4/10\n",
            "450/450 [==============================] - 2s 4ms/step - loss: 1.0611 - accuracy: 0.4298\n",
            "Epoch 5/10\n",
            "450/450 [==============================] - 2s 4ms/step - loss: 0.9089 - accuracy: 0.6504\n",
            "Epoch 6/10\n",
            "450/450 [==============================] - 2s 4ms/step - loss: 0.6275 - accuracy: 0.7978\n",
            "Epoch 7/10\n",
            "450/450 [==============================] - 2s 4ms/step - loss: 0.5552 - accuracy: 0.8236\n",
            "Epoch 8/10\n",
            "450/450 [==============================] - 0s 701us/step - loss: 1.9285 - accuracy: 0.7423\n",
            "\n",
            "\n",
            "done.\n",
            "Visually inspect loss plot and select learning rate associated with falling loss\n"
          ],
          "name": "stdout"
        },
        {
          "output_type": "display_data",
          "data": {
            "image/png": "[encoded data removed]",
            "text/plain": [
              "<Figure size 432x288 with 1 Axes>"
            ]
          },
          "metadata": {
            "tags": [],
            "needs_background": "light"
          }
        }
      ]
    },
    {
      "cell_type": "code",
      "metadata": {
        "id": "mbY58Bbwwy2J",
        "colab": {
          "base_uri": "https://localhost:8080/"
        },
        "outputId": "f6834076-bbb4-4398-f424-40243a3375ae"
      },
      "source": [
        "learner_log.lr_estimate()"
      ],
      "execution_count": 18,
      "outputs": [
        {
          "output_type": "execute_result",
          "data": {
            "text/plain": [
              "(0.0055349097, 0.0010311760939657687)"
            ]
          },
          "metadata": {
            "tags": []
          },
          "execution_count": 18
        }
      ]
    },
    {
      "cell_type": "code",
      "metadata": {
        "id": "oUJ6Fzvtwy2J",
        "colab": {
          "base_uri": "https://localhost:8080/"
        },
        "outputId": "c7505462-12eb-4f22-93bf-f6b956c1415f"
      },
      "source": [
        "learner_log.fit(learner_log.lr_estimate()[1], 10)"
      ],
      "execution_count": 19,
      "outputs": [
        {
          "output_type": "stream",
          "text": [
            "Epoch 1/10\n",
            "450/450 [==============================] - 2s 5ms/step - loss: 0.8215 - accuracy: 0.6446 - val_loss: 0.6963 - val_accuracy: 0.7267\n",
            "Epoch 2/10\n",
            "450/450 [==============================] - 2s 4ms/step - loss: 0.4896 - accuracy: 0.8553 - val_loss: 0.6340 - val_accuracy: 0.7533\n",
            "Epoch 3/10\n",
            "450/450 [==============================] - 2s 4ms/step - loss: 0.3648 - accuracy: 0.9113 - val_loss: 0.6165 - val_accuracy: 0.7553\n",
            "Epoch 4/10\n",
            "450/450 [==============================] - 2s 4ms/step - loss: 0.2896 - accuracy: 0.9404 - val_loss: 0.6082 - val_accuracy: 0.7589\n",
            "Epoch 5/10\n",
            "450/450 [==============================] - 2s 4ms/step - loss: 0.2372 - accuracy: 0.9592 - val_loss: 0.6153 - val_accuracy: 0.7608\n",
            "Epoch 6/10\n",
            "450/450 [==============================] - 2s 4ms/step - loss: 0.1988 - accuracy: 0.9700 - val_loss: 0.6248 - val_accuracy: 0.7644\n",
            "Epoch 7/10\n",
            "450/450 [==============================] - 2s 4ms/step - loss: 0.1686 - accuracy: 0.9789 - val_loss: 0.6323 - val_accuracy: 0.7625\n",
            "Epoch 8/10\n",
            "450/450 [==============================] - 2s 4ms/step - loss: 0.1443 - accuracy: 0.9849 - val_loss: 0.6423 - val_accuracy: 0.7625\n",
            "Epoch 9/10\n",
            "450/450 [==============================] - 2s 4ms/step - loss: 0.1239 - accuracy: 0.9880 - val_loss: 0.6609 - val_accuracy: 0.7636\n",
            "Epoch 10/10\n",
            "450/450 [==============================] - 2s 4ms/step - loss: 0.1070 - accuracy: 0.9915 - val_loss: 0.6786 - val_accuracy: 0.7606\n"
          ],
          "name": "stdout"
        },
        {
          "output_type": "execute_result",
          "data": {
            "text/plain": [
              "<tensorflow.python.keras.callbacks.History at 0x7fdddc3d12e8>"
            ]
          },
          "metadata": {
            "tags": []
          },
          "execution_count": 19
        }
      ]
    },
    {
      "cell_type": "markdown",
      "metadata": {
        "id": "k5Opjwz2wy2J"
      },
      "source": [
        "## Applying the nbsvm model: (mod_19)"
      ]
    },
    {
      "cell_type": "code",
      "metadata": {
        "id": "7vt1D5DUwy2K",
        "colab": {
          "base_uri": "https://localhost:8080/"
        },
        "outputId": "0e060007-23d1-47e9-913c-337f0abd7ff7"
      },
      "source": [
        "nbsvm = text.text_classifier(\"nbsvm\", trn, preproc=preproc)"
      ],
      "execution_count": 20,
      "outputs": [
        {
          "output_type": "stream",
          "text": [
            "Is Multi-Label? False\n",
            "compiling word ID features...\n",
            "maxlen is 512\n",
            "building document-term matrix... this may take a few moments...\n",
            "rows: 1-10000\n",
            "rows: 10001-14400\n",
            "computing log-count ratios...\n",
            "done.\n"
          ],
          "name": "stdout"
        }
      ]
    },
    {
      "cell_type": "code",
      "metadata": {
        "id": "m-XYvedFwy2K"
      },
      "source": [
        "learner_nbsvm = ktrain.get_learner(nbsvm, train_data=trn, val_data=val)"
      ],
      "execution_count": 21,
      "outputs": []
    },
    {
      "cell_type": "code",
      "metadata": {
        "id": "3UkYrvImwy2K",
        "colab": {
          "base_uri": "https://localhost:8080/",
          "height": 670
        },
        "outputId": "994e8372-85a4-4379-bf58-c1a0dd5b577c"
      },
      "source": [
        "learner_nbsvm.lr_find(show_plot=True, max_epochs=10)"
      ],
      "execution_count": 22,
      "outputs": [
        {
          "output_type": "stream",
          "text": [
            "simulating training for different learning rates... this may take a few moments...\n",
            "Epoch 1/10\n",
            "450/450 [==============================] - 2s 4ms/step - loss: 1.1112 - accuracy: 0.3716\n",
            "Epoch 2/10\n",
            "450/450 [==============================] - 2s 4ms/step - loss: 1.1106 - accuracy: 0.3743\n",
            "Epoch 3/10\n",
            "450/450 [==============================] - 2s 4ms/step - loss: 1.0958 - accuracy: 0.4011\n",
            "Epoch 4/10\n",
            "450/450 [==============================] - 2s 4ms/step - loss: 1.0424 - accuracy: 0.4740\n",
            "Epoch 5/10\n",
            "450/450 [==============================] - 2s 4ms/step - loss: 0.8700 - accuracy: 0.6948\n",
            "Epoch 6/10\n",
            "450/450 [==============================] - 2s 4ms/step - loss: 0.5934 - accuracy: 0.8229\n",
            "Epoch 7/10\n",
            "450/450 [==============================] - 2s 4ms/step - loss: 0.3894 - accuracy: 0.8695\n",
            "Epoch 8/10\n",
            "450/450 [==============================] - 2s 4ms/step - loss: 0.8645 - accuracy: 0.8196\n",
            "Epoch 9/10\n",
            "450/450 [==============================] - 0s 6us/step - loss: 3.2391 - accuracy: 0.6875\n",
            "\n",
            "\n",
            "done.\n",
            "Visually inspect loss plot and select learning rate associated with falling loss\n"
          ],
          "name": "stdout"
        },
        {
          "output_type": "display_data",
          "data": {
            "image/png": "[encoded data removed]",
            "text/plain": [
              "<Figure size 432x288 with 1 Axes>"
            ]
          },
          "metadata": {
            "tags": [],
            "needs_background": "light"
          }
        }
      ]
    },
    {
      "cell_type": "code",
      "metadata": {
        "id": "2fuQju-ewy2L",
        "colab": {
          "base_uri": "https://localhost:8080/"
        },
        "outputId": "a011fa0e-9b8f-4f03-dab0-3ccea7da011f"
      },
      "source": [
        "learner_nbsvm.lr_estimate()"
      ],
      "execution_count": 23,
      "outputs": [
        {
          "output_type": "execute_result",
          "data": {
            "text/plain": [
              "(0.0055804094, 0.0015275646932423116)"
            ]
          },
          "metadata": {
            "tags": []
          },
          "execution_count": 23
        }
      ]
    },
    {
      "cell_type": "code",
      "metadata": {
        "id": "C2pynd7gwy2L",
        "colab": {
          "base_uri": "https://localhost:8080/"
        },
        "outputId": "e48bd127-dd14-44ac-938e-bc3a8bea10e4"
      },
      "source": [
        "learner_nbsvm.fit(learner_nbsvm.lr_estimate()[1], 10)"
      ],
      "execution_count": 24,
      "outputs": [
        {
          "output_type": "stream",
          "text": [
            "Epoch 1/10\n",
            "450/450 [==============================] - 2s 4ms/step - loss: 0.6702 - accuracy: 0.7556 - val_loss: 0.6317 - val_accuracy: 0.7478\n",
            "Epoch 2/10\n",
            "450/450 [==============================] - 2s 4ms/step - loss: 0.4351 - accuracy: 0.8642 - val_loss: 0.5939 - val_accuracy: 0.7675\n",
            "Epoch 3/10\n",
            "450/450 [==============================] - 2s 4ms/step - loss: 0.3531 - accuracy: 0.8971 - val_loss: 0.5865 - val_accuracy: 0.7703\n",
            "Epoch 4/10\n",
            "450/450 [==============================] - 2s 4ms/step - loss: 0.3013 - accuracy: 0.9172 - val_loss: 0.5904 - val_accuracy: 0.7681\n",
            "Epoch 5/10\n",
            "450/450 [==============================] - 2s 4ms/step - loss: 0.2639 - accuracy: 0.9318 - val_loss: 0.6014 - val_accuracy: 0.7722\n",
            "Epoch 6/10\n",
            "450/450 [==============================] - 2s 4ms/step - loss: 0.2356 - accuracy: 0.9418 - val_loss: 0.6125 - val_accuracy: 0.7714\n",
            "Epoch 7/10\n",
            "450/450 [==============================] - 2s 4ms/step - loss: 0.2120 - accuracy: 0.9513 - val_loss: 0.6296 - val_accuracy: 0.7728\n",
            "Epoch 8/10\n",
            "450/450 [==============================] - 2s 4ms/step - loss: 0.1919 - accuracy: 0.9589 - val_loss: 0.6497 - val_accuracy: 0.7706\n",
            "Epoch 9/10\n",
            "450/450 [==============================] - 2s 4ms/step - loss: 0.1753 - accuracy: 0.9635 - val_loss: 0.6644 - val_accuracy: 0.7731\n",
            "Epoch 10/10\n",
            "450/450 [==============================] - 2s 4ms/step - loss: 0.1602 - accuracy: 0.9677 - val_loss: 0.6883 - val_accuracy: 0.7689\n"
          ],
          "name": "stdout"
        },
        {
          "output_type": "execute_result",
          "data": {
            "text/plain": [
              "<tensorflow.python.keras.callbacks.History at 0x7fdddc2a2470>"
            ]
          },
          "metadata": {
            "tags": []
          },
          "execution_count": 24
        }
      ]
    },
    {
      "cell_type": "markdown",
      "metadata": {
        "id": "nbIEkkLzwy2M"
      },
      "source": [
        "## Applying the bigru model: (mod_20)"
      ]
    },
    {
      "cell_type": "code",
      "metadata": {
        "id": "iavyCLKiwy2M",
        "colab": {
          "base_uri": "https://localhost:8080/",
          "height": 269
        },
        "outputId": "c8f9c2ed-8764-43cf-81cd-99cad8cbc382"
      },
      "source": [
        "bigru = text.text_classifier(\"bigru\", trn, preproc=preproc)"
      ],
      "execution_count": 25,
      "outputs": [
        {
          "output_type": "stream",
          "text": [
            "Is Multi-Label? False\n",
            "compiling word ID features...\n",
            "maxlen is 512\n",
            "word vectors will be loaded from: https://dl.fbaipublicfiles.com/fasttext/vectors-crawl/cc.de.300.vec.gz\n",
            "processing pretrained word vectors...\n",
            "downloading pretrained word vectors to /root/ktrain_data ...\n",
            "[██████████████████████████████████████████████████]\n",
            "extracting pretrained word vectors...\n",
            "done.\n",
            "\n",
            "cleanup downloaded zip...\n",
            "done.\n",
            "\n",
            "loading pretrained word vectors...this may take a few moments...\n"
          ],
          "name": "stdout"
        },
        {
          "output_type": "display_data",
          "data": {
            "text/html": [
              ""
            ],
            "text/plain": [
              "<IPython.core.display.HTML object>"
            ]
          },
          "metadata": {
            "tags": []
          }
        },
        {
          "output_type": "stream",
          "text": [
            "done.\n"
          ],
          "name": "stdout"
        }
      ]
    },
    {
      "cell_type": "code",
      "metadata": {
        "id": "HqUeAAvFwy2M"
      },
      "source": [
        "learner_bigru = ktrain.get_learner(bigru, train_data=trn, val_data=val)"
      ],
      "execution_count": 26,
      "outputs": []
    },
    {
      "cell_type": "code",
      "metadata": {
        "id": "7d_zdeGOwy2N",
        "colab": {
          "base_uri": "https://localhost:8080/",
          "height": 703
        },
        "outputId": "c9c96864-9355-46d1-b322-054af8b2f943"
      },
      "source": [
        "learner_bigru.lr_find(show_plot=True, max_epochs=10)"
      ],
      "execution_count": 27,
      "outputs": [
        {
          "output_type": "stream",
          "text": [
            "simulating training for different learning rates... this may take a few moments...\n",
            "Epoch 1/10\n",
            "450/450 [==============================] - 56s 110ms/step - loss: 1.1018 - accuracy: 0.3088\n",
            "Epoch 2/10\n",
            "450/450 [==============================] - 49s 109ms/step - loss: 1.1016 - accuracy: 0.3139\n",
            "Epoch 3/10\n",
            "450/450 [==============================] - 49s 109ms/step - loss: 1.0984 - accuracy: 0.3431\n",
            "Epoch 4/10\n",
            "450/450 [==============================] - 49s 108ms/step - loss: 1.0858 - accuracy: 0.4123\n",
            "Epoch 5/10\n",
            "450/450 [==============================] - 49s 109ms/step - loss: 0.9618 - accuracy: 0.5681\n",
            "Epoch 6/10\n",
            "450/450 [==============================] - 49s 109ms/step - loss: 0.5553 - accuracy: 0.7756\n",
            "Epoch 7/10\n",
            "450/450 [==============================] - 49s 109ms/step - loss: nan - accuracy: 0.7700\n",
            "Epoch 8/10\n",
            "450/450 [==============================] - 49s 108ms/step - loss: nan - accuracy: 0.3287\n",
            "Epoch 9/10\n",
            "450/450 [==============================] - 49s 108ms/step - loss: nan - accuracy: 0.3285\n",
            "Epoch 10/10\n",
            "450/450 [==============================] - 48s 108ms/step - loss: nan - accuracy: 0.3297\n",
            "\n",
            "\n",
            "done.\n",
            "Visually inspect loss plot and select learning rate associated with falling loss\n"
          ],
          "name": "stdout"
        },
        {
          "output_type": "display_data",
          "data": {
            "image/png": "[encoded data removed]",
            "text/plain": [
              "<Figure size 432x288 with 1 Axes>"
            ]
          },
          "metadata": {
            "tags": [],
            "needs_background": "light"
          }
        }
      ]
    },
    {
      "cell_type": "code",
      "metadata": {
        "id": "VvKrVMRuwy2N",
        "colab": {
          "base_uri": "https://localhost:8080/"
        },
        "outputId": "7cc9096e-d5e4-4515-d994-1300a164b721"
      },
      "source": [
        "learner_bigru.lr_estimate()"
      ],
      "execution_count": 28,
      "outputs": [
        {
          "output_type": "execute_result",
          "data": {
            "text/plain": [
              "(0.00087722426, 0.002319171652197838)"
            ]
          },
          "metadata": {
            "tags": []
          },
          "execution_count": 28
        }
      ]
    },
    {
      "cell_type": "code",
      "metadata": {
        "id": "g8hZTSn_wy2N",
        "colab": {
          "base_uri": "https://localhost:8080/"
        },
        "outputId": "d62ef8c2-3a51-4fce-e192-adafa6e5a6f8"
      },
      "source": [
        "learner_bigru.fit(learner_bigru.lr_estimate()[1], 7)"
      ],
      "execution_count": 29,
      "outputs": [
        {
          "output_type": "stream",
          "text": [
            "Epoch 1/7\n",
            "450/450 [==============================] - 54s 115ms/step - loss: 0.7053 - accuracy: 0.6822 - val_loss: 0.5370 - val_accuracy: 0.7811\n",
            "Epoch 2/7\n",
            "450/450 [==============================] - 52s 115ms/step - loss: 0.3163 - accuracy: 0.8826 - val_loss: 0.5413 - val_accuracy: 0.7978\n",
            "Epoch 3/7\n",
            "450/450 [==============================] - 52s 116ms/step - loss: 0.0719 - accuracy: 0.9790 - val_loss: 0.6046 - val_accuracy: 0.8225\n",
            "Epoch 4/7\n",
            "450/450 [==============================] - 53s 117ms/step - loss: 0.0107 - accuracy: 0.9987 - val_loss: 0.7298 - val_accuracy: 0.8142\n",
            "Epoch 5/7\n",
            "450/450 [==============================] - 52s 116ms/step - loss: 0.0018 - accuracy: 0.9999 - val_loss: 0.8067 - val_accuracy: 0.8125\n",
            "Epoch 6/7\n",
            "450/450 [==============================] - 52s 116ms/step - loss: 5.3230e-04 - accuracy: 1.0000 - val_loss: 0.8702 - val_accuracy: 0.8119\n",
            "Epoch 7/7\n",
            "450/450 [==============================] - 52s 116ms/step - loss: 2.9886e-04 - accuracy: 1.0000 - val_loss: 0.9224 - val_accuracy: 0.8122\n"
          ],
          "name": "stdout"
        },
        {
          "output_type": "execute_result",
          "data": {
            "text/plain": [
              "<tensorflow.python.keras.callbacks.History at 0x7fddb5aa2198>"
            ]
          },
          "metadata": {
            "tags": []
          },
          "execution_count": 29
        }
      ]
    },
    {
      "cell_type": "markdown",
      "metadata": {
        "id": "WKwLuugNwy2O"
      },
      "source": [
        "## Applying the standard gru: (mod_21)"
      ]
    },
    {
      "cell_type": "code",
      "metadata": {
        "id": "2ulPth8kwy2O",
        "colab": {
          "base_uri": "https://localhost:8080/"
        },
        "outputId": "9c441144-1140-43cf-afc6-24e66d44f556"
      },
      "source": [
        "stgru = text.text_classifier(\"standard_gru\", trn, preproc=preproc)"
      ],
      "execution_count": 30,
      "outputs": [
        {
          "output_type": "stream",
          "text": [
            "Is Multi-Label? False\n",
            "compiling word ID features...\n",
            "maxlen is 512\n",
            "done.\n"
          ],
          "name": "stdout"
        }
      ]
    },
    {
      "cell_type": "code",
      "metadata": {
        "id": "vy-eI79ewy2O"
      },
      "source": [
        "learner_stgru = ktrain.get_learner(stgru, train_data=trn, val_data=val)"
      ],
      "execution_count": 31,
      "outputs": []
    },
    {
      "cell_type": "code",
      "metadata": {
        "id": "HKNbxFyNwy2O",
        "colab": {
          "base_uri": "https://localhost:8080/",
          "height": 705
        },
        "outputId": "6c5971b0-edcf-4357-f14a-fe673ca2429b"
      },
      "source": [
        "learner_stgru.lr_find(show_plot=True, max_epochs=10)"
      ],
      "execution_count": 32,
      "outputs": [
        {
          "output_type": "stream",
          "text": [
            "simulating training for different learning rates... this may take a few moments...\n",
            "Epoch 1/10\n",
            "450/450 [==============================] - 54s 115ms/step - loss: 1.0996 - accuracy: 0.3325\n",
            "Epoch 2/10\n",
            "450/450 [==============================] - 51s 114ms/step - loss: 1.1017 - accuracy: 0.3214\n",
            "Epoch 3/10\n",
            "450/450 [==============================] - 51s 114ms/step - loss: 1.1003 - accuracy: 0.3299\n",
            "Epoch 4/10\n",
            "450/450 [==============================] - 51s 114ms/step - loss: 1.0991 - accuracy: 0.3384\n",
            "Epoch 5/10\n",
            "450/450 [==============================] - 51s 113ms/step - loss: 1.0945 - accuracy: 0.3586\n",
            "Epoch 6/10\n",
            "450/450 [==============================] - 51s 114ms/step - loss: 1.0434 - accuracy: 0.4618\n",
            "Epoch 7/10\n",
            "450/450 [==============================] - 51s 112ms/step - loss: nan - accuracy: 0.3379\n",
            "Epoch 8/10\n",
            "450/450 [==============================] - 50s 112ms/step - loss: nan - accuracy: 0.3353\n",
            "Epoch 9/10\n",
            "450/450 [==============================] - 50s 112ms/step - loss: nan - accuracy: 0.3381\n",
            "Epoch 10/10\n",
            "450/450 [==============================] - 50s 112ms/step - loss: nan - accuracy: 0.3359\n",
            "\n",
            "\n",
            "done.\n",
            "Visually inspect loss plot and select learning rate associated with falling loss\n"
          ],
          "name": "stdout"
        },
        {
          "output_type": "display_data",
          "data": {
            "image/png": "[encoded data removed]",
            "text/plain": [
              "<Figure size 432x288 with 1 Axes>"
            ]
          },
          "metadata": {
            "tags": [],
            "needs_background": "light"
          }
        }
      ]
    },
    {
      "cell_type": "code",
      "metadata": {
        "id": "uuLeSHDSwy2O",
        "colab": {
          "base_uri": "https://localhost:8080/"
        },
        "outputId": "bc2d3630-b9f3-4b70-d117-d4461f974f1b"
      },
      "source": [
        "learner_stgru.lr_estimate()"
      ],
      "execution_count": 33,
      "outputs": [
        {
          "output_type": "execute_result",
          "data": {
            "text/plain": [
              "(0.00088443555, 0.0008132454007863998)"
            ]
          },
          "metadata": {
            "tags": []
          },
          "execution_count": 33
        }
      ]
    },
    {
      "cell_type": "code",
      "metadata": {
        "id": "a0DUJJcVwy2P",
        "colab": {
          "base_uri": "https://localhost:8080/"
        },
        "outputId": "9034e5bf-2d6b-4255-8d76-71b5472075dc"
      },
      "source": [
        "learner_stgru.fit(learner_stgru.lr_estimate()[1], 10)"
      ],
      "execution_count": 34,
      "outputs": [
        {
          "output_type": "stream",
          "text": [
            "Epoch 1/10\n",
            "450/450 [==============================] - 55s 118ms/step - loss: 1.0907 - accuracy: 0.3788 - val_loss: 1.0191 - val_accuracy: 0.4919\n",
            "Epoch 2/10\n",
            "450/450 [==============================] - 54s 120ms/step - loss: 0.9760 - accuracy: 0.5138 - val_loss: 1.1825 - val_accuracy: 0.4700\n",
            "Epoch 3/10\n",
            "450/450 [==============================] - 54s 120ms/step - loss: 0.8325 - accuracy: 0.6222 - val_loss: 0.7957 - val_accuracy: 0.6375\n",
            "Epoch 4/10\n",
            "450/450 [==============================] - 54s 120ms/step - loss: 0.6146 - accuracy: 0.7424 - val_loss: 0.6400 - val_accuracy: 0.7325\n",
            "Epoch 5/10\n",
            "450/450 [==============================] - 54s 119ms/step - loss: 0.4449 - accuracy: 0.8251 - val_loss: 0.6720 - val_accuracy: 0.7303\n",
            "Epoch 6/10\n",
            "450/450 [==============================] - 54s 120ms/step - loss: 0.3589 - accuracy: 0.8622 - val_loss: 0.5688 - val_accuracy: 0.7783\n",
            "Epoch 7/10\n",
            "450/450 [==============================] - 54s 119ms/step - loss: 0.2896 - accuracy: 0.8872 - val_loss: 0.6213 - val_accuracy: 0.7822\n",
            "Epoch 8/10\n",
            "450/450 [==============================] - 54s 120ms/step - loss: 0.2439 - accuracy: 0.9060 - val_loss: 0.7209 - val_accuracy: 0.7725\n",
            "Epoch 9/10\n",
            "450/450 [==============================] - 54s 120ms/step - loss: 0.2060 - accuracy: 0.9230 - val_loss: 0.8732 - val_accuracy: 0.7544\n",
            "Epoch 10/10\n",
            "450/450 [==============================] - 54s 119ms/step - loss: 0.1877 - accuracy: 0.9297 - val_loss: 0.7246 - val_accuracy: 0.7803\n"
          ],
          "name": "stdout"
        },
        {
          "output_type": "execute_result",
          "data": {
            "text/plain": [
              "<tensorflow.python.keras.callbacks.History at 0x7fdde67554e0>"
            ]
          },
          "metadata": {
            "tags": []
          },
          "execution_count": 34
        }
      ]
    },
    {
      "cell_type": "code",
      "metadata": {
        "id": "nZfaN10iwy2P"
      },
      "source": [
        ""
      ],
      "execution_count": null,
      "outputs": []
    }
  ]
}