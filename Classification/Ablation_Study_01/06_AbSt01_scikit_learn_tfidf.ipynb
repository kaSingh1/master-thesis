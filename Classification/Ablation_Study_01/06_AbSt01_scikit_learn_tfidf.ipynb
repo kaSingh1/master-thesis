{
  "nbformat": 4,
  "nbformat_minor": 0,
  "metadata": {
    "kernelspec": {
      "display_name": "Python 3",
      "language": "python",
      "name": "python3"
    },
    "language_info": {
      "codemirror_mode": {
        "name": "ipython",
        "version": 3
      },
      "file_extension": ".py",
      "mimetype": "text/x-python",
      "name": "python",
      "nbconvert_exporter": "python",
      "pygments_lexer": "ipython3",
      "version": "3.6.8"
    },
    "colab": {
      "name": "06_AbSt01_scikit_learn_tfidf.ipynb",
      "provenance": []
    }
  },
  "cells": [
    {
      "cell_type": "code",
      "metadata": {
        "id": "_hb0MyQMPaq3"
      },
      "source": [
        "import pandas as pd\n",
        "import numpy as np\n",
        "from sklearn.feature_extraction.text import TfidfVectorizer\n",
        "from sklearn.preprocessing import LabelEncoder\n",
        "from sklearn.naive_bayes import BernoulliNB\n",
        "from sklearn.tree import DecisionTreeClassifier\n",
        "from sklearn.linear_model import LogisticRegression\n",
        "from sklearn.svm import LinearSVC\n",
        "from sklearn.metrics import accuracy_score, confusion_matrix, classification_report\n",
        "from sklearn.utils import shuffle, resample"
      ],
      "execution_count": null,
      "outputs": []
    },
    {
      "cell_type": "markdown",
      "metadata": {
        "id": "sydoMqZBPaq6"
      },
      "source": [
        "## Load data "
      ]
    },
    {
      "cell_type": "code",
      "metadata": {
        "colab": {
          "base_uri": "https://localhost:8080/"
        },
        "id": "zX921Zs7P8cY",
        "outputId": "251672f8-6233-4da6-9f12-e2ecbad6e471"
      },
      "source": [
        "from google.colab import drive\r\n",
        "drive.mount('/content/drive')"
      ],
      "execution_count": null,
      "outputs": [
        {
          "output_type": "stream",
          "text": [
            "Drive already mounted at /content/drive; to attempt to forcibly remount, call drive.mount(\"/content/drive\", force_remount=True).\n"
          ],
          "name": "stdout"
        }
      ]
    },
    {
      "cell_type": "code",
      "metadata": {
        "id": "nggAhbHjPaq6"
      },
      "source": [
        "news = pd.read_csv(\"/content/drive/MyDrive/Masterarbeit/Crawler/data/FinalDataset/Ablation01/Stepwords_CleanData_FinalDataset_ForModel_Ablation1.csv\", index_col=0)"
      ],
      "execution_count": null,
      "outputs": []
    },
    {
      "cell_type": "code",
      "metadata": {
        "id": "A3KDlmLdPaq7"
      },
      "source": [
        "# Get the same train and test data\n",
        "def split_df_in_train_test(df):\n",
        "    df = df.reset_index()\n",
        "    split_point = int(np.round(df.shape[0]) * 0.8)\n",
        "    df_train = df.loc[:split_point-1,:]\n",
        "    df_test = df.loc[split_point:,:]\n",
        "    return df_train, df_test"
      ],
      "execution_count": null,
      "outputs": []
    },
    {
      "cell_type": "code",
      "metadata": {
        "id": "x_yE4ppTPaq7"
      },
      "source": [
        "n_samples = 6000"
      ],
      "execution_count": null,
      "outputs": []
    },
    {
      "cell_type": "code",
      "metadata": {
        "id": "wzlM8gjIPaq7"
      },
      "source": [
        "left_FE = resample(shuffle(news[(news[\"label\"]==\"links\") & (news[\"Länge\"]<512)], random_state=42), \\\n",
        "         random_state=42, n_samples=n_samples)\n",
        "center_FE = resample(shuffle(news[(news[\"label\"]==\"central\") & (news[\"Länge\"]<512)], random_state=42), \\\n",
        "         random_state=42, n_samples=n_samples)\n",
        "right_FE = resample(shuffle(news[(news[\"label\"]==\"rechts\") & (news[\"Länge\"]<512)], random_state=42), \\\n",
        "         random_state=42, n_samples=n_samples)"
      ],
      "execution_count": null,
      "outputs": []
    },
    {
      "cell_type": "code",
      "metadata": {
        "id": "swLlBhzgPaq8"
      },
      "source": [
        "train = pd.concat([split_df_in_train_test(left_FE)[0], \\\n",
        "    split_df_in_train_test(center_FE)[0], \\\n",
        "    split_df_in_train_test(right_FE)[0]])"
      ],
      "execution_count": null,
      "outputs": []
    },
    {
      "cell_type": "code",
      "metadata": {
        "id": "iaemZYxbPaq8"
      },
      "source": [
        "test =  pd.concat([split_df_in_train_test(left_FE)[1], \\\n",
        "    split_df_in_train_test(center_FE)[1], \\\n",
        "    split_df_in_train_test(right_FE)[1]])"
      ],
      "execution_count": null,
      "outputs": []
    },
    {
      "cell_type": "code",
      "metadata": {
        "id": "8DK_IFmdPaq8"
      },
      "source": [
        "X_train, y_train = train[\"NeuGenerierterText_str\"], train[\"label\"]\n",
        "X_test, y_test = test[\"NeuGenerierterText_str\"], test[\"label\"]"
      ],
      "execution_count": null,
      "outputs": []
    },
    {
      "cell_type": "markdown",
      "metadata": {
        "id": "CA7XqauVPaq9"
      },
      "source": [
        "# Creating German Stopwords"
      ]
    },
    {
      "cell_type": "code",
      "metadata": {
        "colab": {
          "base_uri": "https://localhost:8080/"
        },
        "id": "roHuKw35Paq9",
        "outputId": "30182df9-8c53-4719-d2a5-9f7da44218ae"
      },
      "source": [
        "!pip install stop-words"
      ],
      "execution_count": null,
      "outputs": [
        {
          "output_type": "stream",
          "text": [
            "Collecting stop-words\n",
            "  Downloading https://files.pythonhosted.org/packages/1c/cb/d58290804b7a4c5daa42abbbe2a93c477ae53e45541b1825e86f0dfaaf63/stop-words-2018.7.23.tar.gz\n",
            "Building wheels for collected packages: stop-words\n",
            "  Building wheel for stop-words (setup.py) ... \u001b[?25l\u001b[?25hdone\n",
            "  Created wheel for stop-words: filename=stop_words-2018.7.23-cp36-none-any.whl size=32919 sha256=b6cf7541721c0fb9fd085658f7a7da97f32b4c16eca60877c69dbe36cd3ffca2\n",
            "  Stored in directory: /root/.cache/pip/wheels/75/37/6a/2b295e03bd07290f0da95c3adb9a74ba95fbc333aa8b0c7c78\n",
            "Successfully built stop-words\n",
            "Installing collected packages: stop-words\n",
            "Successfully installed stop-words-2018.7.23\n"
          ],
          "name": "stdout"
        }
      ]
    },
    {
      "cell_type": "code",
      "metadata": {
        "id": "Mql9nYbaPaq-"
      },
      "source": [
        "from stop_words import get_stop_words\n",
        "\n",
        "#stop_words = get_stop_words('de')\n",
        "stop_words = get_stop_words('german')"
      ],
      "execution_count": null,
      "outputs": []
    },
    {
      "cell_type": "markdown",
      "metadata": {
        "id": "KkJV5TDAPaq-"
      },
      "source": [
        "## Generate TFIDF vector"
      ]
    },
    {
      "cell_type": "markdown",
      "metadata": {
        "id": "GsOF7ZFaPaq-"
      },
      "source": [
        "### Bigram:"
      ]
    },
    {
      "cell_type": "code",
      "metadata": {
        "id": "-YVcArLqPaq-"
      },
      "source": [
        "bigram_vec = TfidfVectorizer(stop_words=stop_words, max_features=30000, ngram_range=(1, 2))\n",
        "\n",
        "X_train_bi = bigram_vec.fit_transform(X_train.apply(lambda x: np.str_(x)))\n",
        "X_test_bi = bigram_vec.transform(X_test.apply(lambda x: np.str_(x)))"
      ],
      "execution_count": null,
      "outputs": []
    },
    {
      "cell_type": "markdown",
      "metadata": {
        "id": "9CRyl0FFPaq_"
      },
      "source": [
        "### Trigram"
      ]
    },
    {
      "cell_type": "code",
      "metadata": {
        "id": "7aaweRYrPaq_"
      },
      "source": [
        "trigram_vec = TfidfVectorizer(stop_words=stop_words, max_features=30000, ngram_range=(1, 3))\n",
        "\n",
        "X_train_tri = trigram_vec.fit_transform(X_train.apply(lambda x: np.str_(x)))\n",
        "X_test_tri = trigram_vec.transform(X_test.apply(lambda x: np.str_(x)))"
      ],
      "execution_count": null,
      "outputs": []
    },
    {
      "cell_type": "markdown",
      "metadata": {
        "id": "72B1zjrgPaq_"
      },
      "source": [
        "## Generate LabelEncoder"
      ]
    },
    {
      "cell_type": "code",
      "metadata": {
        "id": "1yKB9jYsPaq_"
      },
      "source": [
        "label_enc = LabelEncoder()\n",
        "y_train_enc = label_enc.fit_transform(y_train)\n",
        "y_test_enc = label_enc.fit_transform(y_test)"
      ],
      "execution_count": null,
      "outputs": []
    },
    {
      "cell_type": "code",
      "metadata": {
        "colab": {
          "base_uri": "https://localhost:8080/"
        },
        "id": "wcSAePRmPaq_",
        "outputId": "529fe950-d459-4c39-f71b-c2d2aba49735"
      },
      "source": [
        "label_enc.inverse_transform([0, 1, 2]) "
      ],
      "execution_count": null,
      "outputs": [
        {
          "output_type": "execute_result",
          "data": {
            "text/plain": [
              "array(['central', 'links', 'rechts'], dtype=object)"
            ]
          },
          "metadata": {
            "tags": []
          },
          "execution_count": 16
        }
      ]
    },
    {
      "cell_type": "code",
      "metadata": {
        "id": "i_dGW-bvParA"
      },
      "source": [
        "label = [0, 1, 2]\n",
        "target_label = ['central', 'links', 'rechts']"
      ],
      "execution_count": null,
      "outputs": []
    },
    {
      "cell_type": "markdown",
      "metadata": {
        "id": "3GXc4tRkParA"
      },
      "source": [
        "## Apply classifiers"
      ]
    },
    {
      "cell_type": "code",
      "metadata": {
        "id": "j6XnNc-aParA"
      },
      "source": [
        "def run_classifier(clf, X_train, X_test, y_train, y_test, label, target_label):\n",
        "    \n",
        "    print(\"Training of the classifier: {} \\n\".format(clf))\n",
        "    clf.fit(X_train, y_train)\n",
        "    y_pred = clf.predict(X_test)\n",
        "\n",
        "    print(\"\\n\")\n",
        "\n",
        "    print(\"Accuracy of the classifier:     \")\n",
        "    accuracy = accuracy_score(y_test, y_pred)\n",
        "    print(accuracy)\n",
        "\n",
        "    print(\"\\n\")\n",
        "\n",
        "    print(\"Confusion Matrix of the classifier: \\n\")\n",
        "    con_mat = confusion_matrix(y_test, y_pred, labels=label)\n",
        "    print(con_mat)\n",
        "\n",
        "    print(\"\\n\")\n",
        "\n",
        "    print(\"Classification Report of the classifier: \\n\")\n",
        "    report = classification_report(y_test, y_pred, target_names=target_label)\n",
        "    print(report)"
      ],
      "execution_count": null,
      "outputs": []
    },
    {
      "cell_type": "code",
      "metadata": {
        "id": "tluR1ZkwParA"
      },
      "source": [
        "dt = DecisionTreeClassifier(random_state=42)\n",
        "svc = LinearSVC()\n",
        "lr = LogisticRegression(multi_class=\"multinomial\", solver=\"saga\")\n",
        "nb = BernoulliNB()"
      ],
      "execution_count": null,
      "outputs": []
    },
    {
      "cell_type": "markdown",
      "metadata": {
        "id": "t7uFUHAuParB"
      },
      "source": [
        "### ...using with bigrams"
      ]
    },
    {
      "cell_type": "markdown",
      "metadata": {
        "id": "BDGJgP-ZParB"
      },
      "source": [
        "#### Decision Tree"
      ]
    },
    {
      "cell_type": "code",
      "metadata": {
        "colab": {
          "base_uri": "https://localhost:8080/"
        },
        "id": "wzaCWuqFParB",
        "outputId": "ba569cde-1c58-4a68-ea98-ef29ac5d32be"
      },
      "source": [
        "run_classifier(dt, X_train_bi, X_test_bi, y_train_enc, y_test_enc, label, target_label)"
      ],
      "execution_count": null,
      "outputs": [
        {
          "output_type": "stream",
          "text": [
            "Training of the classifier: DecisionTreeClassifier(ccp_alpha=0.0, class_weight=None, criterion='gini',\n",
            "                       max_depth=None, max_features=None, max_leaf_nodes=None,\n",
            "                       min_impurity_decrease=0.0, min_impurity_split=None,\n",
            "                       min_samples_leaf=1, min_samples_split=2,\n",
            "                       min_weight_fraction_leaf=0.0, presort='deprecated',\n",
            "                       random_state=42, splitter='best') \n",
            "\n",
            "\n",
            "\n",
            "Accuracy of the classifier:     \n",
            "0.7016666666666667\n",
            "\n",
            "\n",
            "Confusion Matrix of the classifier: \n",
            "\n",
            "[[882 134 184]\n",
            " [144 883 173]\n",
            " [233 206 761]]\n",
            "\n",
            "\n",
            "Classification Report of the classifier: \n",
            "\n",
            "              precision    recall  f1-score   support\n",
            "\n",
            "     central       0.70      0.73      0.72      1200\n",
            "       links       0.72      0.74      0.73      1200\n",
            "      rechts       0.68      0.63      0.66      1200\n",
            "\n",
            "    accuracy                           0.70      3600\n",
            "   macro avg       0.70      0.70      0.70      3600\n",
            "weighted avg       0.70      0.70      0.70      3600\n",
            "\n"
          ],
          "name": "stdout"
        }
      ]
    },
    {
      "cell_type": "markdown",
      "metadata": {
        "id": "Zm5hOhIHParB"
      },
      "source": [
        "#### Naive Bayes"
      ]
    },
    {
      "cell_type": "code",
      "metadata": {
        "colab": {
          "base_uri": "https://localhost:8080/"
        },
        "id": "HJjlRs6aParB",
        "outputId": "8f6159d0-d82d-4d77-a090-ff15850e89aa"
      },
      "source": [
        "run_classifier(nb, X_train_bi, X_test_bi, y_train_enc, y_test_enc, label, target_label)"
      ],
      "execution_count": null,
      "outputs": [
        {
          "output_type": "stream",
          "text": [
            "Training of the classifier: BernoulliNB(alpha=1.0, binarize=0.0, class_prior=None, fit_prior=True) \n",
            "\n",
            "\n",
            "\n",
            "Accuracy of the classifier:     \n",
            "0.6463888888888889\n",
            "\n",
            "\n",
            "Confusion Matrix of the classifier: \n",
            "\n",
            "[[730  69 401]\n",
            " [150 718 332]\n",
            " [219 102 879]]\n",
            "\n",
            "\n",
            "Classification Report of the classifier: \n",
            "\n",
            "              precision    recall  f1-score   support\n",
            "\n",
            "     central       0.66      0.61      0.64      1200\n",
            "       links       0.81      0.60      0.69      1200\n",
            "      rechts       0.55      0.73      0.63      1200\n",
            "\n",
            "    accuracy                           0.65      3600\n",
            "   macro avg       0.67      0.65      0.65      3600\n",
            "weighted avg       0.67      0.65      0.65      3600\n",
            "\n"
          ],
          "name": "stdout"
        }
      ]
    },
    {
      "cell_type": "markdown",
      "metadata": {
        "id": "ZH64DcP-ParC"
      },
      "source": [
        "#### Support Vector Machine"
      ]
    },
    {
      "cell_type": "code",
      "metadata": {
        "colab": {
          "base_uri": "https://localhost:8080/"
        },
        "id": "6QhvwngjParC",
        "outputId": "fbcb0498-970f-4b35-acc4-82ad4aab6bf8"
      },
      "source": [
        "run_classifier(svc, X_train_bi, X_test_bi, y_train_enc, y_test_enc, label, target_label)"
      ],
      "execution_count": null,
      "outputs": [
        {
          "output_type": "stream",
          "text": [
            "Training of the classifier: LinearSVC(C=1.0, class_weight=None, dual=True, fit_intercept=True,\n",
            "          intercept_scaling=1, loss='squared_hinge', max_iter=1000,\n",
            "          multi_class='ovr', penalty='l2', random_state=None, tol=0.0001,\n",
            "          verbose=0) \n",
            "\n",
            "\n",
            "\n",
            "Accuracy of the classifier:     \n",
            "0.7705555555555555\n",
            "\n",
            "\n",
            "Confusion Matrix of the classifier: \n",
            "\n",
            "[[953  98 149]\n",
            " [125 955 120]\n",
            " [184 150 866]]\n",
            "\n",
            "\n",
            "Classification Report of the classifier: \n",
            "\n",
            "              precision    recall  f1-score   support\n",
            "\n",
            "     central       0.76      0.79      0.77      1200\n",
            "       links       0.79      0.80      0.79      1200\n",
            "      rechts       0.76      0.72      0.74      1200\n",
            "\n",
            "    accuracy                           0.77      3600\n",
            "   macro avg       0.77      0.77      0.77      3600\n",
            "weighted avg       0.77      0.77      0.77      3600\n",
            "\n"
          ],
          "name": "stdout"
        }
      ]
    },
    {
      "cell_type": "markdown",
      "metadata": {
        "id": "NrmgBoHiParC"
      },
      "source": [
        "#### Logistic Regression"
      ]
    },
    {
      "cell_type": "code",
      "metadata": {
        "colab": {
          "base_uri": "https://localhost:8080/"
        },
        "id": "QHP-UtwiParC",
        "outputId": "821e7da8-a8a5-44bf-8fec-87239ad3f788"
      },
      "source": [
        "run_classifier(lr, X_train_bi, X_test_bi, y_train_enc, y_test_enc, label, target_label)"
      ],
      "execution_count": null,
      "outputs": [
        {
          "output_type": "stream",
          "text": [
            "Training of the classifier: LogisticRegression(C=1.0, class_weight=None, dual=False, fit_intercept=True,\n",
            "                   intercept_scaling=1, l1_ratio=None, max_iter=100,\n",
            "                   multi_class='multinomial', n_jobs=None, penalty='l2',\n",
            "                   random_state=None, solver='saga', tol=0.0001, verbose=0,\n",
            "                   warm_start=False) \n",
            "\n",
            "\n",
            "\n",
            "Accuracy of the classifier:     \n",
            "0.7527777777777778\n",
            "\n",
            "\n",
            "Confusion Matrix of the classifier: \n",
            "\n",
            "[[940 116 144]\n",
            " [154 911 135]\n",
            " [195 146 859]]\n",
            "\n",
            "\n",
            "Classification Report of the classifier: \n",
            "\n",
            "              precision    recall  f1-score   support\n",
            "\n",
            "     central       0.73      0.78      0.76      1200\n",
            "       links       0.78      0.76      0.77      1200\n",
            "      rechts       0.75      0.72      0.73      1200\n",
            "\n",
            "    accuracy                           0.75      3600\n",
            "   macro avg       0.75      0.75      0.75      3600\n",
            "weighted avg       0.75      0.75      0.75      3600\n",
            "\n"
          ],
          "name": "stdout"
        }
      ]
    },
    {
      "cell_type": "markdown",
      "metadata": {
        "id": "lC4Bf7qZParD"
      },
      "source": [
        "### ...using trigrams"
      ]
    },
    {
      "cell_type": "markdown",
      "metadata": {
        "id": "Gt6xB6iPParD"
      },
      "source": [
        "#### Decision Tree"
      ]
    },
    {
      "cell_type": "code",
      "metadata": {
        "colab": {
          "base_uri": "https://localhost:8080/"
        },
        "id": "Ml3XsxlgParD",
        "outputId": "709cd9d7-2292-4df7-d891-3d311376af82"
      },
      "source": [
        "run_classifier(dt, X_train_tri, X_test_tri, y_train_enc, y_test_enc, label, target_label)"
      ],
      "execution_count": null,
      "outputs": [
        {
          "output_type": "stream",
          "text": [
            "Training of the classifier: DecisionTreeClassifier(ccp_alpha=0.0, class_weight=None, criterion='gini',\n",
            "                       max_depth=None, max_features=None, max_leaf_nodes=None,\n",
            "                       min_impurity_decrease=0.0, min_impurity_split=None,\n",
            "                       min_samples_leaf=1, min_samples_split=2,\n",
            "                       min_weight_fraction_leaf=0.0, presort='deprecated',\n",
            "                       random_state=42, splitter='best') \n",
            "\n",
            "\n",
            "\n",
            "Accuracy of the classifier:     \n",
            "0.7141666666666666\n",
            "\n",
            "\n",
            "Confusion Matrix of the classifier: \n",
            "\n",
            "[[903 114 183]\n",
            " [154 885 161]\n",
            " [230 187 783]]\n",
            "\n",
            "\n",
            "Classification Report of the classifier: \n",
            "\n",
            "              precision    recall  f1-score   support\n",
            "\n",
            "     central       0.70      0.75      0.73      1200\n",
            "       links       0.75      0.74      0.74      1200\n",
            "      rechts       0.69      0.65      0.67      1200\n",
            "\n",
            "    accuracy                           0.71      3600\n",
            "   macro avg       0.71      0.71      0.71      3600\n",
            "weighted avg       0.71      0.71      0.71      3600\n",
            "\n"
          ],
          "name": "stdout"
        }
      ]
    },
    {
      "cell_type": "markdown",
      "metadata": {
        "id": "zg8nvNgyParD"
      },
      "source": [
        "#### Naive Bayes"
      ]
    },
    {
      "cell_type": "code",
      "metadata": {
        "colab": {
          "base_uri": "https://localhost:8080/"
        },
        "id": "ebjKAZ1AParD",
        "outputId": "62e521e2-0ce6-4034-d58f-96ac2097d6f8"
      },
      "source": [
        "run_classifier(nb, X_train_tri, X_test_tri, y_train_enc, y_test_enc, label, target_label)"
      ],
      "execution_count": null,
      "outputs": [
        {
          "output_type": "stream",
          "text": [
            "Training of the classifier: BernoulliNB(alpha=1.0, binarize=0.0, class_prior=None, fit_prior=True) \n",
            "\n",
            "\n",
            "\n",
            "Accuracy of the classifier:     \n",
            "0.6330555555555556\n",
            "\n",
            "\n",
            "Confusion Matrix of the classifier: \n",
            "\n",
            "[[741  39 420]\n",
            " [170 643 387]\n",
            " [229  76 895]]\n",
            "\n",
            "\n",
            "Classification Report of the classifier: \n",
            "\n",
            "              precision    recall  f1-score   support\n",
            "\n",
            "     central       0.65      0.62      0.63      1200\n",
            "       links       0.85      0.54      0.66      1200\n",
            "      rechts       0.53      0.75      0.62      1200\n",
            "\n",
            "    accuracy                           0.63      3600\n",
            "   macro avg       0.67      0.63      0.64      3600\n",
            "weighted avg       0.67      0.63      0.64      3600\n",
            "\n"
          ],
          "name": "stdout"
        }
      ]
    },
    {
      "cell_type": "markdown",
      "metadata": {
        "id": "III2tRFYParE"
      },
      "source": [
        "#### Support Vector Machine"
      ]
    },
    {
      "cell_type": "code",
      "metadata": {
        "colab": {
          "base_uri": "https://localhost:8080/"
        },
        "id": "7nFsqyJsParE",
        "outputId": "7b3b6590-15a8-4b16-f0f9-0982b776e379"
      },
      "source": [
        "run_classifier(svc, X_train_tri, X_test_tri, y_train_enc, y_test_enc, label, target_label)"
      ],
      "execution_count": null,
      "outputs": [
        {
          "output_type": "stream",
          "text": [
            "Training of the classifier: LinearSVC(C=1.0, class_weight=None, dual=True, fit_intercept=True,\n",
            "          intercept_scaling=1, loss='squared_hinge', max_iter=1000,\n",
            "          multi_class='ovr', penalty='l2', random_state=None, tol=0.0001,\n",
            "          verbose=0) \n",
            "\n",
            "\n",
            "\n",
            "Accuracy of the classifier:     \n",
            "0.7741666666666667\n",
            "\n",
            "\n",
            "Confusion Matrix of the classifier: \n",
            "\n",
            "[[960 100 140]\n",
            " [121 955 124]\n",
            " [180 148 872]]\n",
            "\n",
            "\n",
            "Classification Report of the classifier: \n",
            "\n",
            "              precision    recall  f1-score   support\n",
            "\n",
            "     central       0.76      0.80      0.78      1200\n",
            "       links       0.79      0.80      0.79      1200\n",
            "      rechts       0.77      0.73      0.75      1200\n",
            "\n",
            "    accuracy                           0.77      3600\n",
            "   macro avg       0.77      0.77      0.77      3600\n",
            "weighted avg       0.77      0.77      0.77      3600\n",
            "\n"
          ],
          "name": "stdout"
        }
      ]
    },
    {
      "cell_type": "markdown",
      "metadata": {
        "id": "DRMZawAjParE"
      },
      "source": [
        "#### Logistic Regression"
      ]
    },
    {
      "cell_type": "code",
      "metadata": {
        "colab": {
          "base_uri": "https://localhost:8080/"
        },
        "id": "Aee6UibyParE",
        "outputId": "bdf34a65-a910-4f53-e467-fd6bc5e52aaf"
      },
      "source": [
        "run_classifier(lr, X_train_tri, X_test_tri, y_train_enc, y_test_enc, label, target_label)"
      ],
      "execution_count": null,
      "outputs": [
        {
          "output_type": "stream",
          "text": [
            "Training of the classifier: LogisticRegression(C=1.0, class_weight=None, dual=False, fit_intercept=True,\n",
            "                   intercept_scaling=1, l1_ratio=None, max_iter=100,\n",
            "                   multi_class='multinomial', n_jobs=None, penalty='l2',\n",
            "                   random_state=None, solver='saga', tol=0.0001, verbose=0,\n",
            "                   warm_start=False) \n",
            "\n",
            "\n",
            "\n",
            "Accuracy of the classifier:     \n",
            "0.7533333333333333\n",
            "\n",
            "\n",
            "Confusion Matrix of the classifier: \n",
            "\n",
            "[[945 113 142]\n",
            " [156 913 131]\n",
            " [196 150 854]]\n",
            "\n",
            "\n",
            "Classification Report of the classifier: \n",
            "\n",
            "              precision    recall  f1-score   support\n",
            "\n",
            "     central       0.73      0.79      0.76      1200\n",
            "       links       0.78      0.76      0.77      1200\n",
            "      rechts       0.76      0.71      0.73      1200\n",
            "\n",
            "    accuracy                           0.75      3600\n",
            "   macro avg       0.75      0.75      0.75      3600\n",
            "weighted avg       0.75      0.75      0.75      3600\n",
            "\n"
          ],
          "name": "stdout"
        }
      ]
    },
    {
      "cell_type": "code",
      "metadata": {
        "id": "pA3LOSivParE"
      },
      "source": [
        ""
      ],
      "execution_count": null,
      "outputs": []
    }
  ]
}