{
  "nbformat": 4,
  "nbformat_minor": 0,
  "metadata": {
    "kernelspec": {
      "name": "python3",
      "display_name": "Python 3"
    },
    "colab": {
      "name": "07_AbSt02_ktrain_classfiers.ipynb",
      "provenance": []
    },
    "accelerator": "GPU"
  },
  "cells": [
    {
      "cell_type": "code",
      "metadata": {
        "colab": {
          "base_uri": "https://localhost:8080/"
        },
        "id": "6TvncFZ1w7wV",
        "outputId": "77e95eb4-3827-4fcb-bcfc-86276672a2d0"
      },
      "source": [
        "!pip install ktrain"
      ],
      "execution_count": null,
      "outputs": [
        {
          "output_type": "stream",
          "text": [
            "Collecting ktrain\n",
            "\u001b[?25l  Downloading https://files.pythonhosted.org/packages/e1/3c/8469632f3fa51f244ce35ac184de4c55a260dccfcb7386529faf82ebf60f/ktrain-0.25.4.tar.gz (25.3MB)\n",
            "\u001b[K     |████████████████████████████████| 25.3MB 123kB/s \n",
            "\u001b[?25hCollecting scikit-learn==0.23.2\n",
            "\u001b[?25l  Downloading https://files.pythonhosted.org/packages/5c/a1/273def87037a7fb010512bbc5901c31cfddfca8080bc63b42b26e3cc55b3/scikit_learn-0.23.2-cp36-cp36m-manylinux1_x86_64.whl (6.8MB)\n",
            "\u001b[K     |████████████████████████████████| 6.8MB 58.6MB/s \n",
            "\u001b[?25hRequirement already satisfied: matplotlib>=3.0.0 in /usr/local/lib/python3.6/dist-packages (from ktrain) (3.2.2)\n",
            "Requirement already satisfied: pandas>=1.0.1 in /usr/local/lib/python3.6/dist-packages (from ktrain) (1.1.5)\n",
            "Requirement already satisfied: fastprogress>=0.1.21 in /usr/local/lib/python3.6/dist-packages (from ktrain) (1.0.0)\n",
            "Requirement already satisfied: requests in /usr/local/lib/python3.6/dist-packages (from ktrain) (2.23.0)\n",
            "Requirement already satisfied: joblib in /usr/local/lib/python3.6/dist-packages (from ktrain) (1.0.0)\n",
            "Requirement already satisfied: packaging in /usr/local/lib/python3.6/dist-packages (from ktrain) (20.8)\n",
            "Requirement already satisfied: ipython in /usr/local/lib/python3.6/dist-packages (from ktrain) (5.5.0)\n",
            "Collecting langdetect\n",
            "\u001b[?25l  Downloading https://files.pythonhosted.org/packages/56/a3/8407c1e62d5980188b4acc45ef3d94b933d14a2ebc9ef3505f22cf772570/langdetect-1.0.8.tar.gz (981kB)\n",
            "\u001b[K     |████████████████████████████████| 983kB 51.4MB/s \n",
            "\u001b[?25hRequirement already satisfied: jieba in /usr/local/lib/python3.6/dist-packages (from ktrain) (0.42.1)\n",
            "Collecting cchardet\n",
            "\u001b[?25l  Downloading https://files.pythonhosted.org/packages/a0/e5/a0b9edd8664ea3b0d3270c451ebbf86655ed9fc4c3e4c45b9afae9c2e382/cchardet-2.1.7-cp36-cp36m-manylinux2010_x86_64.whl (263kB)\n",
            "\u001b[K     |████████████████████████████████| 266kB 48.1MB/s \n",
            "\u001b[?25hCollecting syntok\n",
            "  Downloading https://files.pythonhosted.org/packages/8c/76/a49e73a04b3e3a14ce232e8e28a1587f8108baa665644fe8c40e307e792e/syntok-1.3.1.tar.gz\n",
            "Collecting seqeval==0.0.19\n",
            "  Downloading https://files.pythonhosted.org/packages/93/e5/b7705156a77f742cfe4fc6f22d0c71591edb2d243328dff2f8fc0f933ab6/seqeval-0.0.19.tar.gz\n",
            "Collecting transformers<4.0,>=3.1.0\n",
            "\u001b[?25l  Downloading https://files.pythonhosted.org/packages/3a/83/e74092e7f24a08d751aa59b37a9fc572b2e4af3918cb66f7766c3affb1b4/transformers-3.5.1-py3-none-any.whl (1.3MB)\n",
            "\u001b[K     |████████████████████████████████| 1.3MB 29.7MB/s \n",
            "\u001b[?25hCollecting sentencepiece\n",
            "\u001b[?25l  Downloading https://files.pythonhosted.org/packages/14/67/e42bd1181472c95c8cda79305df848264f2a7f62740995a46945d9797b67/sentencepiece-0.1.95-cp36-cp36m-manylinux2014_x86_64.whl (1.2MB)\n",
            "\u001b[K     |████████████████████████████████| 1.2MB 45.3MB/s \n",
            "\u001b[?25hCollecting keras_bert>=0.86.0\n",
            "  Downloading https://files.pythonhosted.org/packages/e2/7f/95fabd29f4502924fa3f09ff6538c5a7d290dfef2c2fe076d3d1a16e08f0/keras-bert-0.86.0.tar.gz\n",
            "Requirement already satisfied: networkx>=2.3 in /usr/local/lib/python3.6/dist-packages (from ktrain) (2.5)\n",
            "Collecting whoosh\n",
            "\u001b[?25l  Downloading https://files.pythonhosted.org/packages/ba/19/24d0f1f454a2c1eb689ca28d2f178db81e5024f42d82729a4ff6771155cf/Whoosh-2.7.4-py2.py3-none-any.whl (468kB)\n",
            "\u001b[K     |████████████████████████████████| 471kB 40.6MB/s \n",
            "\u001b[?25hRequirement already satisfied: scipy>=0.19.1 in /usr/local/lib/python3.6/dist-packages (from scikit-learn==0.23.2->ktrain) (1.4.1)\n",
            "Collecting threadpoolctl>=2.0.0\n",
            "  Downloading https://files.pythonhosted.org/packages/f7/12/ec3f2e203afa394a149911729357aa48affc59c20e2c1c8297a60f33f133/threadpoolctl-2.1.0-py3-none-any.whl\n",
            "Requirement already satisfied: numpy>=1.13.3 in /usr/local/lib/python3.6/dist-packages (from scikit-learn==0.23.2->ktrain) (1.19.5)\n",
            "Requirement already satisfied: python-dateutil>=2.1 in /usr/local/lib/python3.6/dist-packages (from matplotlib>=3.0.0->ktrain) (2.8.1)\n",
            "Requirement already satisfied: cycler>=0.10 in /usr/local/lib/python3.6/dist-packages (from matplotlib>=3.0.0->ktrain) (0.10.0)\n",
            "Requirement already satisfied: kiwisolver>=1.0.1 in /usr/local/lib/python3.6/dist-packages (from matplotlib>=3.0.0->ktrain) (1.3.1)\n",
            "Requirement already satisfied: pyparsing!=2.0.4,!=2.1.2,!=2.1.6,>=2.0.1 in /usr/local/lib/python3.6/dist-packages (from matplotlib>=3.0.0->ktrain) (2.4.7)\n",
            "Requirement already satisfied: pytz>=2017.2 in /usr/local/lib/python3.6/dist-packages (from pandas>=1.0.1->ktrain) (2018.9)\n",
            "Requirement already satisfied: idna<3,>=2.5 in /usr/local/lib/python3.6/dist-packages (from requests->ktrain) (2.10)\n",
            "Requirement already satisfied: certifi>=2017.4.17 in /usr/local/lib/python3.6/dist-packages (from requests->ktrain) (2020.12.5)\n",
            "Requirement already satisfied: chardet<4,>=3.0.2 in /usr/local/lib/python3.6/dist-packages (from requests->ktrain) (3.0.4)\n",
            "Requirement already satisfied: urllib3!=1.25.0,!=1.25.1,<1.26,>=1.21.1 in /usr/local/lib/python3.6/dist-packages (from requests->ktrain) (1.24.3)\n",
            "Requirement already satisfied: prompt-toolkit<2.0.0,>=1.0.4 in /usr/local/lib/python3.6/dist-packages (from ipython->ktrain) (1.0.18)\n",
            "Requirement already satisfied: pickleshare in /usr/local/lib/python3.6/dist-packages (from ipython->ktrain) (0.7.5)\n",
            "Requirement already satisfied: decorator in /usr/local/lib/python3.6/dist-packages (from ipython->ktrain) (4.4.2)\n",
            "Requirement already satisfied: setuptools>=18.5 in /usr/local/lib/python3.6/dist-packages (from ipython->ktrain) (51.3.3)\n",
            "Requirement already satisfied: simplegeneric>0.8 in /usr/local/lib/python3.6/dist-packages (from ipython->ktrain) (0.8.1)\n",
            "Requirement already satisfied: pexpect; sys_platform != \"win32\" in /usr/local/lib/python3.6/dist-packages (from ipython->ktrain) (4.8.0)\n",
            "Requirement already satisfied: pygments in /usr/local/lib/python3.6/dist-packages (from ipython->ktrain) (2.6.1)\n",
            "Requirement already satisfied: traitlets>=4.2 in /usr/local/lib/python3.6/dist-packages (from ipython->ktrain) (4.3.3)\n",
            "Requirement already satisfied: six in /usr/local/lib/python3.6/dist-packages (from langdetect->ktrain) (1.15.0)\n",
            "Requirement already satisfied: regex in /usr/local/lib/python3.6/dist-packages (from syntok->ktrain) (2019.12.20)\n",
            "Requirement already satisfied: Keras>=2.2.4 in /usr/local/lib/python3.6/dist-packages (from seqeval==0.0.19->ktrain) (2.4.3)\n",
            "Requirement already satisfied: filelock in /usr/local/lib/python3.6/dist-packages (from transformers<4.0,>=3.1.0->ktrain) (3.0.12)\n",
            "Requirement already satisfied: protobuf in /usr/local/lib/python3.6/dist-packages (from transformers<4.0,>=3.1.0->ktrain) (3.12.4)\n",
            "Collecting tokenizers==0.9.3\n",
            "\u001b[?25l  Downloading https://files.pythonhosted.org/packages/4c/34/b39eb9994bc3c999270b69c9eea40ecc6f0e97991dba28282b9fd32d44ee/tokenizers-0.9.3-cp36-cp36m-manylinux1_x86_64.whl (2.9MB)\n",
            "\u001b[K     |████████████████████████████████| 2.9MB 47.1MB/s \n",
            "\u001b[?25hRequirement already satisfied: tqdm>=4.27 in /usr/local/lib/python3.6/dist-packages (from transformers<4.0,>=3.1.0->ktrain) (4.41.1)\n",
            "Collecting sacremoses\n",
            "\u001b[?25l  Downloading https://files.pythonhosted.org/packages/7d/34/09d19aff26edcc8eb2a01bed8e98f13a1537005d31e95233fd48216eed10/sacremoses-0.0.43.tar.gz (883kB)\n",
            "\u001b[K     |████████████████████████████████| 890kB 43.3MB/s \n",
            "\u001b[?25hRequirement already satisfied: dataclasses; python_version < \"3.7\" in /usr/local/lib/python3.6/dist-packages (from transformers<4.0,>=3.1.0->ktrain) (0.8)\n",
            "Collecting keras-transformer>=0.38.0\n",
            "  Downloading https://files.pythonhosted.org/packages/89/6c/d6f0c164f4cc16fbc0d0fea85f5526e87a7d2df7b077809e422a7e626150/keras-transformer-0.38.0.tar.gz\n",
            "Requirement already satisfied: wcwidth in /usr/local/lib/python3.6/dist-packages (from prompt-toolkit<2.0.0,>=1.0.4->ipython->ktrain) (0.2.5)\n",
            "Requirement already satisfied: ptyprocess>=0.5 in /usr/local/lib/python3.6/dist-packages (from pexpect; sys_platform != \"win32\"->ipython->ktrain) (0.7.0)\n",
            "Requirement already satisfied: ipython-genutils in /usr/local/lib/python3.6/dist-packages (from traitlets>=4.2->ipython->ktrain) (0.2.0)\n",
            "Requirement already satisfied: pyyaml in /usr/local/lib/python3.6/dist-packages (from Keras>=2.2.4->seqeval==0.0.19->ktrain) (3.13)\n",
            "Requirement already satisfied: h5py in /usr/local/lib/python3.6/dist-packages (from Keras>=2.2.4->seqeval==0.0.19->ktrain) (2.10.0)\n",
            "Requirement already satisfied: click in /usr/local/lib/python3.6/dist-packages (from sacremoses->transformers<4.0,>=3.1.0->ktrain) (7.1.2)\n",
            "Collecting keras-pos-embd>=0.11.0\n",
            "  Downloading https://files.pythonhosted.org/packages/09/70/b63ed8fc660da2bb6ae29b9895401c628da5740c048c190b5d7107cadd02/keras-pos-embd-0.11.0.tar.gz\n",
            "Collecting keras-multi-head>=0.27.0\n",
            "  Downloading https://files.pythonhosted.org/packages/e6/32/45adf2549450aca7867deccfa04af80a0ab1ca139af44b16bc669e0e09cd/keras-multi-head-0.27.0.tar.gz\n",
            "Collecting keras-layer-normalization>=0.14.0\n",
            "  Downloading https://files.pythonhosted.org/packages/a4/0e/d1078df0494bac9ce1a67954e5380b6e7569668f0f3b50a9531c62c1fc4a/keras-layer-normalization-0.14.0.tar.gz\n",
            "Collecting keras-position-wise-feed-forward>=0.6.0\n",
            "  Downloading https://files.pythonhosted.org/packages/e3/59/f0faa1037c033059e7e9e7758e6c23b4d1c0772cd48de14c4b6fd4033ad5/keras-position-wise-feed-forward-0.6.0.tar.gz\n",
            "Collecting keras-embed-sim>=0.8.0\n",
            "  Downloading https://files.pythonhosted.org/packages/57/ef/61a1e39082c9e1834a2d09261d4a0b69f7c818b359216d4e1912b20b1c86/keras-embed-sim-0.8.0.tar.gz\n",
            "Collecting keras-self-attention==0.46.0\n",
            "  Downloading https://files.pythonhosted.org/packages/15/6b/c804924a056955fa1f3ff767945187103cfc851ba9bd0fc5a6c6bc18e2eb/keras-self-attention-0.46.0.tar.gz\n",
            "Building wheels for collected packages: ktrain, langdetect, syntok, seqeval, keras-bert, sacremoses, keras-transformer, keras-pos-embd, keras-multi-head, keras-layer-normalization, keras-position-wise-feed-forward, keras-embed-sim, keras-self-attention\n",
            "  Building wheel for ktrain (setup.py) ... \u001b[?25l\u001b[?25hdone\n",
            "  Created wheel for ktrain: filename=ktrain-0.25.4-cp36-none-any.whl size=25276443 sha256=829cce6a70f3ad82149fff59600806565b214f994468558cfca30eb50aed2841\n",
            "  Stored in directory: /root/.cache/pip/wheels/1b/77/8a/bdceaabc308e7178d575278bf6143b7d1a9b939a1e40c56b88\n",
            "  Building wheel for langdetect (setup.py) ... \u001b[?25l\u001b[?25hdone\n",
            "  Created wheel for langdetect: filename=langdetect-1.0.8-cp36-none-any.whl size=993194 sha256=093d83c7e1e0a6d9bce50b1da5479c559e236ca132f7091083a6cbf4476809fe\n",
            "  Stored in directory: /root/.cache/pip/wheels/8d/b3/aa/6d99de9f3841d7d3d40a60ea06e6d669e8e5012e6c8b947a57\n",
            "  Building wheel for syntok (setup.py) ... \u001b[?25l\u001b[?25hdone\n",
            "  Created wheel for syntok: filename=syntok-1.3.1-cp36-none-any.whl size=20918 sha256=600f6809e926d0039e8ce8f1f7ab19a25849541c529d87020cf9340793b364f0\n",
            "  Stored in directory: /root/.cache/pip/wheels/51/c6/a4/be1920586c49469846bcd2888200bdecfe109ec421dab9be2d\n",
            "  Building wheel for seqeval (setup.py) ... \u001b[?25l\u001b[?25hdone\n",
            "  Created wheel for seqeval: filename=seqeval-0.0.19-cp36-none-any.whl size=9919 sha256=4bb4c25266e0139cdb0aed9870530d62196b2d5581d7e79040174bda9551fa8d\n",
            "  Stored in directory: /root/.cache/pip/wheels/8d/1f/bf/1198beceed805a2099060975f6281d1b01046dd279e19c97be\n",
            "  Building wheel for keras-bert (setup.py) ... \u001b[?25l\u001b[?25hdone\n",
            "  Created wheel for keras-bert: filename=keras_bert-0.86.0-cp36-none-any.whl size=34145 sha256=684da81bd3f7dc751c0b573668a4066464ad38dd837aadd9d2627bce23ef2bd7\n",
            "  Stored in directory: /root/.cache/pip/wheels/66/f0/b1/748128b58562fc9e31b907bb5e2ab6a35eb37695e83911236b\n",
            "  Building wheel for sacremoses (setup.py) ... \u001b[?25l\u001b[?25hdone\n",
            "  Created wheel for sacremoses: filename=sacremoses-0.0.43-cp36-none-any.whl size=893261 sha256=6b2f54d128d630a3324531c5abab55f998c1d2b2009c76290d9b88a4096cb144\n",
            "  Stored in directory: /root/.cache/pip/wheels/29/3c/fd/7ce5c3f0666dab31a50123635e6fb5e19ceb42ce38d4e58f45\n",
            "  Building wheel for keras-transformer (setup.py) ... \u001b[?25l\u001b[?25hdone\n",
            "  Created wheel for keras-transformer: filename=keras_transformer-0.38.0-cp36-none-any.whl size=12944 sha256=eae4367ccd5e6cebec8ec3978cc445e4e9bf1a8a034d01fb574bc63a2d34a952\n",
            "  Stored in directory: /root/.cache/pip/wheels/e5/fb/3a/37b2b9326c799aa010ae46a04ddb04f320d8c77c0b7e837f4e\n",
            "  Building wheel for keras-pos-embd (setup.py) ... \u001b[?25l\u001b[?25hdone\n",
            "  Created wheel for keras-pos-embd: filename=keras_pos_embd-0.11.0-cp36-none-any.whl size=7553 sha256=3537b36aa44204c91d1e512dab4098da835e0c7fda0ed67f3c270eac765282dc\n",
            "  Stored in directory: /root/.cache/pip/wheels/5b/a1/a0/ce6b1d49ba1a9a76f592e70cf297b05c96bc9f418146761032\n",
            "  Building wheel for keras-multi-head (setup.py) ... \u001b[?25l\u001b[?25hdone\n",
            "  Created wheel for keras-multi-head: filename=keras_multi_head-0.27.0-cp36-none-any.whl size=15612 sha256=e8ad10e01f58c3c301b5a8e6a773b604cd1321749e02b33d20ee4b48cec355aa\n",
            "  Stored in directory: /root/.cache/pip/wheels/b5/b4/49/0a0c27dcb93c13af02fea254ff51d1a43a924dd4e5b7a7164d\n",
            "  Building wheel for keras-layer-normalization (setup.py) ... \u001b[?25l\u001b[?25hdone\n",
            "  Created wheel for keras-layer-normalization: filename=keras_layer_normalization-0.14.0-cp36-none-any.whl size=5267 sha256=057125de07ccd469ba4463d7d478c6a68c6a12cca71b425ebd1e64c0c8d1d1bf\n",
            "  Stored in directory: /root/.cache/pip/wheels/54/80/22/a638a7d406fd155e507aa33d703e3fa2612b9eb7bb4f4fe667\n",
            "  Building wheel for keras-position-wise-feed-forward (setup.py) ... \u001b[?25l\u001b[?25hdone\n",
            "  Created wheel for keras-position-wise-feed-forward: filename=keras_position_wise_feed_forward-0.6.0-cp36-none-any.whl size=5625 sha256=b331582411eef2012bc8ec72d2f4115603921957e2419adaefde8a268bb4a1ec\n",
            "  Stored in directory: /root/.cache/pip/wheels/39/e2/e2/3514fef126a00574b13bc0b9e23891800158df3a3c19c96e3b\n",
            "  Building wheel for keras-embed-sim (setup.py) ... \u001b[?25l\u001b[?25hdone\n",
            "  Created wheel for keras-embed-sim: filename=keras_embed_sim-0.8.0-cp36-none-any.whl size=4559 sha256=ca79056b6cfee01c0bad1a9be6d47e07915d9b1940a99eda60cb7769d6bb83fa\n",
            "  Stored in directory: /root/.cache/pip/wheels/49/45/8b/c111f6cc8bec253e984677de73a6f4f5d2f1649f42aac191c8\n",
            "  Building wheel for keras-self-attention (setup.py) ... \u001b[?25l\u001b[?25hdone\n",
            "  Created wheel for keras-self-attention: filename=keras_self_attention-0.46.0-cp36-none-any.whl size=17278 sha256=b4a9d221850623eca46c6b151cc98139cfcc639de9a62a68d691d57ce54a85f9\n",
            "  Stored in directory: /root/.cache/pip/wheels/d2/2e/80/fec4c05eb23c8e13b790e26d207d6e0ffe8013fad8c6bdd4d2\n",
            "Successfully built ktrain langdetect syntok seqeval keras-bert sacremoses keras-transformer keras-pos-embd keras-multi-head keras-layer-normalization keras-position-wise-feed-forward keras-embed-sim keras-self-attention\n",
            "\u001b[31mERROR: transformers 3.5.1 has requirement sentencepiece==0.1.91, but you'll have sentencepiece 0.1.95 which is incompatible.\u001b[0m\n",
            "Installing collected packages: threadpoolctl, scikit-learn, langdetect, cchardet, syntok, seqeval, tokenizers, sacremoses, sentencepiece, transformers, keras-pos-embd, keras-self-attention, keras-multi-head, keras-layer-normalization, keras-position-wise-feed-forward, keras-embed-sim, keras-transformer, keras-bert, whoosh, ktrain\n",
            "  Found existing installation: scikit-learn 0.22.2.post1\n",
            "    Uninstalling scikit-learn-0.22.2.post1:\n",
            "      Successfully uninstalled scikit-learn-0.22.2.post1\n",
            "Successfully installed cchardet-2.1.7 keras-bert-0.86.0 keras-embed-sim-0.8.0 keras-layer-normalization-0.14.0 keras-multi-head-0.27.0 keras-pos-embd-0.11.0 keras-position-wise-feed-forward-0.6.0 keras-self-attention-0.46.0 keras-transformer-0.38.0 ktrain-0.25.4 langdetect-1.0.8 sacremoses-0.0.43 scikit-learn-0.23.2 sentencepiece-0.1.95 seqeval-0.0.19 syntok-1.3.1 threadpoolctl-2.1.0 tokenizers-0.9.3 transformers-3.5.1 whoosh-2.7.4\n"
          ],
          "name": "stdout"
        }
      ]
    },
    {
      "cell_type": "code",
      "metadata": {
        "id": "ngdXoSa6wy1_"
      },
      "source": [
        "import ktrain\n",
        "from ktrain import text"
      ],
      "execution_count": null,
      "outputs": []
    },
    {
      "cell_type": "markdown",
      "metadata": {
        "id": "XLSvQP93wy2D"
      },
      "source": [
        "## Loading data"
      ]
    },
    {
      "cell_type": "code",
      "metadata": {
        "colab": {
          "base_uri": "https://localhost:8080/"
        },
        "id": "m2PUhJVKxBat",
        "outputId": "13251bad-89cd-4968-b56e-93d3172daabc"
      },
      "source": [
        "from google.colab import drive\r\n",
        "drive.mount('/content/drive')"
      ],
      "execution_count": null,
      "outputs": [
        {
          "output_type": "stream",
          "text": [
            "Drive already mounted at /content/drive; to attempt to forcibly remount, call drive.mount(\"/content/drive\", force_remount=True).\n"
          ],
          "name": "stdout"
        }
      ]
    },
    {
      "cell_type": "code",
      "metadata": {
        "id": "2E0hiEiJwy2E",
        "colab": {
          "base_uri": "https://localhost:8080/"
        },
        "outputId": "6ed3a7b6-4345-427b-dab4-d4cad9f68892"
      },
      "source": [
        "%%time\n",
        "trn, val, preproc = text.texts_from_folder(\"/content/drive/MyDrive/Masterarbeit/GeneratedTXT_Files/Ablation02/\", \n",
        "                                           max_features=20000, maxlen=512, \n",
        "                                           ngram_range=1, \n",
        "                                           preprocess_mode='standard',\n",
        "                                           classes=['central', 'rechts', 'links'])"
      ],
      "execution_count": null,
      "outputs": [
        {
          "output_type": "stream",
          "text": [
            "detected encoding: utf-8\n",
            "language: de\n",
            "Word Counts: 307783\n",
            "Nrows: 14400\n",
            "14400 train sequences\n",
            "train sequence lengths:\n",
            "\tmean : 445\n",
            "\t95percentile : 1433\n",
            "\t99percentile : 2581\n",
            "x_train shape: (14400,512)\n",
            "y_train shape: (14400, 3)\n",
            "Is Multi-Label? False\n",
            "3600 test sequences\n",
            "test sequence lengths:\n",
            "\tmean : 450\n",
            "\t95percentile : 1453\n",
            "\t99percentile : 2630\n",
            "x_test shape: (3600,512)\n",
            "y_test shape: (3600, 3)\n",
            "CPU times: user 20.8 s, sys: 2.83 s, total: 23.6 s\n",
            "Wall time: 54min 27s\n"
          ],
          "name": "stdout"
        }
      ]
    },
    {
      "cell_type": "markdown",
      "metadata": {
        "id": "XdrAYmLJwy2F"
      },
      "source": [
        "## Inspection of available classifiers"
      ]
    },
    {
      "cell_type": "code",
      "metadata": {
        "id": "-Wv4Y1IDwy2F",
        "colab": {
          "base_uri": "https://localhost:8080/"
        },
        "outputId": "c47810b9-8b45-45df-fc62-9bd6556ab150"
      },
      "source": [
        "text.print_text_classifiers()"
      ],
      "execution_count": null,
      "outputs": [
        {
          "output_type": "stream",
          "text": [
            "fasttext: a fastText-like model [http://arxiv.org/pdf/1607.01759.pdf]\n",
            "logreg: logistic regression using a trainable Embedding layer\n",
            "nbsvm: NBSVM model [http://www.aclweb.org/anthology/P12-2018]\n",
            "bigru: Bidirectional GRU with pretrained fasttext word vectors [https://fasttext.cc/docs/en/crawl-vectors.html]\n",
            "standard_gru: simple 2-layer GRU with randomly initialized embeddings\n",
            "bert: Bidirectional Encoder Representations from Transformers (BERT) from keras_bert [https://arxiv.org/abs/1810.04805]\n",
            "distilbert: distilled, smaller, and faster BERT from Hugging Face transformers [https://arxiv.org/abs/1910.01108]\n"
          ],
          "name": "stdout"
        }
      ]
    },
    {
      "cell_type": "markdown",
      "metadata": {
        "id": "zUJatQr5wy2G"
      },
      "source": [
        "### Applying the fasttext model (mod_17):"
      ]
    },
    {
      "cell_type": "code",
      "metadata": {
        "id": "gmEGHJ7nwy2G",
        "colab": {
          "base_uri": "https://localhost:8080/"
        },
        "outputId": "b98440af-c0ec-46c5-829c-dd10c0dcec33"
      },
      "source": [
        "fasttext = text.text_classifier(\"fasttext\", trn, preproc=preproc)"
      ],
      "execution_count": null,
      "outputs": [
        {
          "output_type": "stream",
          "text": [
            "Is Multi-Label? False\n",
            "compiling word ID features...\n",
            "maxlen is 512\n",
            "done.\n"
          ],
          "name": "stdout"
        }
      ]
    },
    {
      "cell_type": "code",
      "metadata": {
        "id": "dRTigl96wy2G"
      },
      "source": [
        "learner_ft = ktrain.get_learner(fasttext, train_data=trn, val_data=val)"
      ],
      "execution_count": null,
      "outputs": []
    },
    {
      "cell_type": "code",
      "metadata": {
        "id": "S_zb-7bywy2H",
        "colab": {
          "base_uri": "https://localhost:8080/",
          "height": 535
        },
        "outputId": "6961c804-60b4-4c74-fdd7-b0b7fc88d1fe"
      },
      "source": [
        "learner_ft.lr_find(show_plot=True, max_epochs=5)"
      ],
      "execution_count": null,
      "outputs": [
        {
          "output_type": "stream",
          "text": [
            "simulating training for different learning rates... this may take a few moments...\n",
            "Epoch 1/5\n",
            "450/450 [==============================] - 9s 16ms/step - loss: 1.5150 - accuracy: 0.3364\n",
            "Epoch 2/5\n",
            "450/450 [==============================] - 7s 16ms/step - loss: 1.5131 - accuracy: 0.3359\n",
            "Epoch 3/5\n",
            "450/450 [==============================] - 7s 15ms/step - loss: 1.3915 - accuracy: 0.3490\n",
            "Epoch 4/5\n",
            "450/450 [==============================] - 7s 16ms/step - loss: 1.0690 - accuracy: 0.4257\n",
            "Epoch 5/5\n",
            "450/450 [==============================] - 3s 7ms/step - loss: 36.1550 - accuracy: 0.3311\n",
            "\n",
            "\n",
            "done.\n",
            "Visually inspect loss plot and select learning rate associated with falling loss\n"
          ],
          "name": "stdout"
        },
        {
          "output_type": "display_data",
          "data": {
            "image/png": "[encoded data removed]",
            "text/plain": [
              "<Figure size 432x288 with 1 Axes>"
            ]
          },
          "metadata": {
            "tags": [],
            "needs_background": "light"
          }
        }
      ]
    },
    {
      "cell_type": "code",
      "metadata": {
        "id": "a_wC0Prdwy2H",
        "colab": {
          "base_uri": "https://localhost:8080/"
        },
        "outputId": "f5dfd53d-f7a6-44aa-e237-fa65e03629ca"
      },
      "source": [
        "learner_ft.lr_estimate()"
      ],
      "execution_count": null,
      "outputs": [
        {
          "output_type": "execute_result",
          "data": {
            "text/plain": [
              "(0.0049355268, 0.007061377167701721)"
            ]
          },
          "metadata": {
            "tags": []
          },
          "execution_count": 10
        }
      ]
    },
    {
      "cell_type": "code",
      "metadata": {
        "id": "_slFcVLGwy2H",
        "colab": {
          "base_uri": "https://localhost:8080/"
        },
        "outputId": "99a6ceba-7342-4477-8448-fd7db1ebefe4"
      },
      "source": [
        "learner_ft.fit(learner_ft.lr_estimate()[1], 5)"
      ],
      "execution_count": null,
      "outputs": [
        {
          "output_type": "stream",
          "text": [
            "Epoch 1/5\n",
            "450/450 [==============================] - 8s 17ms/step - loss: 1.0923 - accuracy: 0.4111 - val_loss: 0.9284 - val_accuracy: 0.5439\n",
            "Epoch 2/5\n",
            "450/450 [==============================] - 7s 16ms/step - loss: 0.9319 - accuracy: 0.5308 - val_loss: 0.8421 - val_accuracy: 0.6083\n",
            "Epoch 3/5\n",
            "450/450 [==============================] - 7s 16ms/step - loss: 0.8447 - accuracy: 0.5997 - val_loss: 0.7836 - val_accuracy: 0.6744\n",
            "Epoch 4/5\n",
            "450/450 [==============================] - 7s 16ms/step - loss: 0.7943 - accuracy: 0.6400 - val_loss: 0.7230 - val_accuracy: 0.6931\n",
            "Epoch 5/5\n",
            "450/450 [==============================] - 7s 15ms/step - loss: 0.7424 - accuracy: 0.6712 - val_loss: 0.7235 - val_accuracy: 0.7003\n"
          ],
          "name": "stdout"
        },
        {
          "output_type": "execute_result",
          "data": {
            "text/plain": [
              "<tensorflow.python.keras.callbacks.History at 0x7fd0884a9198>"
            ]
          },
          "metadata": {
            "tags": []
          },
          "execution_count": 11
        }
      ]
    },
    {
      "cell_type": "code",
      "metadata": {
        "id": "b-G6BVVcwy2I",
        "colab": {
          "base_uri": "https://localhost:8080/"
        },
        "outputId": "33f28716-5c9e-4654-d733-145399b7f66d"
      },
      "source": [
        "# Since val_loss still decreass train for 5 epochs\n",
        "learner_ft.fit(learner_ft.lr_estimate()[1], 5)"
      ],
      "execution_count": null,
      "outputs": [
        {
          "output_type": "stream",
          "text": [
            "Epoch 1/5\n",
            "450/450 [==============================] - 7s 16ms/step - loss: 0.6934 - accuracy: 0.6967 - val_loss: 0.6725 - val_accuracy: 0.7247\n",
            "Epoch 2/5\n",
            "450/450 [==============================] - 7s 15ms/step - loss: 0.6681 - accuracy: 0.7119 - val_loss: 0.6643 - val_accuracy: 0.7356\n",
            "Epoch 3/5\n",
            "450/450 [==============================] - 7s 15ms/step - loss: 0.6201 - accuracy: 0.7364 - val_loss: 0.6239 - val_accuracy: 0.7389\n",
            "Epoch 4/5\n",
            "450/450 [==============================] - 7s 15ms/step - loss: 0.6065 - accuracy: 0.7456 - val_loss: 0.6379 - val_accuracy: 0.7419\n",
            "Epoch 5/5\n",
            "450/450 [==============================] - 7s 16ms/step - loss: 0.5754 - accuracy: 0.7664 - val_loss: 0.6447 - val_accuracy: 0.7469\n"
          ],
          "name": "stdout"
        },
        {
          "output_type": "execute_result",
          "data": {
            "text/plain": [
              "<tensorflow.python.keras.callbacks.History at 0x7fd0d8c15278>"
            ]
          },
          "metadata": {
            "tags": []
          },
          "execution_count": 12
        }
      ]
    },
    {
      "cell_type": "code",
      "metadata": {
        "id": "vly98VD5wy2I",
        "colab": {
          "base_uri": "https://localhost:8080/"
        },
        "outputId": "057b9bcc-816f-4af8-f460-436bcaf5214a"
      },
      "source": [
        "# Since val_loss still decreass train for 5 epochs\n",
        "learner_ft.fit(learner_ft.lr_estimate()[1], 5)"
      ],
      "execution_count": null,
      "outputs": [
        {
          "output_type": "stream",
          "text": [
            "Epoch 1/5\n",
            "450/450 [==============================] - 7s 16ms/step - loss: 0.5596 - accuracy: 0.7704 - val_loss: 0.6068 - val_accuracy: 0.7603\n",
            "Epoch 2/5\n",
            "450/450 [==============================] - 7s 15ms/step - loss: 0.5319 - accuracy: 0.7808 - val_loss: 0.6024 - val_accuracy: 0.7517\n",
            "Epoch 3/5\n",
            "450/450 [==============================] - 7s 16ms/step - loss: 0.5165 - accuracy: 0.7948 - val_loss: 0.6076 - val_accuracy: 0.7722\n",
            "Epoch 4/5\n",
            "450/450 [==============================] - 7s 15ms/step - loss: 0.5040 - accuracy: 0.7963 - val_loss: 0.5821 - val_accuracy: 0.7764\n",
            "Epoch 5/5\n",
            "450/450 [==============================] - 7s 15ms/step - loss: 0.4923 - accuracy: 0.8056 - val_loss: 0.5596 - val_accuracy: 0.7825\n"
          ],
          "name": "stdout"
        },
        {
          "output_type": "execute_result",
          "data": {
            "text/plain": [
              "<tensorflow.python.keras.callbacks.History at 0x7fd0885a8828>"
            ]
          },
          "metadata": {
            "tags": []
          },
          "execution_count": 13
        }
      ]
    },
    {
      "cell_type": "code",
      "metadata": {
        "id": "eGbt7xukwy2I",
        "colab": {
          "base_uri": "https://localhost:8080/"
        },
        "outputId": "70149c67-f378-4cbe-f6ff-3424db01053d"
      },
      "source": [
        "# Since val_loss still decreass train for 5 epochs\n",
        "learner_ft.fit(learner_ft.lr_estimate()[1], 5)"
      ],
      "execution_count": null,
      "outputs": [
        {
          "output_type": "stream",
          "text": [
            "Epoch 1/5\n",
            "450/450 [==============================] - 7s 16ms/step - loss: 0.4712 - accuracy: 0.8141 - val_loss: 0.5589 - val_accuracy: 0.7964\n",
            "Epoch 2/5\n",
            "450/450 [==============================] - 7s 16ms/step - loss: 0.4573 - accuracy: 0.8222 - val_loss: 0.5507 - val_accuracy: 0.7914\n",
            "Epoch 3/5\n",
            "450/450 [==============================] - 7s 15ms/step - loss: 0.4501 - accuracy: 0.8276 - val_loss: 0.5706 - val_accuracy: 0.7892\n",
            "Epoch 4/5\n",
            "450/450 [==============================] - 7s 15ms/step - loss: 0.4317 - accuracy: 0.8346 - val_loss: 0.5589 - val_accuracy: 0.7958\n",
            "Epoch 5/5\n",
            "450/450 [==============================] - 7s 15ms/step - loss: 0.4256 - accuracy: 0.8342 - val_loss: 0.5477 - val_accuracy: 0.7883\n"
          ],
          "name": "stdout"
        },
        {
          "output_type": "execute_result",
          "data": {
            "text/plain": [
              "<tensorflow.python.keras.callbacks.History at 0x7fd0884cfc18>"
            ]
          },
          "metadata": {
            "tags": []
          },
          "execution_count": 14
        }
      ]
    },
    {
      "cell_type": "markdown",
      "metadata": {
        "id": "IRHUsEgHwy2I"
      },
      "source": [
        "## Applying the logreg model: (mod_18)"
      ]
    },
    {
      "cell_type": "code",
      "metadata": {
        "id": "KWmje2d8wy2I",
        "colab": {
          "base_uri": "https://localhost:8080/"
        },
        "outputId": "7d83bf07-3db5-411b-d88a-2c7824cd2b96"
      },
      "source": [
        "logreg = text.text_classifier(\"logreg\", trn, preproc=preproc)"
      ],
      "execution_count": null,
      "outputs": [
        {
          "output_type": "stream",
          "text": [
            "Is Multi-Label? False\n",
            "compiling word ID features...\n",
            "maxlen is 512\n",
            "done.\n"
          ],
          "name": "stdout"
        }
      ]
    },
    {
      "cell_type": "code",
      "metadata": {
        "id": "w1DnmlPTwy2J"
      },
      "source": [
        "learner_log = ktrain.get_learner(logreg, train_data=trn, val_data=val)"
      ],
      "execution_count": null,
      "outputs": []
    },
    {
      "cell_type": "code",
      "metadata": {
        "id": "VjIioUdFwy2J",
        "colab": {
          "base_uri": "https://localhost:8080/",
          "height": 636
        },
        "outputId": "586dc284-f24d-4657-e824-654ac009afaf"
      },
      "source": [
        "learner_log.lr_find(show_plot=True, max_epochs=10)"
      ],
      "execution_count": null,
      "outputs": [
        {
          "output_type": "stream",
          "text": [
            "simulating training for different learning rates... this may take a few moments...\n",
            "Epoch 1/10\n",
            "450/450 [==============================] - 2s 4ms/step - loss: 1.1283 - accuracy: 0.3269\n",
            "Epoch 2/10\n",
            "450/450 [==============================] - 2s 4ms/step - loss: 1.1303 - accuracy: 0.3206\n",
            "Epoch 3/10\n",
            "450/450 [==============================] - 2s 4ms/step - loss: 1.1122 - accuracy: 0.3440\n",
            "Epoch 4/10\n",
            "450/450 [==============================] - 2s 4ms/step - loss: 1.0617 - accuracy: 0.4324\n",
            "Epoch 5/10\n",
            "450/450 [==============================] - 2s 4ms/step - loss: 0.8981 - accuracy: 0.6528\n",
            "Epoch 6/10\n",
            "450/450 [==============================] - 2s 4ms/step - loss: 0.6061 - accuracy: 0.8104\n",
            "Epoch 7/10\n",
            "450/450 [==============================] - 2s 4ms/step - loss: 0.4683 - accuracy: 0.8462\n",
            "Epoch 8/10\n",
            "450/450 [==============================] - 0s 1ms/step - loss: 1.7822 - accuracy: 0.7588\n",
            "\n",
            "\n",
            "done.\n",
            "Visually inspect loss plot and select learning rate associated with falling loss\n"
          ],
          "name": "stdout"
        },
        {
          "output_type": "display_data",
          "data": {
            "image/png": "[encoded data removed]",
            "text/plain": [
              "<Figure size 432x288 with 1 Axes>"
            ]
          },
          "metadata": {
            "tags": [],
            "needs_background": "light"
          }
        }
      ]
    },
    {
      "cell_type": "code",
      "metadata": {
        "id": "mbY58Bbwwy2J",
        "colab": {
          "base_uri": "https://localhost:8080/"
        },
        "outputId": "8d1ccb56-39e0-436c-9f00-79ecd0536a37"
      },
      "source": [
        "learner_log.lr_estimate()"
      ],
      "execution_count": null,
      "outputs": [
        {
          "output_type": "execute_result",
          "data": {
            "text/plain": [
              "(0.0055349097, 0.001065503992140293)"
            ]
          },
          "metadata": {
            "tags": []
          },
          "execution_count": 18
        }
      ]
    },
    {
      "cell_type": "code",
      "metadata": {
        "id": "oUJ6Fzvtwy2J",
        "colab": {
          "base_uri": "https://localhost:8080/"
        },
        "outputId": "207a7e5a-0bba-47b1-e604-bb2b376bda15"
      },
      "source": [
        "learner_log.fit(learner_log.lr_estimate()[1], 10)"
      ],
      "execution_count": null,
      "outputs": [
        {
          "output_type": "stream",
          "text": [
            "Epoch 1/10\n",
            "450/450 [==============================] - 2s 5ms/step - loss: 0.7877 - accuracy: 0.6755 - val_loss: 0.6316 - val_accuracy: 0.7811\n",
            "Epoch 2/10\n",
            "450/450 [==============================] - 2s 4ms/step - loss: 0.4476 - accuracy: 0.8744 - val_loss: 0.5451 - val_accuracy: 0.8092\n",
            "Epoch 3/10\n",
            "450/450 [==============================] - 2s 4ms/step - loss: 0.3273 - accuracy: 0.9255 - val_loss: 0.5119 - val_accuracy: 0.8172\n",
            "Epoch 4/10\n",
            "450/450 [==============================] - 2s 4ms/step - loss: 0.2546 - accuracy: 0.9517 - val_loss: 0.4953 - val_accuracy: 0.8236\n",
            "Epoch 5/10\n",
            "450/450 [==============================] - 2s 4ms/step - loss: 0.2064 - accuracy: 0.9687 - val_loss: 0.4892 - val_accuracy: 0.8275\n",
            "Epoch 6/10\n",
            "450/450 [==============================] - 2s 4ms/step - loss: 0.1711 - accuracy: 0.9774 - val_loss: 0.4917 - val_accuracy: 0.8264\n",
            "Epoch 7/10\n",
            "450/450 [==============================] - 2s 4ms/step - loss: 0.1440 - accuracy: 0.9833 - val_loss: 0.4955 - val_accuracy: 0.8269\n",
            "Epoch 8/10\n",
            "450/450 [==============================] - 2s 4ms/step - loss: 0.1221 - accuracy: 0.9887 - val_loss: 0.5018 - val_accuracy: 0.8281\n",
            "Epoch 9/10\n",
            "450/450 [==============================] - 2s 4ms/step - loss: 0.1039 - accuracy: 0.9924 - val_loss: 0.5155 - val_accuracy: 0.8258\n",
            "Epoch 10/10\n",
            "450/450 [==============================] - 2s 4ms/step - loss: 0.0889 - accuracy: 0.9940 - val_loss: 0.5314 - val_accuracy: 0.8247\n"
          ],
          "name": "stdout"
        },
        {
          "output_type": "execute_result",
          "data": {
            "text/plain": [
              "<tensorflow.python.keras.callbacks.History at 0x7fd084766160>"
            ]
          },
          "metadata": {
            "tags": []
          },
          "execution_count": 19
        }
      ]
    },
    {
      "cell_type": "markdown",
      "metadata": {
        "id": "k5Opjwz2wy2J"
      },
      "source": [
        "## Applying the nbsvm model: (mod_19)"
      ]
    },
    {
      "cell_type": "code",
      "metadata": {
        "id": "7vt1D5DUwy2K",
        "colab": {
          "base_uri": "https://localhost:8080/"
        },
        "outputId": "bb93b3c5-d02c-44d6-c33e-96670e987193"
      },
      "source": [
        "nbsvm = text.text_classifier(\"nbsvm\", trn, preproc=preproc)"
      ],
      "execution_count": null,
      "outputs": [
        {
          "output_type": "stream",
          "text": [
            "Is Multi-Label? False\n",
            "compiling word ID features...\n",
            "maxlen is 512\n",
            "building document-term matrix... this may take a few moments...\n",
            "rows: 1-10000\n",
            "rows: 10001-14400\n",
            "computing log-count ratios...\n",
            "done.\n"
          ],
          "name": "stdout"
        }
      ]
    },
    {
      "cell_type": "code",
      "metadata": {
        "id": "m-XYvedFwy2K"
      },
      "source": [
        "learner_nbsvm = ktrain.get_learner(nbsvm, train_data=trn, val_data=val)"
      ],
      "execution_count": null,
      "outputs": []
    },
    {
      "cell_type": "code",
      "metadata": {
        "id": "3UkYrvImwy2K",
        "colab": {
          "base_uri": "https://localhost:8080/",
          "height": 636
        },
        "outputId": "72419f9f-d9bb-41c3-924a-d7ce833b2b47"
      },
      "source": [
        "learner_nbsvm.lr_find(show_plot=True, max_epochs=10)"
      ],
      "execution_count": null,
      "outputs": [
        {
          "output_type": "stream",
          "text": [
            "simulating training for different learning rates... this may take a few moments...\n",
            "Epoch 1/10\n",
            "450/450 [==============================] - 2s 4ms/step - loss: 1.1117 - accuracy: 0.3706\n",
            "Epoch 2/10\n",
            "450/450 [==============================] - 2s 4ms/step - loss: 1.1134 - accuracy: 0.3640\n",
            "Epoch 3/10\n",
            "450/450 [==============================] - 2s 4ms/step - loss: 1.0964 - accuracy: 0.3913\n",
            "Epoch 4/10\n",
            "450/450 [==============================] - 2s 4ms/step - loss: 1.0381 - accuracy: 0.5136\n",
            "Epoch 5/10\n",
            "450/450 [==============================] - 2s 4ms/step - loss: 0.8572 - accuracy: 0.7370\n",
            "Epoch 6/10\n",
            "450/450 [==============================] - 2s 4ms/step - loss: 0.5692 - accuracy: 0.8351\n",
            "Epoch 7/10\n",
            "450/450 [==============================] - 2s 4ms/step - loss: 0.3624 - accuracy: 0.8892\n",
            "Epoch 8/10\n",
            "450/450 [==============================] - 2s 4ms/step - loss: 0.7924 - accuracy: 0.8512\n",
            "\n",
            "\n",
            "done.\n",
            "Visually inspect loss plot and select learning rate associated with falling loss\n"
          ],
          "name": "stdout"
        },
        {
          "output_type": "display_data",
          "data": {
            "image/png": "[encoded data removed]",
            "text/plain": [
              "<Figure size 432x288 with 1 Axes>"
            ]
          },
          "metadata": {
            "tags": [],
            "needs_background": "light"
          }
        }
      ]
    },
    {
      "cell_type": "code",
      "metadata": {
        "id": "2fuQju-ewy2L",
        "colab": {
          "base_uri": "https://localhost:8080/"
        },
        "outputId": "f1ab47a5-1977-4ccf-eff2-4263be314526"
      },
      "source": [
        "learner_nbsvm.lr_estimate()"
      ],
      "execution_count": null,
      "outputs": [
        {
          "output_type": "execute_result",
          "data": {
            "text/plain": [
              "(0.0055349097, 0.001302165724337101)"
            ]
          },
          "metadata": {
            "tags": []
          },
          "execution_count": 23
        }
      ]
    },
    {
      "cell_type": "code",
      "metadata": {
        "id": "C2pynd7gwy2L",
        "colab": {
          "base_uri": "https://localhost:8080/"
        },
        "outputId": "a0850307-48e0-4067-ceb1-554334630794"
      },
      "source": [
        "learner_nbsvm.fit(learner_nbsvm.lr_estimate()[1], 10)"
      ],
      "execution_count": null,
      "outputs": [
        {
          "output_type": "stream",
          "text": [
            "Epoch 1/10\n",
            "450/450 [==============================] - 2s 4ms/step - loss: 0.6611 - accuracy: 0.7729 - val_loss: 0.5774 - val_accuracy: 0.7939\n",
            "Epoch 2/10\n",
            "450/450 [==============================] - 2s 4ms/step - loss: 0.4199 - accuracy: 0.8749 - val_loss: 0.5276 - val_accuracy: 0.8125\n",
            "Epoch 3/10\n",
            "450/450 [==============================] - 2s 4ms/step - loss: 0.3379 - accuracy: 0.9054 - val_loss: 0.4895 - val_accuracy: 0.8189\n",
            "Epoch 4/10\n",
            "450/450 [==============================] - 2s 4ms/step - loss: 0.2873 - accuracy: 0.9271 - val_loss: 0.4796 - val_accuracy: 0.8194\n",
            "Epoch 5/10\n",
            "450/450 [==============================] - 2s 4ms/step - loss: 0.2517 - accuracy: 0.9381 - val_loss: 0.4730 - val_accuracy: 0.8242\n",
            "Epoch 6/10\n",
            "450/450 [==============================] - 2s 4ms/step - loss: 0.2240 - accuracy: 0.9484 - val_loss: 0.4726 - val_accuracy: 0.8253\n",
            "Epoch 7/10\n",
            "450/450 [==============================] - 2s 4ms/step - loss: 0.2012 - accuracy: 0.9562 - val_loss: 0.4785 - val_accuracy: 0.8261\n",
            "Epoch 8/10\n",
            "450/450 [==============================] - 2s 4ms/step - loss: 0.1825 - accuracy: 0.9611 - val_loss: 0.4815 - val_accuracy: 0.8247\n",
            "Epoch 9/10\n",
            "450/450 [==============================] - 2s 4ms/step - loss: 0.1663 - accuracy: 0.9663 - val_loss: 0.4886 - val_accuracy: 0.8242\n",
            "Epoch 10/10\n",
            "450/450 [==============================] - 2s 4ms/step - loss: 0.1522 - accuracy: 0.9699 - val_loss: 0.5006 - val_accuracy: 0.8236\n"
          ],
          "name": "stdout"
        },
        {
          "output_type": "execute_result",
          "data": {
            "text/plain": [
              "<tensorflow.python.keras.callbacks.History at 0x7fd0845e6550>"
            ]
          },
          "metadata": {
            "tags": []
          },
          "execution_count": 24
        }
      ]
    },
    {
      "cell_type": "markdown",
      "metadata": {
        "id": "nbIEkkLzwy2M"
      },
      "source": [
        "## Applying the bigru model: (mod_20)"
      ]
    },
    {
      "cell_type": "code",
      "metadata": {
        "id": "iavyCLKiwy2M",
        "colab": {
          "base_uri": "https://localhost:8080/",
          "height": 269
        },
        "outputId": "2ac7d27b-df4b-4a46-c7f3-8b270752ece8"
      },
      "source": [
        "bigru = text.text_classifier(\"bigru\", trn, preproc=preproc)"
      ],
      "execution_count": null,
      "outputs": [
        {
          "output_type": "stream",
          "text": [
            "Is Multi-Label? False\n",
            "compiling word ID features...\n",
            "maxlen is 512\n",
            "word vectors will be loaded from: https://dl.fbaipublicfiles.com/fasttext/vectors-crawl/cc.de.300.vec.gz\n",
            "processing pretrained word vectors...\n",
            "downloading pretrained word vectors to /root/ktrain_data ...\n",
            "[██████████████████████████████████████████████████]\n",
            "extracting pretrained word vectors...\n",
            "done.\n",
            "\n",
            "cleanup downloaded zip...\n",
            "done.\n",
            "\n",
            "loading pretrained word vectors...this may take a few moments...\n"
          ],
          "name": "stdout"
        },
        {
          "output_type": "display_data",
          "data": {
            "text/html": [
              ""
            ],
            "text/plain": [
              "<IPython.core.display.HTML object>"
            ]
          },
          "metadata": {
            "tags": []
          }
        },
        {
          "output_type": "stream",
          "text": [
            "done.\n"
          ],
          "name": "stdout"
        }
      ]
    },
    {
      "cell_type": "code",
      "metadata": {
        "id": "HqUeAAvFwy2M"
      },
      "source": [
        "learner_bigru = ktrain.get_learner(bigru, train_data=trn, val_data=val)"
      ],
      "execution_count": null,
      "outputs": []
    },
    {
      "cell_type": "code",
      "metadata": {
        "id": "7d_zdeGOwy2N",
        "colab": {
          "base_uri": "https://localhost:8080/",
          "height": 703
        },
        "outputId": "747fbd00-446c-4af7-cfd4-f75746f5b29d"
      },
      "source": [
        "learner_bigru.lr_find(show_plot=True, max_epochs=10)"
      ],
      "execution_count": null,
      "outputs": [
        {
          "output_type": "stream",
          "text": [
            "simulating training for different learning rates... this may take a few moments...\n",
            "Epoch 1/10\n",
            "450/450 [==============================] - 56s 108ms/step - loss: 1.1187 - accuracy: 0.3305\n",
            "Epoch 2/10\n",
            "450/450 [==============================] - 49s 108ms/step - loss: 1.1138 - accuracy: 0.3326\n",
            "Epoch 3/10\n",
            "450/450 [==============================] - 48s 107ms/step - loss: 1.1044 - accuracy: 0.3335\n",
            "Epoch 4/10\n",
            "450/450 [==============================] - 48s 107ms/step - loss: 1.0865 - accuracy: 0.3966\n",
            "Epoch 5/10\n",
            "450/450 [==============================] - 48s 107ms/step - loss: 0.9937 - accuracy: 0.5264\n",
            "Epoch 6/10\n",
            "450/450 [==============================] - 48s 106ms/step - loss: 0.5054 - accuracy: 0.7994\n",
            "Epoch 7/10\n",
            "450/450 [==============================] - 47s 105ms/step - loss: nan - accuracy: 0.8026\n",
            "Epoch 8/10\n",
            "450/450 [==============================] - 47s 105ms/step - loss: nan - accuracy: 0.3368\n",
            "Epoch 9/10\n",
            "450/450 [==============================] - 47s 105ms/step - loss: nan - accuracy: 0.3287\n",
            "Epoch 10/10\n",
            "450/450 [==============================] - 47s 105ms/step - loss: nan - accuracy: 0.3300\n",
            "\n",
            "\n",
            "done.\n",
            "Visually inspect loss plot and select learning rate associated with falling loss\n"
          ],
          "name": "stdout"
        },
        {
          "output_type": "display_data",
          "data": {
            "image/png": "[encoded data removed]",
            "text/plain": [
              "<Figure size 432x288 with 1 Axes>"
            ]
          },
          "metadata": {
            "tags": [],
            "needs_background": "light"
          }
        }
      ]
    },
    {
      "cell_type": "code",
      "metadata": {
        "id": "VvKrVMRuwy2N",
        "colab": {
          "base_uri": "https://localhost:8080/"
        },
        "outputId": "1565c7e6-804c-47f5-d85f-c99fedb9bad4"
      },
      "source": [
        "learner_bigru.lr_estimate()"
      ],
      "execution_count": null,
      "outputs": [
        {
          "output_type": "execute_result",
          "data": {
            "text/plain": [
              "(0.00087722426, 0.0026222025975584985)"
            ]
          },
          "metadata": {
            "tags": []
          },
          "execution_count": 28
        }
      ]
    },
    {
      "cell_type": "code",
      "metadata": {
        "id": "g8hZTSn_wy2N",
        "colab": {
          "base_uri": "https://localhost:8080/"
        },
        "outputId": "50478dce-baa8-48ab-a11d-394cf303904d"
      },
      "source": [
        "learner_bigru.fit(learner_bigru.lr_estimate()[1], 7)"
      ],
      "execution_count": null,
      "outputs": [
        {
          "output_type": "stream",
          "text": [
            "Epoch 1/7\n",
            "450/450 [==============================] - 53s 114ms/step - loss: 0.6967 - accuracy: 0.6897 - val_loss: 0.4890 - val_accuracy: 0.8033\n",
            "Epoch 2/7\n",
            "450/450 [==============================] - 50s 111ms/step - loss: 0.2729 - accuracy: 0.9007 - val_loss: 0.4051 - val_accuracy: 0.8481\n",
            "Epoch 3/7\n",
            "450/450 [==============================] - 50s 110ms/step - loss: 0.0512 - accuracy: 0.9869 - val_loss: 0.5119 - val_accuracy: 0.8450\n",
            "Epoch 4/7\n",
            "450/450 [==============================] - 50s 112ms/step - loss: 0.0068 - accuracy: 0.9992 - val_loss: 0.6113 - val_accuracy: 0.8478\n",
            "Epoch 5/7\n",
            "450/450 [==============================] - 50s 111ms/step - loss: 0.0011 - accuracy: 1.0000 - val_loss: 0.6637 - val_accuracy: 0.8483\n",
            "Epoch 6/7\n",
            "450/450 [==============================] - 50s 112ms/step - loss: 3.7957e-04 - accuracy: 1.0000 - val_loss: 0.7063 - val_accuracy: 0.8464\n",
            "Epoch 7/7\n",
            "450/450 [==============================] - 50s 111ms/step - loss: 2.1408e-04 - accuracy: 1.0000 - val_loss: 0.7386 - val_accuracy: 0.8458\n"
          ],
          "name": "stdout"
        },
        {
          "output_type": "execute_result",
          "data": {
            "text/plain": [
              "<tensorflow.python.keras.callbacks.History at 0x7fd0601c8940>"
            ]
          },
          "metadata": {
            "tags": []
          },
          "execution_count": 29
        }
      ]
    },
    {
      "cell_type": "markdown",
      "metadata": {
        "id": "WKwLuugNwy2O"
      },
      "source": [
        "## Applying the standard gru: (mod_21)"
      ]
    },
    {
      "cell_type": "code",
      "metadata": {
        "id": "2ulPth8kwy2O",
        "colab": {
          "base_uri": "https://localhost:8080/"
        },
        "outputId": "58935514-bea1-4659-f41d-7174b4e93580"
      },
      "source": [
        "stgru = text.text_classifier(\"standard_gru\", trn, preproc=preproc)"
      ],
      "execution_count": null,
      "outputs": [
        {
          "output_type": "stream",
          "text": [
            "Is Multi-Label? False\n",
            "compiling word ID features...\n",
            "maxlen is 512\n",
            "done.\n"
          ],
          "name": "stdout"
        }
      ]
    },
    {
      "cell_type": "code",
      "metadata": {
        "id": "vy-eI79ewy2O"
      },
      "source": [
        "learner_stgru = ktrain.get_learner(stgru, train_data=trn, val_data=val)"
      ],
      "execution_count": null,
      "outputs": []
    },
    {
      "cell_type": "code",
      "metadata": {
        "id": "HKNbxFyNwy2O",
        "colab": {
          "base_uri": "https://localhost:8080/",
          "height": 703
        },
        "outputId": "571e403a-e63c-4909-8b3a-daf4e4238fec"
      },
      "source": [
        "learner_stgru.lr_find(show_plot=True, max_epochs=10)"
      ],
      "execution_count": null,
      "outputs": [
        {
          "output_type": "stream",
          "text": [
            "simulating training for different learning rates... this may take a few moments...\n",
            "Epoch 1/10\n",
            "450/450 [==============================] - 52s 112ms/step - loss: 1.0999 - accuracy: 0.3385\n",
            "Epoch 2/10\n",
            "450/450 [==============================] - 50s 111ms/step - loss: 1.0995 - accuracy: 0.3374\n",
            "Epoch 3/10\n",
            "450/450 [==============================] - 50s 111ms/step - loss: 1.1000 - accuracy: 0.3350\n",
            "Epoch 4/10\n",
            "450/450 [==============================] - 50s 112ms/step - loss: 1.0998 - accuracy: 0.3376\n",
            "Epoch 5/10\n",
            "450/450 [==============================] - 50s 111ms/step - loss: 1.0852 - accuracy: 0.3905\n",
            "Epoch 6/10\n",
            "450/450 [==============================] - 50s 111ms/step - loss: 0.9682 - accuracy: 0.5150\n",
            "Epoch 7/10\n",
            "450/450 [==============================] - 50s 110ms/step - loss: nan - accuracy: 0.3339\n",
            "Epoch 8/10\n",
            "450/450 [==============================] - 49s 109ms/step - loss: nan - accuracy: 0.3302\n",
            "Epoch 9/10\n",
            "450/450 [==============================] - 49s 109ms/step - loss: nan - accuracy: 0.3353\n",
            "Epoch 10/10\n",
            "450/450 [==============================] - 49s 108ms/step - loss: nan - accuracy: 0.3315\n",
            "\n",
            "\n",
            "done.\n",
            "Visually inspect loss plot and select learning rate associated with falling loss\n"
          ],
          "name": "stdout"
        },
        {
          "output_type": "display_data",
          "data": {
            "image/png": "[encoded data removed]",
            "text/plain": [
              "<Figure size 432x288 with 1 Axes>"
            ]
          },
          "metadata": {
            "tags": [],
            "needs_background": "light"
          }
        }
      ]
    },
    {
      "cell_type": "code",
      "metadata": {
        "id": "uuLeSHDSwy2O",
        "colab": {
          "base_uri": "https://localhost:8080/"
        },
        "outputId": "97a6e801-48db-4436-b927-24f7cdd16ab3"
      },
      "source": [
        "learner_stgru.lr_estimate()"
      ],
      "execution_count": null,
      "outputs": [
        {
          "output_type": "execute_result",
          "data": {
            "text/plain": [
              "(0.00087722426, 0.0010061579756438731)"
            ]
          },
          "metadata": {
            "tags": []
          },
          "execution_count": 33
        }
      ]
    },
    {
      "cell_type": "code",
      "metadata": {
        "id": "a0DUJJcVwy2P",
        "colab": {
          "base_uri": "https://localhost:8080/"
        },
        "outputId": "3a8a2f30-6157-49ed-c346-12a9d2dae7ef"
      },
      "source": [
        "learner_stgru.fit(learner_stgru.lr_estimate()[1], 10)"
      ],
      "execution_count": null,
      "outputs": [
        {
          "output_type": "stream",
          "text": [
            "Epoch 1/10\n",
            "450/450 [==============================] - 56s 121ms/step - loss: 1.0591 - accuracy: 0.4104 - val_loss: 0.9292 - val_accuracy: 0.5356\n",
            "Epoch 2/10\n",
            "450/450 [==============================] - 54s 120ms/step - loss: 0.8764 - accuracy: 0.5774 - val_loss: 0.7795 - val_accuracy: 0.6514\n",
            "Epoch 3/10\n",
            "450/450 [==============================] - 54s 121ms/step - loss: 0.6852 - accuracy: 0.6982 - val_loss: 0.6564 - val_accuracy: 0.7067\n",
            "Epoch 4/10\n",
            "450/450 [==============================] - 54s 120ms/step - loss: 0.5026 - accuracy: 0.7935 - val_loss: 0.5390 - val_accuracy: 0.7889\n",
            "Epoch 5/10\n",
            "450/450 [==============================] - 54s 120ms/step - loss: 0.3853 - accuracy: 0.8487 - val_loss: 0.5354 - val_accuracy: 0.7939\n",
            "Epoch 6/10\n",
            "450/450 [==============================] - 54s 120ms/step - loss: 0.3059 - accuracy: 0.8797 - val_loss: 0.4900 - val_accuracy: 0.8103\n",
            "Epoch 7/10\n",
            "450/450 [==============================] - 54s 119ms/step - loss: 0.2495 - accuracy: 0.9044 - val_loss: 0.4765 - val_accuracy: 0.8319\n",
            "Epoch 8/10\n",
            "450/450 [==============================] - 54s 120ms/step - loss: 0.2161 - accuracy: 0.9189 - val_loss: 0.4862 - val_accuracy: 0.8319\n",
            "Epoch 9/10\n",
            "450/450 [==============================] - 54s 120ms/step - loss: 0.1775 - accuracy: 0.9328 - val_loss: 0.5120 - val_accuracy: 0.8356\n",
            "Epoch 10/10\n",
            "450/450 [==============================] - 54s 120ms/step - loss: 0.1551 - accuracy: 0.9403 - val_loss: 0.5226 - val_accuracy: 0.8364\n"
          ],
          "name": "stdout"
        },
        {
          "output_type": "execute_result",
          "data": {
            "text/plain": [
              "<tensorflow.python.keras.callbacks.History at 0x7fd090920710>"
            ]
          },
          "metadata": {
            "tags": []
          },
          "execution_count": 34
        }
      ]
    },
    {
      "cell_type": "code",
      "metadata": {
        "id": "nZfaN10iwy2P"
      },
      "source": [
        ""
      ],
      "execution_count": null,
      "outputs": []
    }
  ]
}